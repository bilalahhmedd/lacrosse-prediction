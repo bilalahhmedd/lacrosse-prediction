{
 "cells": [
  {
   "cell_type": "code",
   "execution_count": null,
   "metadata": {},
   "outputs": [],
   "source": [
    "\"\"\" this notebook provides etl to extract and transform club ranking data\"\"\""
   ]
  },
  {
   "cell_type": "code",
   "execution_count": null,
   "metadata": {},
   "outputs": [],
   "source": [
    "import os\n",
    "import pandas as pd\n",
    "import sys"
   ]
  },
  {
   "cell_type": "code",
   "execution_count": null,
   "metadata": {},
   "outputs": [],
   "source": [
    "from data_helper import get_csv_dataframes_from_folder\n",
    "from data_helper import map_col_names\n",
    "from data_helper import identify_gender\n",
    "from etl_helper import create_data_folders\n",
    "from etl_helper import process_raw_to_bronze, process_bronze_to_silver, process_silver_to_gold"
   ]
  },
  {
   "cell_type": "code",
   "execution_count": null,
   "metadata": {},
   "outputs": [],
   "source": [
    "WRITE_FLAG=True"
   ]
  },
  {
   "cell_type": "code",
   "execution_count": null,
   "metadata": {},
   "outputs": [],
   "source": [
    "CATEGORY_NAME = 'schools_ranking'\n",
    "DATA_FOLDER_PATH='../data/'\n",
    "RAW_FOLDER_PATH = os.path.join(DATA_FOLDER_PATH,CATEGORY_NAME,'raw')\n",
    "BRONZE_FOLDER_PATH = os.path.join(DATA_FOLDER_PATH,CATEGORY_NAME,'bronze')\n",
    "SILVER_FOLDER_PATH = os.path.join(DATA_FOLDER_PATH,CATEGORY_NAME,'silver')\n",
    "GOLD_FOLDER_PATH = os.path.join(DATA_FOLDER_PATH,CATEGORY_NAME,'gold')\n",
    "FINAL_STAGE_FOLDER_PATH = os.path.join(DATA_FOLDER_PATH,'final_stage')\n",
    "\n",
    "SOURCE_FOLDERS = ['laxmath','insidelacrosse']"
   ]
  },
  {
   "cell_type": "markdown",
   "metadata": {},
   "source": [
    "#### Create Data Folders for category"
   ]
  },
  {
   "cell_type": "code",
   "execution_count": null,
   "metadata": {},
   "outputs": [],
   "source": [
    "create_data_folders(CATEGORY_NAME,DATA_FOLDER_PATH,SOURCE_FOLDERS)"
   ]
  },
  {
   "cell_type": "markdown",
   "metadata": {},
   "source": [
    "##### process raw data to bronze layer\n"
   ]
  },
  {
   "cell_type": "code",
   "execution_count": null,
   "metadata": {},
   "outputs": [],
   "source": [
    "columns_map = {\n",
    "    'champ_%_rank':'rank',\n",
    "    'pr':'powerRating',\n",
    "    'sos-pr':'strengthOfSchedulePR',\n",
    "    'qwf-pr':'qualityWinFactorPR',\n",
    "    'champ_%':'championshipPercentage',\n",
    "    'rpi':'ratingPercentageIndex',\n",
    "    'sos-rpi':'strengthOfScheduleRPI',\n",
    "    'qwf-rpi':'qualityWinFactorRPI',\n",
    "    'selection':'selection',\n",
    "    'champion_%':'championPercentage',\n",
    "    'web_source':'webSource',\n",
    "    }"
   ]
  },
  {
   "cell_type": "code",
   "execution_count": null,
   "metadata": {},
   "outputs": [],
   "source": [
    "process_raw_to_bronze(RAW_FOLDER_PATH,BRONZE_FOLDER_PATH)"
   ]
  },
  {
   "cell_type": "markdown",
   "metadata": {},
   "source": [
    "##### add gender, division column in each file in bronze layer"
   ]
  },
  {
   "cell_type": "code",
   "execution_count": null,
   "metadata": {},
   "outputs": [],
   "source": [
    "print('processing bronze folder')\n",
    "for folder in os.listdir(BRONZE_FOLDER_PATH):\n",
    "    print(folder)\n",
    "    bronze_dfs_dict = get_csv_dataframes_from_folder(os.path.join(BRONZE_FOLDER_PATH,folder))\n",
    "    for file_name, df in bronze_dfs_dict.items():\n",
    "        print(file_name)\n",
    "        if 'gender' not in df.columns:\n",
    "            df['gender']=identify_gender(file_name)+'s'\n",
    "            print('gender column added')\n",
    "        df.to_csv(os.path.join(BRONZE_FOLDER_PATH,folder,file_name),index=False)\n",
    "    print('success')"
   ]
  },
  {
   "cell_type": "markdown",
   "metadata": {},
   "source": [
    "### process from bronze to silver"
   ]
  },
  {
   "cell_type": "code",
   "execution_count": null,
   "metadata": {},
   "outputs": [],
   "source": [
    "process_bronze_to_silver(BRONZE_FOLDER_PATH,SILVER_FOLDER_PATH)"
   ]
  },
  {
   "cell_type": "markdown",
   "metadata": {},
   "source": [
    "#### Process from silver to gold layer"
   ]
  },
  {
   "cell_type": "code",
   "execution_count": null,
   "metadata": {},
   "outputs": [],
   "source": [
    "process_silver_to_gold(SILVER_FOLDER_PATH,GOLD_FOLDER_PATH,f'{CATEGORY_NAME}.csv')"
   ]
  },
  {
   "cell_type": "markdown",
   "metadata": {},
   "source": [
    "#### Process from silver layer to final stage"
   ]
  },
  {
   "cell_type": "code",
   "execution_count": null,
   "metadata": {},
   "outputs": [],
   "source": [
    "gold_dfs_dict = get_csv_dataframes_from_folder(SILVER_FOLDER_PATH)\n",
    "dataframe=gold_dfs_dict['laxmath.csv']\n"
   ]
  },
  {
   "cell_type": "code",
   "execution_count": null,
   "metadata": {},
   "outputs": [],
   "source": [
    "dataframe['winRatio']= dataframe['team'].map(lambda x: x.split('( ')[1].split(' )')[0] if (type(x)==str and '(' in x) else None)\n",
    "dataframe"
   ]
  },
  {
   "cell_type": "code",
   "execution_count": null,
   "metadata": {},
   "outputs": [],
   "source": [
    "dataframe['team']=dataframe['team'].map(lambda x: x.split('( ')[0] if type(x)==str else x)\n",
    "dataframe"
   ]
  },
  {
   "cell_type": "code",
   "execution_count": null,
   "metadata": {},
   "outputs": [],
   "source": [
    "dataframe['champ_%']=dataframe['champ_%'].map(lambda y: float(y.split('%')[0].replace(' ','')) if type(y)==str else y)\n",
    "dataframe"
   ]
  },
  {
   "cell_type": "code",
   "execution_count": null,
   "metadata": {},
   "outputs": [],
   "source": [
    "dataframe=map_col_names(dataframe,columns_map)\n",
    "dataframe"
   ]
  },
  {
   "cell_type": "code",
   "execution_count": null,
   "metadata": {},
   "outputs": [],
   "source": [
    "dataframe"
   ]
  },
  {
   "cell_type": "code",
   "execution_count": null,
   "metadata": {},
   "outputs": [],
   "source": [
    "if WRITE_FLAG:\n",
    "    dataframe.to_csv(os.path.join(FINAL_STAGE_FOLDER_PATH,f'{CATEGORY_NAME}.csv'),index=False)\n"
   ]
  },
  {
   "cell_type": "code",
   "execution_count": null,
   "metadata": {},
   "outputs": [],
   "source": []
  }
 ],
 "metadata": {
  "kernelspec": {
   "display_name": "Python 3",
   "language": "python",
   "name": "python3"
  },
  "language_info": {
   "codemirror_mode": {
    "name": "ipython",
    "version": 3
   },
   "file_extension": ".py",
   "mimetype": "text/x-python",
   "name": "python",
   "nbconvert_exporter": "python",
   "pygments_lexer": "ipython3",
   "version": "3.8.10"
  }
 },
 "nbformat": 4,
 "nbformat_minor": 2
}
