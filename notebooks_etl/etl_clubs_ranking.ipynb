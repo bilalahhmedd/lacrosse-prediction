{
 "cells": [
  {
   "cell_type": "code",
   "execution_count": null,
   "metadata": {},
   "outputs": [],
   "source": [
    "\"\"\" this notebook provides etl to extract and transform club ranking data\"\"\""
   ]
  },
  {
   "cell_type": "code",
   "execution_count": null,
   "metadata": {},
   "outputs": [],
   "source": [
    "import os\n",
    "import pandas as pd\n",
    "import sys"
   ]
  },
  {
   "cell_type": "code",
   "execution_count": null,
   "metadata": {},
   "outputs": [],
   "source": [
    "from data_helper import get_csv_dataframes_from_folder\n",
    "from data_helper import to_camel_case\n",
    "from data_helper import identify_gender\n",
    "from etl_helper import create_data_folders\n",
    "from etl_helper import process_raw_to_bronze, process_bronze_to_silver, process_silver_to_gold"
   ]
  },
  {
   "cell_type": "code",
   "execution_count": null,
   "metadata": {},
   "outputs": [],
   "source": [
    "WRITE_FLAG=True"
   ]
  },
  {
   "cell_type": "code",
   "execution_count": null,
   "metadata": {},
   "outputs": [],
   "source": [
    "CATEGORY_NAME = 'club_ranking'\n",
    "DATA_FOLDER_PATH='../data/'\n",
    "RAW_FOLDER_PATH = os.path.join(DATA_FOLDER_PATH,CATEGORY_NAME,'raw')\n",
    "BRONZE_FOLDER_PATH = os.path.join(DATA_FOLDER_PATH,CATEGORY_NAME,'bronze')\n",
    "SILVER_FOLDER_PATH = os.path.join(DATA_FOLDER_PATH,CATEGORY_NAME,'silver')\n",
    "GOLD_FOLDER_PATH = os.path.join(DATA_FOLDER_PATH,CATEGORY_NAME,'gold')\n",
    "FINAL_STAGE_FOLDER_PATH = os.path.join(DATA_FOLDER_PATH,'final_stage')\n",
    "\n",
    "SOURCE_FOLDERS = ['insidelacrosse']"
   ]
  },
  {
   "cell_type": "markdown",
   "metadata": {},
   "source": [
    "#### Create Data Folders for category"
   ]
  },
  {
   "cell_type": "code",
   "execution_count": null,
   "metadata": {},
   "outputs": [],
   "source": [
    "create_data_folders(CATEGORY_NAME,DATA_FOLDER_PATH,SOURCE_FOLDERS)"
   ]
  },
  {
   "cell_type": "markdown",
   "metadata": {},
   "source": [
    "##### process raw data to bronze layer\n"
   ]
  },
  {
   "cell_type": "code",
   "execution_count": null,
   "metadata": {},
   "outputs": [],
   "source": [
    "columns_map = {\n",
    "    \n",
    "    }"
   ]
  },
  {
   "cell_type": "code",
   "execution_count": null,
   "metadata": {},
   "outputs": [],
   "source": [
    "process_raw_to_bronze(RAW_FOLDER_PATH,BRONZE_FOLDER_PATH,column_map_flag=True,columns_map=columns_map)"
   ]
  },
  {
   "cell_type": "markdown",
   "metadata": {},
   "source": [
    "##### add gender column in each file in bronze layer"
   ]
  },
  {
   "cell_type": "code",
   "execution_count": null,
   "metadata": {},
   "outputs": [],
   "source": [
    "print('processing bronze folder')\n",
    "for folder in os.listdir(BRONZE_FOLDER_PATH):\n",
    "    print(folder)\n",
    "    bronze_dfs_dict = get_csv_dataframes_from_folder(os.path.join(BRONZE_FOLDER_PATH,folder))\n",
    "    for file_name, df in bronze_dfs_dict.items():\n",
    "        print(file_name)\n",
    "        if 'gender' not in df.columns:\n",
    "            df['gender']=identify_gender(file_name)+'s'\n",
    "            print('gender column added')\n",
    "        clas,season = file_name.split('_')[:2]\n",
    "        if 'class' not in df.columns:\n",
    "            df['class']=clas\n",
    "            print('class column added')\n",
    "        if 'season' not in df.columns:\n",
    "            df['season']=season\n",
    "            print('season column added')\n",
    "        df.to_csv(os.path.join(BRONZE_FOLDER_PATH,folder,file_name),index=False)\n",
    "    print('success')"
   ]
  },
  {
   "cell_type": "markdown",
   "metadata": {},
   "source": [
    "### process from bronze to silver"
   ]
  },
  {
   "cell_type": "code",
   "execution_count": null,
   "metadata": {},
   "outputs": [],
   "source": [
    "process_bronze_to_silver(BRONZE_FOLDER_PATH,SILVER_FOLDER_PATH)"
   ]
  },
  {
   "cell_type": "markdown",
   "metadata": {},
   "source": [
    "#### Process from silver to gold layer"
   ]
  },
  {
   "cell_type": "code",
   "execution_count": null,
   "metadata": {},
   "outputs": [],
   "source": [
    "process_silver_to_gold(SILVER_FOLDER_PATH,GOLD_FOLDER_PATH,f'{CATEGORY_NAME}.csv')"
   ]
  },
  {
   "cell_type": "markdown",
   "metadata": {},
   "source": [
    "#### Process from gold layer to final stage"
   ]
  },
  {
   "cell_type": "code",
   "execution_count": null,
   "metadata": {},
   "outputs": [],
   "source": [
    "gold_dfs_dict = get_csv_dataframes_from_folder(GOLD_FOLDER_PATH)\n",
    "dataframe=gold_dfs_dict[f'{CATEGORY_NAME}.csv']\n",
    "cols_camel_case = [to_camel_case(col) for col in dataframe.columns]\n",
    "dataframe.columns = cols_camel_case\n",
    "dataframe['rank']=dataframe['rank'].map(lambda x: None if x=='--' else x)\n",
    "dataframe['rating']=dataframe['rating'].map(lambda x: None if x=='--' else x)\n"
   ]
  },
  {
   "cell_type": "code",
   "execution_count": null,
   "metadata": {},
   "outputs": [],
   "source": [
    "dataframe"
   ]
  },
  {
   "cell_type": "code",
   "execution_count": null,
   "metadata": {},
   "outputs": [],
   "source": [
    "if WRITE_FLAG:\n",
    "    dataframe.to_csv(os.path.join(FINAL_STAGE_FOLDER_PATH,f'{CATEGORY_NAME}.csv'),index=False)\n"
   ]
  }
 ],
 "metadata": {
  "kernelspec": {
   "display_name": "Python 3",
   "language": "python",
   "name": "python3"
  },
  "language_info": {
   "codemirror_mode": {
    "name": "ipython",
    "version": 3
   },
   "file_extension": ".py",
   "mimetype": "text/x-python",
   "name": "python",
   "nbconvert_exporter": "python",
   "pygments_lexer": "ipython3",
   "version": "3.8.10"
  }
 },
 "nbformat": 4,
 "nbformat_minor": 2
}
