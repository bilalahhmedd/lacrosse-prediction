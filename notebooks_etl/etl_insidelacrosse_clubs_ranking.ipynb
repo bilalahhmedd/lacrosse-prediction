{
 "cells": [
  {
   "cell_type": "code",
   "execution_count": 1,
   "metadata": {},
   "outputs": [
    {
     "data": {
      "text/plain": [
       "' this notebook contains etl for insidelacrosse club ranking data '"
      ]
     },
     "execution_count": 1,
     "metadata": {},
     "output_type": "execute_result"
    }
   ],
   "source": [
    "\"\"\" this notebook contains etl for insidelacrosse club ranking data \"\"\""
   ]
  },
  {
   "cell_type": "code",
   "execution_count": 2,
   "metadata": {},
   "outputs": [],
   "source": [
    "import pandas as pd\n",
    "import os\n",
    "import sys\n",
    "sys.path.insert(3,'../etl/')\n",
    "from data_helper import get_csv_dataframes_from_folder\n",
    "from data_helper import set_col_names_lower,set_col_names_underscore_separated\n",
    "from data_helper import drop_unnamed_columns\n",
    "\n",
    "from urllib.parse import quote\n",
    "from sqlalchemy.engine import create_engine"
   ]
  },
  {
   "cell_type": "code",
   "execution_count": 33,
   "metadata": {},
   "outputs": [],
   "source": [
    "WRITE_LOCAL_FLAG=True\n",
    "WRITE_DB_FLAG=True"
   ]
  },
  {
   "cell_type": "markdown",
   "metadata": {},
   "source": [
    "### Extract"
   ]
  },
  {
   "cell_type": "code",
   "execution_count": 30,
   "metadata": {},
   "outputs": [],
   "source": [
    "# extrat data from raw folder\n",
    "raw_folder_path = '../data/extra/clubranking/insidelacrosse/output/raw/'\n",
    "bronze_folder_path = '../data/extra/clubranking/insidelacrosse/output/bronze/'\n",
    "bronze_file_name = 'clubsranking.csv'\n",
    "dataframe_dict=get_csv_dataframes_from_folder(raw_folder_path)"
   ]
  },
  {
   "cell_type": "markdown",
   "metadata": {},
   "source": [
    "#### Transform"
   ]
  },
  {
   "cell_type": "code",
   "execution_count": 35,
   "metadata": {},
   "outputs": [
    {
     "data": {
      "text/html": [
       "<div>\n",
       "<style scoped>\n",
       "    .dataframe tbody tr th:only-of-type {\n",
       "        vertical-align: middle;\n",
       "    }\n",
       "\n",
       "    .dataframe tbody tr th {\n",
       "        vertical-align: top;\n",
       "    }\n",
       "\n",
       "    .dataframe thead th {\n",
       "        text-align: right;\n",
       "    }\n",
       "</style>\n",
       "<table border=\"1\" class=\"dataframe\">\n",
       "  <thead>\n",
       "    <tr style=\"text-align: right;\">\n",
       "      <th></th>\n",
       "      <th>rank</th>\n",
       "      <th>club</th>\n",
       "      <th>rating</th>\n",
       "      <th>link</th>\n",
       "      <th>class</th>\n",
       "      <th>season</th>\n",
       "      <th>gender</th>\n",
       "      <th>websource</th>\n",
       "    </tr>\n",
       "  </thead>\n",
       "  <tbody>\n",
       "    <tr>\n",
       "      <th>0</th>\n",
       "      <td>--</td>\n",
       "      <td>214LAX DALLAS 2026 VOLT</td>\n",
       "      <td>--</td>\n",
       "      <td>NaN</td>\n",
       "      <td>2026</td>\n",
       "      <td>2024</td>\n",
       "      <td>girls</td>\n",
       "      <td>insidelacrosse</td>\n",
       "    </tr>\n",
       "    <tr>\n",
       "      <th>1</th>\n",
       "      <td>--</td>\n",
       "      <td>315 Elite 2026 Green</td>\n",
       "      <td>--</td>\n",
       "      <td>NaN</td>\n",
       "      <td>2026</td>\n",
       "      <td>2024</td>\n",
       "      <td>girls</td>\n",
       "      <td>insidelacrosse</td>\n",
       "    </tr>\n",
       "    <tr>\n",
       "      <th>2</th>\n",
       "      <td>--</td>\n",
       "      <td>Common Goal 2026</td>\n",
       "      <td>--</td>\n",
       "      <td>NaN</td>\n",
       "      <td>2026</td>\n",
       "      <td>2024</td>\n",
       "      <td>girls</td>\n",
       "      <td>insidelacrosse</td>\n",
       "    </tr>\n",
       "    <tr>\n",
       "      <th>3</th>\n",
       "      <td>--</td>\n",
       "      <td>3d New England 2026</td>\n",
       "      <td>--</td>\n",
       "      <td>NaN</td>\n",
       "      <td>2026</td>\n",
       "      <td>2024</td>\n",
       "      <td>girls</td>\n",
       "      <td>insidelacrosse</td>\n",
       "    </tr>\n",
       "    <tr>\n",
       "      <th>4</th>\n",
       "      <td>--</td>\n",
       "      <td>3d Virginia Metro 2026 Navy</td>\n",
       "      <td>--</td>\n",
       "      <td>NaN</td>\n",
       "      <td>2026</td>\n",
       "      <td>2024</td>\n",
       "      <td>girls</td>\n",
       "      <td>insidelacrosse</td>\n",
       "    </tr>\n",
       "    <tr>\n",
       "      <th>...</th>\n",
       "      <td>...</td>\n",
       "      <td>...</td>\n",
       "      <td>...</td>\n",
       "      <td>...</td>\n",
       "      <td>...</td>\n",
       "      <td>...</td>\n",
       "      <td>...</td>\n",
       "      <td>...</td>\n",
       "    </tr>\n",
       "    <tr>\n",
       "      <th>19</th>\n",
       "      <td>--</td>\n",
       "      <td>NH Tomahawks 2024 Purple</td>\n",
       "      <td>--</td>\n",
       "      <td>NaN</td>\n",
       "      <td>2024</td>\n",
       "      <td>2020</td>\n",
       "      <td>girls</td>\n",
       "      <td>insidelacrosse</td>\n",
       "    </tr>\n",
       "    <tr>\n",
       "      <th>0</th>\n",
       "      <td>--</td>\n",
       "      <td>2 Knights 2028</td>\n",
       "      <td>--</td>\n",
       "      <td>NaN</td>\n",
       "      <td>2028</td>\n",
       "      <td>2019</td>\n",
       "      <td>boys</td>\n",
       "      <td>insidelacrosse</td>\n",
       "    </tr>\n",
       "    <tr>\n",
       "      <th>1</th>\n",
       "      <td>--</td>\n",
       "      <td>CT Chargers - 2028</td>\n",
       "      <td>--</td>\n",
       "      <td>NaN</td>\n",
       "      <td>2028</td>\n",
       "      <td>2019</td>\n",
       "      <td>boys</td>\n",
       "      <td>insidelacrosse</td>\n",
       "    </tr>\n",
       "    <tr>\n",
       "      <th>0</th>\n",
       "      <td>--</td>\n",
       "      <td>Sweetlax FL 2025</td>\n",
       "      <td>--</td>\n",
       "      <td>NaN</td>\n",
       "      <td>2025</td>\n",
       "      <td>2020</td>\n",
       "      <td>boys</td>\n",
       "      <td>insidelacrosse</td>\n",
       "    </tr>\n",
       "    <tr>\n",
       "      <th>0</th>\n",
       "      <td>--</td>\n",
       "      <td>2 Knights 2028</td>\n",
       "      <td>--</td>\n",
       "      <td>NaN</td>\n",
       "      <td>2028</td>\n",
       "      <td>2021</td>\n",
       "      <td>boys</td>\n",
       "      <td>insidelacrosse</td>\n",
       "    </tr>\n",
       "  </tbody>\n",
       "</table>\n",
       "<p>875 rows × 8 columns</p>\n",
       "</div>"
      ],
      "text/plain": [
       "   rank                         club rating  link class season gender  \\\n",
       "0    --      214LAX DALLAS 2026 VOLT     --   NaN  2026   2024  girls   \n",
       "1    --         315 Elite 2026 Green     --   NaN  2026   2024  girls   \n",
       "2    --             Common Goal 2026     --   NaN  2026   2024  girls   \n",
       "3    --          3d New England 2026     --   NaN  2026   2024  girls   \n",
       "4    --  3d Virginia Metro 2026 Navy     --   NaN  2026   2024  girls   \n",
       "..  ...                          ...    ...   ...   ...    ...    ...   \n",
       "19   --     NH Tomahawks 2024 Purple     --   NaN  2024   2020  girls   \n",
       "0    --               2 Knights 2028     --   NaN  2028   2019   boys   \n",
       "1    --           CT Chargers - 2028     --   NaN  2028   2019   boys   \n",
       "0    --             Sweetlax FL 2025     --   NaN  2025   2020   boys   \n",
       "0    --               2 Knights 2028     --   NaN  2028   2021   boys   \n",
       "\n",
       "         websource  \n",
       "0   insidelacrosse  \n",
       "1   insidelacrosse  \n",
       "2   insidelacrosse  \n",
       "3   insidelacrosse  \n",
       "4   insidelacrosse  \n",
       "..             ...  \n",
       "19  insidelacrosse  \n",
       "0   insidelacrosse  \n",
       "1   insidelacrosse  \n",
       "0   insidelacrosse  \n",
       "0   insidelacrosse  \n",
       "\n",
       "[875 rows x 8 columns]"
      ]
     },
     "execution_count": 35,
     "metadata": {},
     "output_type": "execute_result"
    }
   ],
   "source": [
    "dfs_list = []\n",
    "for file_name, dataframe in dataframe_dict.items():\n",
    "    clas,season,gender=file_name.split('.csv')[0].split('_')\n",
    "    dataframe['class']=clas\n",
    "    dataframe['season']=season\n",
    "    dataframe['gender']=gender\n",
    "    dataframe['websource']='insidelacrosse'\n",
    "    dataframe=drop_unnamed_columns(set_col_names_underscore_separated(set_col_names_lower(dataframe)))\n",
    "    dfs_list.append(dataframe)\n",
    "    \n",
    "clubs_ranking_df=pd.concat(dfs_list)\n",
    "clubs_ranking_df"
   ]
  },
  {
   "cell_type": "markdown",
   "metadata": {},
   "source": [
    "### Load"
   ]
  },
  {
   "cell_type": "code",
   "execution_count": 36,
   "metadata": {},
   "outputs": [
    {
     "name": "stdout",
     "output_type": "stream",
     "text": [
      "clubsranking.csv saved sucess into bronze folder\n"
     ]
    }
   ],
   "source": [
    "if WRITE_LOCAL_FLAG:\n",
    "    clubs_ranking_df.to_csv(os.path.join(bronze_folder_path,bronze_file_name),index=False)\n",
    "    print(f'{bronze_file_name} saved sucess into bronze folder')\n"
   ]
  },
  {
   "cell_type": "code",
   "execution_count": 37,
   "metadata": {},
   "outputs": [
    {
     "name": "stdout",
     "output_type": "stream",
     "text": [
      "loading data into database ... \n",
      "success\n"
     ]
    }
   ],
   "source": [
    "if WRITE_DB_FLAG:\n",
    "    host = '182.75.105.186'\n",
    "    dev_port = '33096'\n",
    "    dev_database = 'lacrosse-pre-dev'\n",
    "    password='L@crosse753'\n",
    "    user='lacrosse'\n",
    "    try:\n",
    "        print('loading data into database ... ')\n",
    "        engine = create_engine('mysql+mysqlconnector://lacrosse:%s@182.75.105.186:33096/lacrosse-pre-dev' % quote(password))\n",
    "        clubs_ranking_df.to_sql('clubs_ranking',engine,if_exists='append',index=False)\n",
    "        print('success')\n",
    "    except Exception as e:\n",
    "        print(e)"
   ]
  }
 ],
 "metadata": {
  "kernelspec": {
   "display_name": "Python 3",
   "language": "python",
   "name": "python3"
  },
  "language_info": {
   "codemirror_mode": {
    "name": "ipython",
    "version": 3
   },
   "file_extension": ".py",
   "mimetype": "text/x-python",
   "name": "python",
   "nbconvert_exporter": "python",
   "pygments_lexer": "ipython3",
   "version": "3.8.10"
  }
 },
 "nbformat": 4,
 "nbformat_minor": 2
}
