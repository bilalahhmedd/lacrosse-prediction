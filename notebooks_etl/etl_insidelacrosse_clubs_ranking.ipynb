{
 "cells": [
  {
   "cell_type": "code",
   "execution_count": null,
   "metadata": {},
   "outputs": [],
   "source": [
    "\"\"\" this notebook contains etl for insidelacrosse club ranking data \"\"\""
   ]
  },
  {
   "cell_type": "code",
   "execution_count": null,
   "metadata": {},
   "outputs": [],
   "source": [
    "import pandas as pd\n",
    "import os\n",
    "import sys\n",
    "sys.path.insert(3,'../etl/')\n",
    "from data_helper import get_csv_dataframes_from_folder\n",
    "from data_helper import set_col_names_lower,set_col_names_underscore_separated\n",
    "from data_helper import drop_unnamed_columns\n",
    "\n",
    "from urllib.parse import quote\n",
    "from sqlalchemy.engine import create_engine"
   ]
  },
  {
   "cell_type": "code",
   "execution_count": null,
   "metadata": {},
   "outputs": [],
   "source": [
    "WRITE_LOCAL_FLAG=True\n",
    "WRITE_DB_FLAG=True"
   ]
  },
  {
   "cell_type": "markdown",
   "metadata": {},
   "source": [
    "### Extract"
   ]
  },
  {
   "cell_type": "code",
   "execution_count": null,
   "metadata": {},
   "outputs": [],
   "source": [
    "# extrat data from raw folder\n",
    "raw_folder_path = '../data/extra/clubranking/insidelacrosse/output/raw/'\n",
    "bronze_folder_path = '../data/extra/clubranking/insidelacrosse/output/bronze/'\n",
    "bronze_file_name = 'clubsranking.csv'\n",
    "dataframe_dict=get_csv_dataframes_from_folder(raw_folder_path)"
   ]
  },
  {
   "cell_type": "markdown",
   "metadata": {},
   "source": [
    "#### Transform"
   ]
  },
  {
   "cell_type": "code",
   "execution_count": null,
   "metadata": {},
   "outputs": [],
   "source": [
    "dfs_list = []\n",
    "for file_name, dataframe in dataframe_dict.items():\n",
    "    clas,season,gender=file_name.split('.csv')[0].split('_')\n",
    "    dataframe['class']=clas\n",
    "    dataframe['season']=season\n",
    "    dataframe['gender']=gender\n",
    "    dataframe['websource']='insidelacrosse'\n",
    "    dataframe=drop_unnamed_columns(set_col_names_underscore_separated(set_col_names_lower(dataframe)))\n",
    "    dfs_list.append(dataframe)\n",
    "    \n",
    "clubs_ranking_df=pd.concat(dfs_list)\n",
    "clubs_ranking_df"
   ]
  },
  {
   "cell_type": "markdown",
   "metadata": {},
   "source": [
    "### Load"
   ]
  },
  {
   "cell_type": "code",
   "execution_count": null,
   "metadata": {},
   "outputs": [],
   "source": [
    "if WRITE_LOCAL_FLAG:\n",
    "    clubs_ranking_df.to_csv(os.path.join(bronze_folder_path,bronze_file_name),index=False)\n",
    "    print(f'{bronze_file_name} saved sucess into bronze folder')\n"
   ]
  },
  {
   "cell_type": "code",
   "execution_count": null,
   "metadata": {},
   "outputs": [],
   "source": [
    "if WRITE_DB_FLAG:\n",
    "    host = '182.75.105.186'\n",
    "    dev_port = '33096'\n",
    "    dev_database = 'lacrosse-pre-dev'\n",
    "    password=''\n",
    "    user='lacrosse'\n",
    "    try:\n",
    "        print('loading data into database ... ')\n",
    "        engine = create_engine('mysql+mysqlconnector://lacrosse:%s@182.75.105.186:33096/lacrosse-pre-dev' % quote(password))\n",
    "        clubs_ranking_df.to_sql('clubs_ranking',engine,if_exists='append',index=False)\n",
    "        print('success')\n",
    "    except Exception as e:\n",
    "        print(e)"
   ]
  }
 ],
 "metadata": {
  "kernelspec": {
   "display_name": "Python 3",
   "language": "python",
   "name": "python3"
  },
  "language_info": {
   "codemirror_mode": {
    "name": "ipython",
    "version": 3
   },
   "file_extension": ".py",
   "mimetype": "text/x-python",
   "name": "python",
   "nbconvert_exporter": "python",
   "pygments_lexer": "ipython3",
   "version": "3.8.10"
  }
 },
 "nbformat": 4,
 "nbformat_minor": 2
}
