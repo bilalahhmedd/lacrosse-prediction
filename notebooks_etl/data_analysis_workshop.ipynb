{
 "cells": [
  {
   "cell_type": "code",
   "execution_count": 100,
   "metadata": {},
   "outputs": [],
   "source": [
    "import os\n",
    "import sys\n",
    "import pandas as pd\n",
    "from data_helper import create_none_existing_folder\n",
    "from data_helper import get_csv_dataframes_from_folder"
   ]
  },
  {
   "cell_type": "markdown",
   "metadata": {},
   "source": [
    "#### process commitments "
   ]
  },
  {
   "cell_type": "markdown",
   "metadata": {},
   "source": [
    "#### update state name in same format\n"
   ]
  },
  {
   "cell_type": "code",
   "execution_count": 101,
   "metadata": {},
   "outputs": [],
   "source": [
    "input_csv_file_path = '../data/commitments/gold/commitments.csv'"
   ]
  },
  {
   "cell_type": "code",
   "execution_count": 102,
   "metadata": {},
   "outputs": [],
   "source": [
    "commitments_df = pd.read_csv(input_csv_file_path)"
   ]
  },
  {
   "cell_type": "code",
   "execution_count": 104,
   "metadata": {},
   "outputs": [
    {
     "data": {
      "text/html": [
       "<div>\n",
       "<style scoped>\n",
       "    .dataframe tbody tr th:only-of-type {\n",
       "        vertical-align: middle;\n",
       "    }\n",
       "\n",
       "    .dataframe tbody tr th {\n",
       "        vertical-align: top;\n",
       "    }\n",
       "\n",
       "    .dataframe thead th {\n",
       "        text-align: right;\n",
       "    }\n",
       "</style>\n",
       "<table border=\"1\" class=\"dataframe\">\n",
       "  <thead>\n",
       "    <tr style=\"text-align: right;\">\n",
       "      <th></th>\n",
       "      <th>name</th>\n",
       "      <th>commitment_year</th>\n",
       "      <th>state</th>\n",
       "      <th>high_school</th>\n",
       "      <th>club</th>\n",
       "      <th>position</th>\n",
       "      <th>division</th>\n",
       "      <th>college</th>\n",
       "      <th>gender</th>\n",
       "      <th>club_rank</th>\n",
       "      <th>weight</th>\n",
       "      <th>club_year</th>\n",
       "      <th>height</th>\n",
       "      <th>web_source</th>\n",
       "      <th>profile_link</th>\n",
       "    </tr>\n",
       "  </thead>\n",
       "  <tbody>\n",
       "    <tr>\n",
       "      <th>0</th>\n",
       "      <td>Isabella Sabatino</td>\n",
       "      <td>2022.0</td>\n",
       "      <td>MD</td>\n",
       "      <td>Towson</td>\n",
       "      <td>SkyWalkers</td>\n",
       "      <td>M</td>\n",
       "      <td>D3</td>\n",
       "      <td>Pomona Pitzer</td>\n",
       "      <td>girl</td>\n",
       "      <td>NaN</td>\n",
       "      <td>NaN</td>\n",
       "      <td>NaN</td>\n",
       "      <td>NaN</td>\n",
       "      <td>laxnumbers</td>\n",
       "      <td>NaN</td>\n",
       "    </tr>\n",
       "    <tr>\n",
       "      <th>1</th>\n",
       "      <td>Natalie Clere</td>\n",
       "      <td>2022.0</td>\n",
       "      <td>NY</td>\n",
       "      <td>Onondaga</td>\n",
       "      <td>NaN</td>\n",
       "      <td>M</td>\n",
       "      <td>D2</td>\n",
       "      <td>Lindenwood</td>\n",
       "      <td>girl</td>\n",
       "      <td>NaN</td>\n",
       "      <td>NaN</td>\n",
       "      <td>NaN</td>\n",
       "      <td>NaN</td>\n",
       "      <td>laxnumbers</td>\n",
       "      <td>NaN</td>\n",
       "    </tr>\n",
       "    <tr>\n",
       "      <th>2</th>\n",
       "      <td>Claire Ashburn</td>\n",
       "      <td>2022.0</td>\n",
       "      <td>MD</td>\n",
       "      <td>Harford</td>\n",
       "      <td>NaN</td>\n",
       "      <td>A</td>\n",
       "      <td>D1</td>\n",
       "      <td>Winthrop</td>\n",
       "      <td>girl</td>\n",
       "      <td>NaN</td>\n",
       "      <td>NaN</td>\n",
       "      <td>NaN</td>\n",
       "      <td>NaN</td>\n",
       "      <td>laxnumbers</td>\n",
       "      <td>NaN</td>\n",
       "    </tr>\n",
       "    <tr>\n",
       "      <th>3</th>\n",
       "      <td>Gabby Trzeciak</td>\n",
       "      <td>2022.0</td>\n",
       "      <td>MD</td>\n",
       "      <td>Harford</td>\n",
       "      <td>Looneys</td>\n",
       "      <td>A</td>\n",
       "      <td>D2</td>\n",
       "      <td>Lock Haven</td>\n",
       "      <td>girl</td>\n",
       "      <td>NaN</td>\n",
       "      <td>NaN</td>\n",
       "      <td>NaN</td>\n",
       "      <td>NaN</td>\n",
       "      <td>laxnumbers</td>\n",
       "      <td>NaN</td>\n",
       "    </tr>\n",
       "    <tr>\n",
       "      <th>4</th>\n",
       "      <td>Trysten Burns</td>\n",
       "      <td>2022.0</td>\n",
       "      <td>NY</td>\n",
       "      <td>Onondaga</td>\n",
       "      <td>Haudenosaunee</td>\n",
       "      <td>A</td>\n",
       "      <td>D2</td>\n",
       "      <td>Newberry</td>\n",
       "      <td>girl</td>\n",
       "      <td>NaN</td>\n",
       "      <td>NaN</td>\n",
       "      <td>NaN</td>\n",
       "      <td>NaN</td>\n",
       "      <td>laxnumbers</td>\n",
       "      <td>NaN</td>\n",
       "    </tr>\n",
       "  </tbody>\n",
       "</table>\n",
       "</div>"
      ],
      "text/plain": [
       "                name  commitment_year state high_school           club  \\\n",
       "0  Isabella Sabatino           2022.0    MD      Towson     SkyWalkers   \n",
       "1      Natalie Clere           2022.0    NY    Onondaga            NaN   \n",
       "2     Claire Ashburn           2022.0    MD     Harford            NaN   \n",
       "3     Gabby Trzeciak           2022.0    MD     Harford        Looneys   \n",
       "4      Trysten Burns           2022.0    NY    Onondaga  Haudenosaunee   \n",
       "\n",
       "  position division        college gender  club_rank  weight  club_year  \\\n",
       "0        M       D3  Pomona Pitzer   girl        NaN     NaN        NaN   \n",
       "1        M       D2     Lindenwood   girl        NaN     NaN        NaN   \n",
       "2        A       D1       Winthrop   girl        NaN     NaN        NaN   \n",
       "3        A       D2     Lock Haven   girl        NaN     NaN        NaN   \n",
       "4        A       D2       Newberry   girl        NaN     NaN        NaN   \n",
       "\n",
       "   height  web_source profile_link  \n",
       "0     NaN  laxnumbers          NaN  \n",
       "1     NaN  laxnumbers          NaN  \n",
       "2     NaN  laxnumbers          NaN  \n",
       "3     NaN  laxnumbers          NaN  \n",
       "4     NaN  laxnumbers          NaN  "
      ]
     },
     "execution_count": 104,
     "metadata": {},
     "output_type": "execute_result"
    }
   ],
   "source": [
    "commitments_df.head()"
   ]
  },
  {
   "cell_type": "code",
   "execution_count": 105,
   "metadata": {},
   "outputs": [
    {
     "data": {
      "text/plain": [
       "(49758, 15)"
      ]
     },
     "execution_count": 105,
     "metadata": {},
     "output_type": "execute_result"
    }
   ],
   "source": [
    "commitments_df.shape"
   ]
  },
  {
   "cell_type": "code",
   "execution_count": 106,
   "metadata": {},
   "outputs": [],
   "source": [
    "# define method to get abrivatation for input name\n",
    "get_abv=lambda z: ''.join([str(x[0]).upper() for x in z.split(' ')]) if type(z)==str and len(z.split(' '))>1 else z"
   ]
  },
  {
   "cell_type": "code",
   "execution_count": 107,
   "metadata": {},
   "outputs": [],
   "source": [
    "commitments_df['state']=commitments_df['state'].map(get_abv)"
   ]
  },
  {
   "cell_type": "code",
   "execution_count": 108,
   "metadata": {},
   "outputs": [
    {
     "data": {
      "text/plain": [
       "2050    PA\n",
       "2051    PA\n",
       "2052    NY\n",
       "2053    NY\n",
       "2054    MD\n",
       "2055    NY\n",
       "2056    PA\n",
       "2057    MD\n",
       "2058    VA\n",
       "2059    GA\n",
       "Name: state, dtype: object"
      ]
     },
     "execution_count": 108,
     "metadata": {},
     "output_type": "execute_result"
    }
   ],
   "source": [
    "commitments_df['state'][2050:2060]"
   ]
  },
  {
   "cell_type": "code",
   "execution_count": 109,
   "metadata": {},
   "outputs": [
    {
     "data": {
      "text/plain": [
       "NY     6809\n",
       "MD     3770\n",
       "PA     3514\n",
       "NJ     3371\n",
       "MA     2631\n",
       "       ... \n",
       "Co        1\n",
       "NB        1\n",
       "HA        1\n",
       "PNW       1\n",
       "pa        1\n",
       "Name: state, Length: 109, dtype: int64"
      ]
     },
     "execution_count": 109,
     "metadata": {},
     "output_type": "execute_result"
    }
   ],
   "source": [
    "commitments_df['state'].value_counts()"
   ]
  },
  {
   "cell_type": "markdown",
   "metadata": {},
   "source": [
    "#### set commitment_year values"
   ]
  },
  {
   "cell_type": "code",
   "execution_count": 110,
   "metadata": {},
   "outputs": [
    {
     "name": "stdout",
     "output_type": "stream",
     "text": [
      "(49469, 15)\n"
     ]
    },
    {
     "data": {
      "text/html": [
       "<div>\n",
       "<style scoped>\n",
       "    .dataframe tbody tr th:only-of-type {\n",
       "        vertical-align: middle;\n",
       "    }\n",
       "\n",
       "    .dataframe tbody tr th {\n",
       "        vertical-align: top;\n",
       "    }\n",
       "\n",
       "    .dataframe thead th {\n",
       "        text-align: right;\n",
       "    }\n",
       "</style>\n",
       "<table border=\"1\" class=\"dataframe\">\n",
       "  <thead>\n",
       "    <tr style=\"text-align: right;\">\n",
       "      <th></th>\n",
       "      <th>name</th>\n",
       "      <th>commitment_year</th>\n",
       "      <th>state</th>\n",
       "      <th>high_school</th>\n",
       "      <th>club</th>\n",
       "      <th>position</th>\n",
       "      <th>division</th>\n",
       "      <th>college</th>\n",
       "      <th>gender</th>\n",
       "      <th>club_rank</th>\n",
       "      <th>weight</th>\n",
       "      <th>club_year</th>\n",
       "      <th>height</th>\n",
       "      <th>web_source</th>\n",
       "      <th>profile_link</th>\n",
       "    </tr>\n",
       "  </thead>\n",
       "  <tbody>\n",
       "    <tr>\n",
       "      <th>0</th>\n",
       "      <td>Isabella Sabatino</td>\n",
       "      <td>2022</td>\n",
       "      <td>MD</td>\n",
       "      <td>Towson</td>\n",
       "      <td>SkyWalkers</td>\n",
       "      <td>M</td>\n",
       "      <td>D3</td>\n",
       "      <td>Pomona Pitzer</td>\n",
       "      <td>girl</td>\n",
       "      <td>NaN</td>\n",
       "      <td>NaN</td>\n",
       "      <td>NaN</td>\n",
       "      <td>NaN</td>\n",
       "      <td>laxnumbers</td>\n",
       "      <td>NaN</td>\n",
       "    </tr>\n",
       "    <tr>\n",
       "      <th>1</th>\n",
       "      <td>Natalie Clere</td>\n",
       "      <td>2022</td>\n",
       "      <td>NY</td>\n",
       "      <td>Onondaga</td>\n",
       "      <td>NaN</td>\n",
       "      <td>M</td>\n",
       "      <td>D2</td>\n",
       "      <td>Lindenwood</td>\n",
       "      <td>girl</td>\n",
       "      <td>NaN</td>\n",
       "      <td>NaN</td>\n",
       "      <td>NaN</td>\n",
       "      <td>NaN</td>\n",
       "      <td>laxnumbers</td>\n",
       "      <td>NaN</td>\n",
       "    </tr>\n",
       "    <tr>\n",
       "      <th>2</th>\n",
       "      <td>Claire Ashburn</td>\n",
       "      <td>2022</td>\n",
       "      <td>MD</td>\n",
       "      <td>Harford</td>\n",
       "      <td>NaN</td>\n",
       "      <td>A</td>\n",
       "      <td>D1</td>\n",
       "      <td>Winthrop</td>\n",
       "      <td>girl</td>\n",
       "      <td>NaN</td>\n",
       "      <td>NaN</td>\n",
       "      <td>NaN</td>\n",
       "      <td>NaN</td>\n",
       "      <td>laxnumbers</td>\n",
       "      <td>NaN</td>\n",
       "    </tr>\n",
       "    <tr>\n",
       "      <th>3</th>\n",
       "      <td>Gabby Trzeciak</td>\n",
       "      <td>2022</td>\n",
       "      <td>MD</td>\n",
       "      <td>Harford</td>\n",
       "      <td>Looneys</td>\n",
       "      <td>A</td>\n",
       "      <td>D2</td>\n",
       "      <td>Lock Haven</td>\n",
       "      <td>girl</td>\n",
       "      <td>NaN</td>\n",
       "      <td>NaN</td>\n",
       "      <td>NaN</td>\n",
       "      <td>NaN</td>\n",
       "      <td>laxnumbers</td>\n",
       "      <td>NaN</td>\n",
       "    </tr>\n",
       "    <tr>\n",
       "      <th>4</th>\n",
       "      <td>Trysten Burns</td>\n",
       "      <td>2022</td>\n",
       "      <td>NY</td>\n",
       "      <td>Onondaga</td>\n",
       "      <td>Haudenosaunee</td>\n",
       "      <td>A</td>\n",
       "      <td>D2</td>\n",
       "      <td>Newberry</td>\n",
       "      <td>girl</td>\n",
       "      <td>NaN</td>\n",
       "      <td>NaN</td>\n",
       "      <td>NaN</td>\n",
       "      <td>NaN</td>\n",
       "      <td>laxnumbers</td>\n",
       "      <td>NaN</td>\n",
       "    </tr>\n",
       "  </tbody>\n",
       "</table>\n",
       "</div>"
      ],
      "text/plain": [
       "                name  commitment_year state high_school           club  \\\n",
       "0  Isabella Sabatino             2022    MD      Towson     SkyWalkers   \n",
       "1      Natalie Clere             2022    NY    Onondaga            NaN   \n",
       "2     Claire Ashburn             2022    MD     Harford            NaN   \n",
       "3     Gabby Trzeciak             2022    MD     Harford        Looneys   \n",
       "4      Trysten Burns             2022    NY    Onondaga  Haudenosaunee   \n",
       "\n",
       "  position division        college gender  club_rank  weight  club_year  \\\n",
       "0        M       D3  Pomona Pitzer   girl        NaN     NaN        NaN   \n",
       "1        M       D2     Lindenwood   girl        NaN     NaN        NaN   \n",
       "2        A       D1       Winthrop   girl        NaN     NaN        NaN   \n",
       "3        A       D2     Lock Haven   girl        NaN     NaN        NaN   \n",
       "4        A       D2       Newberry   girl        NaN     NaN        NaN   \n",
       "\n",
       "   height  web_source profile_link  \n",
       "0     NaN  laxnumbers          NaN  \n",
       "1     NaN  laxnumbers          NaN  \n",
       "2     NaN  laxnumbers          NaN  \n",
       "3     NaN  laxnumbers          NaN  \n",
       "4     NaN  laxnumbers          NaN  "
      ]
     },
     "execution_count": 110,
     "metadata": {},
     "output_type": "execute_result"
    }
   ],
   "source": [
    "commitment_year_outliers=[20225.0,2026.0]\n",
    "commitments_df=commitments_df.drop(commitments_df[commitments_df['commitment_year'].isin(commitment_year_outliers)].index)\n",
    "commitments_df = commitments_df[commitments_df['commitment_year'].notna()]\n",
    "commitments_df['commitment_year']=commitments_df['commitment_year'].astype(int)\n",
    "print(commitments_df.shape)\n",
    "commitments_df.head()"
   ]
  },
  {
   "cell_type": "code",
   "execution_count": null,
   "metadata": {},
   "outputs": [],
   "source": []
  },
  {
   "cell_type": "code",
   "execution_count": 111,
   "metadata": {},
   "outputs": [
    {
     "data": {
      "text/plain": [
       "D1            14604\n",
       "D3            13081\n",
       "D2             7865\n",
       "NCAA DI        1685\n",
       "NAIA           1621\n",
       "NCAA DIII      1469\n",
       "Club           1333\n",
       "DI              889\n",
       "NCAA DII        545\n",
       "JUCO            347\n",
       "DIII             78\n",
       "DII              75\n",
       "MCLA DI          22\n",
       "MCLA DII         11\n",
       "MCLA              7\n",
       "WCLA – DI         6\n",
       "WCLA – DII        6\n",
       "NJCAA             2\n",
       "CUFLA             2\n",
       "NAIA DI           1\n",
       "Name: division, dtype: int64"
      ]
     },
     "execution_count": 111,
     "metadata": {},
     "output_type": "execute_result"
    }
   ],
   "source": [
    "commitments_df['division'].value_counts()"
   ]
  },
  {
   "cell_type": "markdown",
   "metadata": {},
   "source": [
    "we need to merge data \n",
    "NCAA DI and  DI   to      D1,\n",
    "NCAA DII and DII  to      D2\n",
    "D3 NCAA and DIII to      D3"
   ]
  },
  {
   "cell_type": "code",
   "execution_count": 112,
   "metadata": {},
   "outputs": [],
   "source": [
    "division_map_dict = {\n",
    "    'NCAA DI':'D1',\n",
    "    'NCAA DII':'D2',\n",
    "    'NCAA DIII':'D3',\n",
    "    'D3 NCAA':'D3',\n",
    "    'DI':'D1',\n",
    "    'DII':'D2',\n",
    "    'DIII':'D3'\n",
    "}"
   ]
  },
  {
   "cell_type": "code",
   "execution_count": 113,
   "metadata": {},
   "outputs": [],
   "source": [
    "def map_division_on_string(input_string:str,map:dict):\n",
    "    for key, val in map.items():\n",
    "        if key.replace(' ','').lower() == str(input_string).replace(' ','').lower():\n",
    "            return val\n",
    "    return input_string\n",
    "    \n"
   ]
  },
  {
   "cell_type": "code",
   "execution_count": 114,
   "metadata": {},
   "outputs": [],
   "source": [
    "def map_postition_on_string(input_string:str,map:dict):\n",
    "    for key, val in map.items():\n",
    "        if key.lower() in str(input_string).lower():\n",
    "            return val\n",
    "    return input_string\n",
    "    \n"
   ]
  },
  {
   "cell_type": "code",
   "execution_count": 115,
   "metadata": {},
   "outputs": [],
   "source": [
    "position_map_dict = {\n",
    "    'Midfield':'M',\n",
    "    'Middie':'M',\n",
    "    'Midflied':'M',\n",
    "    'Midfiled':'M',\n",
    "    'Defense':'D',\n",
    "    'Attack':'A',\n",
    "    'Goal':'G',\n",
    "    'SSMF':'M',\n",
    "    'FO/DRAW':'FO',\n",
    "    'Face Off Specialist':'FO',\n",
    "    'FOGO':'FO',\n",
    "    'Faceoff':'FO',\n",
    "    'Draw':'DRAW'\n",
    "    }"
   ]
  },
  {
   "cell_type": "code",
   "execution_count": 116,
   "metadata": {},
   "outputs": [
    {
     "data": {
      "text/plain": [
       "M       16953\n",
       "A       12584\n",
       "D       11594\n",
       "G        4809\n",
       "LSM      1353\n",
       "FO       1325\n",
       "DRAW        8\n",
       "Name: position, dtype: int64"
      ]
     },
     "execution_count": 116,
     "metadata": {},
     "output_type": "execute_result"
    }
   ],
   "source": [
    "commitments_df['position']=commitments_df['position'].apply(lambda x: map_postition_on_string(x,position_map_dict))\n",
    "commitments_df['position'].value_counts()"
   ]
  },
  {
   "cell_type": "code",
   "execution_count": 117,
   "metadata": {},
   "outputs": [
    {
     "data": {
      "text/plain": [
       "D1            14604\n",
       "D3            13081\n",
       "D2             7865\n",
       "NCAA DI        1685\n",
       "NAIA           1621\n",
       "NCAA DIII      1469\n",
       "Club           1333\n",
       "DI              889\n",
       "NCAA DII        545\n",
       "JUCO            347\n",
       "DIII             78\n",
       "DII              75\n",
       "MCLA DI          22\n",
       "MCLA DII         11\n",
       "MCLA              7\n",
       "WCLA – DI         6\n",
       "WCLA – DII        6\n",
       "NJCAA             2\n",
       "CUFLA             2\n",
       "NAIA DI           1\n",
       "Name: division, dtype: int64"
      ]
     },
     "execution_count": 117,
     "metadata": {},
     "output_type": "execute_result"
    }
   ],
   "source": [
    "commitments_df['division'].value_counts()"
   ]
  },
  {
   "cell_type": "code",
   "execution_count": 118,
   "metadata": {},
   "outputs": [
    {
     "data": {
      "text/plain": [
       "D1            17178\n",
       "D3            14628\n",
       "D2             8485\n",
       "NAIA           1621\n",
       "Club           1333\n",
       "JUCO            347\n",
       "MCLA DI          22\n",
       "MCLA DII         11\n",
       "MCLA              7\n",
       "WCLA – DI         6\n",
       "WCLA – DII        6\n",
       "NJCAA             2\n",
       "CUFLA             2\n",
       "NAIA DI           1\n",
       "Name: division, dtype: int64"
      ]
     },
     "execution_count": 118,
     "metadata": {},
     "output_type": "execute_result"
    }
   ],
   "source": [
    "commitments_df['division']=commitments_df['division'].apply(lambda x: map_division_on_string(x,division_map_dict))\n",
    "commitments_df['division'].value_counts()"
   ]
  },
  {
   "cell_type": "code",
   "execution_count": 119,
   "metadata": {},
   "outputs": [
    {
     "data": {
      "text/html": [
       "<div>\n",
       "<style scoped>\n",
       "    .dataframe tbody tr th:only-of-type {\n",
       "        vertical-align: middle;\n",
       "    }\n",
       "\n",
       "    .dataframe tbody tr th {\n",
       "        vertical-align: top;\n",
       "    }\n",
       "\n",
       "    .dataframe thead th {\n",
       "        text-align: right;\n",
       "    }\n",
       "</style>\n",
       "<table border=\"1\" class=\"dataframe\">\n",
       "  <thead>\n",
       "    <tr style=\"text-align: right;\">\n",
       "      <th></th>\n",
       "      <th>name</th>\n",
       "      <th>commitment_year</th>\n",
       "      <th>state</th>\n",
       "      <th>high_school</th>\n",
       "      <th>club</th>\n",
       "      <th>position</th>\n",
       "      <th>division</th>\n",
       "      <th>college</th>\n",
       "      <th>gender</th>\n",
       "      <th>club_rank</th>\n",
       "      <th>weight</th>\n",
       "      <th>club_year</th>\n",
       "      <th>height</th>\n",
       "      <th>web_source</th>\n",
       "      <th>profile_link</th>\n",
       "    </tr>\n",
       "  </thead>\n",
       "  <tbody>\n",
       "    <tr>\n",
       "      <th>0</th>\n",
       "      <td>Isabella Sabatino</td>\n",
       "      <td>2022</td>\n",
       "      <td>MD</td>\n",
       "      <td>Towson</td>\n",
       "      <td>SkyWalkers</td>\n",
       "      <td>M</td>\n",
       "      <td>D3</td>\n",
       "      <td>Pomona Pitzer</td>\n",
       "      <td>girl</td>\n",
       "      <td>NaN</td>\n",
       "      <td>NaN</td>\n",
       "      <td>NaN</td>\n",
       "      <td>NaN</td>\n",
       "      <td>laxnumbers</td>\n",
       "      <td>NaN</td>\n",
       "    </tr>\n",
       "    <tr>\n",
       "      <th>1</th>\n",
       "      <td>Natalie Clere</td>\n",
       "      <td>2022</td>\n",
       "      <td>NY</td>\n",
       "      <td>Onondaga</td>\n",
       "      <td>NaN</td>\n",
       "      <td>M</td>\n",
       "      <td>D2</td>\n",
       "      <td>Lindenwood</td>\n",
       "      <td>girl</td>\n",
       "      <td>NaN</td>\n",
       "      <td>NaN</td>\n",
       "      <td>NaN</td>\n",
       "      <td>NaN</td>\n",
       "      <td>laxnumbers</td>\n",
       "      <td>NaN</td>\n",
       "    </tr>\n",
       "    <tr>\n",
       "      <th>2</th>\n",
       "      <td>Claire Ashburn</td>\n",
       "      <td>2022</td>\n",
       "      <td>MD</td>\n",
       "      <td>Harford</td>\n",
       "      <td>NaN</td>\n",
       "      <td>A</td>\n",
       "      <td>D1</td>\n",
       "      <td>Winthrop</td>\n",
       "      <td>girl</td>\n",
       "      <td>NaN</td>\n",
       "      <td>NaN</td>\n",
       "      <td>NaN</td>\n",
       "      <td>NaN</td>\n",
       "      <td>laxnumbers</td>\n",
       "      <td>NaN</td>\n",
       "    </tr>\n",
       "    <tr>\n",
       "      <th>3</th>\n",
       "      <td>Gabby Trzeciak</td>\n",
       "      <td>2022</td>\n",
       "      <td>MD</td>\n",
       "      <td>Harford</td>\n",
       "      <td>Looneys</td>\n",
       "      <td>A</td>\n",
       "      <td>D2</td>\n",
       "      <td>Lock Haven</td>\n",
       "      <td>girl</td>\n",
       "      <td>NaN</td>\n",
       "      <td>NaN</td>\n",
       "      <td>NaN</td>\n",
       "      <td>NaN</td>\n",
       "      <td>laxnumbers</td>\n",
       "      <td>NaN</td>\n",
       "    </tr>\n",
       "    <tr>\n",
       "      <th>4</th>\n",
       "      <td>Trysten Burns</td>\n",
       "      <td>2022</td>\n",
       "      <td>NY</td>\n",
       "      <td>Onondaga</td>\n",
       "      <td>Haudenosaunee</td>\n",
       "      <td>A</td>\n",
       "      <td>D2</td>\n",
       "      <td>Newberry</td>\n",
       "      <td>girl</td>\n",
       "      <td>NaN</td>\n",
       "      <td>NaN</td>\n",
       "      <td>NaN</td>\n",
       "      <td>NaN</td>\n",
       "      <td>laxnumbers</td>\n",
       "      <td>NaN</td>\n",
       "    </tr>\n",
       "    <tr>\n",
       "      <th>...</th>\n",
       "      <td>...</td>\n",
       "      <td>...</td>\n",
       "      <td>...</td>\n",
       "      <td>...</td>\n",
       "      <td>...</td>\n",
       "      <td>...</td>\n",
       "      <td>...</td>\n",
       "      <td>...</td>\n",
       "      <td>...</td>\n",
       "      <td>...</td>\n",
       "      <td>...</td>\n",
       "      <td>...</td>\n",
       "      <td>...</td>\n",
       "      <td>...</td>\n",
       "      <td>...</td>\n",
       "    </tr>\n",
       "    <tr>\n",
       "      <th>49753</th>\n",
       "      <td>Zoe Stewart</td>\n",
       "      <td>2025</td>\n",
       "      <td>NaN</td>\n",
       "      <td>Manatee</td>\n",
       "      <td>TRUE</td>\n",
       "      <td>D</td>\n",
       "      <td>NaN</td>\n",
       "      <td>Lynn</td>\n",
       "      <td>girl</td>\n",
       "      <td>NaN</td>\n",
       "      <td>NaN</td>\n",
       "      <td>NaN</td>\n",
       "      <td>NaN</td>\n",
       "      <td>clublacrosse</td>\n",
       "      <td>NaN</td>\n",
       "    </tr>\n",
       "    <tr>\n",
       "      <th>49754</th>\n",
       "      <td>Zoe Stonecipher</td>\n",
       "      <td>2025</td>\n",
       "      <td>NaN</td>\n",
       "      <td>Fox Lane</td>\n",
       "      <td>Primetime</td>\n",
       "      <td>A</td>\n",
       "      <td>NaN</td>\n",
       "      <td>Stony Brook</td>\n",
       "      <td>girl</td>\n",
       "      <td>NaN</td>\n",
       "      <td>NaN</td>\n",
       "      <td>NaN</td>\n",
       "      <td>NaN</td>\n",
       "      <td>clublacrosse</td>\n",
       "      <td>NaN</td>\n",
       "    </tr>\n",
       "    <tr>\n",
       "      <th>49755</th>\n",
       "      <td>Zoey Smith</td>\n",
       "      <td>2025</td>\n",
       "      <td>NaN</td>\n",
       "      <td>Lacey Twp</td>\n",
       "      <td>DEWLAX</td>\n",
       "      <td>M</td>\n",
       "      <td>NaN</td>\n",
       "      <td>Johns Hopkins</td>\n",
       "      <td>girl</td>\n",
       "      <td>NaN</td>\n",
       "      <td>NaN</td>\n",
       "      <td>NaN</td>\n",
       "      <td>NaN</td>\n",
       "      <td>clublacrosse</td>\n",
       "      <td>NaN</td>\n",
       "    </tr>\n",
       "    <tr>\n",
       "      <th>49756</th>\n",
       "      <td>Zola LeDonne</td>\n",
       "      <td>2025</td>\n",
       "      <td>NaN</td>\n",
       "      <td>Other</td>\n",
       "      <td>TEAM BC</td>\n",
       "      <td>A</td>\n",
       "      <td>NaN</td>\n",
       "      <td>Detroit Mercy</td>\n",
       "      <td>girl</td>\n",
       "      <td>NaN</td>\n",
       "      <td>NaN</td>\n",
       "      <td>NaN</td>\n",
       "      <td>NaN</td>\n",
       "      <td>clublacrosse</td>\n",
       "      <td>NaN</td>\n",
       "    </tr>\n",
       "    <tr>\n",
       "      <th>49757</th>\n",
       "      <td>Zuri Crumpton</td>\n",
       "      <td>2025</td>\n",
       "      <td>NaN</td>\n",
       "      <td>Red Land</td>\n",
       "      <td>NEMS</td>\n",
       "      <td>D</td>\n",
       "      <td>NaN</td>\n",
       "      <td>Liberty</td>\n",
       "      <td>girl</td>\n",
       "      <td>NaN</td>\n",
       "      <td>NaN</td>\n",
       "      <td>NaN</td>\n",
       "      <td>NaN</td>\n",
       "      <td>clublacrosse</td>\n",
       "      <td>NaN</td>\n",
       "    </tr>\n",
       "  </tbody>\n",
       "</table>\n",
       "<p>49469 rows × 15 columns</p>\n",
       "</div>"
      ],
      "text/plain": [
       "                    name  commitment_year state high_school           club  \\\n",
       "0      Isabella Sabatino             2022    MD      Towson     SkyWalkers   \n",
       "1          Natalie Clere             2022    NY    Onondaga            NaN   \n",
       "2         Claire Ashburn             2022    MD     Harford            NaN   \n",
       "3         Gabby Trzeciak             2022    MD     Harford        Looneys   \n",
       "4          Trysten Burns             2022    NY    Onondaga  Haudenosaunee   \n",
       "...                  ...              ...   ...         ...            ...   \n",
       "49753        Zoe Stewart             2025   NaN     Manatee           TRUE   \n",
       "49754    Zoe Stonecipher             2025   NaN    Fox Lane      Primetime   \n",
       "49755         Zoey Smith             2025   NaN   Lacey Twp         DEWLAX   \n",
       "49756       Zola LeDonne             2025   NaN       Other        TEAM BC   \n",
       "49757      Zuri Crumpton             2025   NaN    Red Land           NEMS   \n",
       "\n",
       "      position division        college gender  club_rank  weight  club_year  \\\n",
       "0            M       D3  Pomona Pitzer   girl        NaN     NaN        NaN   \n",
       "1            M       D2     Lindenwood   girl        NaN     NaN        NaN   \n",
       "2            A       D1       Winthrop   girl        NaN     NaN        NaN   \n",
       "3            A       D2     Lock Haven   girl        NaN     NaN        NaN   \n",
       "4            A       D2       Newberry   girl        NaN     NaN        NaN   \n",
       "...        ...      ...            ...    ...        ...     ...        ...   \n",
       "49753        D      NaN           Lynn   girl        NaN     NaN        NaN   \n",
       "49754        A      NaN    Stony Brook   girl        NaN     NaN        NaN   \n",
       "49755        M      NaN  Johns Hopkins   girl        NaN     NaN        NaN   \n",
       "49756        A      NaN  Detroit Mercy   girl        NaN     NaN        NaN   \n",
       "49757        D      NaN        Liberty   girl        NaN     NaN        NaN   \n",
       "\n",
       "       height    web_source profile_link  \n",
       "0         NaN    laxnumbers          NaN  \n",
       "1         NaN    laxnumbers          NaN  \n",
       "2         NaN    laxnumbers          NaN  \n",
       "3         NaN    laxnumbers          NaN  \n",
       "4         NaN    laxnumbers          NaN  \n",
       "...       ...           ...          ...  \n",
       "49753     NaN  clublacrosse          NaN  \n",
       "49754     NaN  clublacrosse          NaN  \n",
       "49755     NaN  clublacrosse          NaN  \n",
       "49756     NaN  clublacrosse          NaN  \n",
       "49757     NaN  clublacrosse          NaN  \n",
       "\n",
       "[49469 rows x 15 columns]"
      ]
     },
     "execution_count": 119,
     "metadata": {},
     "output_type": "execute_result"
    }
   ],
   "source": [
    "commitments_df"
   ]
  },
  {
   "cell_type": "markdown",
   "metadata": {},
   "source": [
    "#### 02. Summary table for commitments"
   ]
  },
  {
   "cell_type": "code",
   "execution_count": 27,
   "metadata": {},
   "outputs": [],
   "source": [
    "# create commitments count based on columns"
   ]
  },
  {
   "cell_type": "code",
   "execution_count": 28,
   "metadata": {},
   "outputs": [
    {
     "data": {
      "text/html": [
       "<div>\n",
       "<style scoped>\n",
       "    .dataframe tbody tr th:only-of-type {\n",
       "        vertical-align: middle;\n",
       "    }\n",
       "\n",
       "    .dataframe tbody tr th {\n",
       "        vertical-align: top;\n",
       "    }\n",
       "\n",
       "    .dataframe thead th {\n",
       "        text-align: right;\n",
       "    }\n",
       "</style>\n",
       "<table border=\"1\" class=\"dataframe\">\n",
       "  <thead>\n",
       "    <tr style=\"text-align: right;\">\n",
       "      <th></th>\n",
       "      <th>club</th>\n",
       "      <th>division</th>\n",
       "      <th>gender</th>\n",
       "      <th>commitment_year</th>\n",
       "      <th>state</th>\n",
       "    </tr>\n",
       "  </thead>\n",
       "  <tbody>\n",
       "    <tr>\n",
       "      <th>0</th>\n",
       "      <td>SkyWalkers</td>\n",
       "      <td>D3</td>\n",
       "      <td>girl</td>\n",
       "      <td>2022</td>\n",
       "      <td>MD</td>\n",
       "    </tr>\n",
       "    <tr>\n",
       "      <th>1</th>\n",
       "      <td>NaN</td>\n",
       "      <td>D2</td>\n",
       "      <td>girl</td>\n",
       "      <td>2022</td>\n",
       "      <td>NY</td>\n",
       "    </tr>\n",
       "    <tr>\n",
       "      <th>2</th>\n",
       "      <td>NaN</td>\n",
       "      <td>D1</td>\n",
       "      <td>girl</td>\n",
       "      <td>2022</td>\n",
       "      <td>MD</td>\n",
       "    </tr>\n",
       "    <tr>\n",
       "      <th>3</th>\n",
       "      <td>Looneys</td>\n",
       "      <td>D2</td>\n",
       "      <td>girl</td>\n",
       "      <td>2022</td>\n",
       "      <td>MD</td>\n",
       "    </tr>\n",
       "    <tr>\n",
       "      <th>4</th>\n",
       "      <td>Haudenosaunee</td>\n",
       "      <td>D2</td>\n",
       "      <td>girl</td>\n",
       "      <td>2022</td>\n",
       "      <td>NY</td>\n",
       "    </tr>\n",
       "    <tr>\n",
       "      <th>...</th>\n",
       "      <td>...</td>\n",
       "      <td>...</td>\n",
       "      <td>...</td>\n",
       "      <td>...</td>\n",
       "      <td>...</td>\n",
       "    </tr>\n",
       "    <tr>\n",
       "      <th>49753</th>\n",
       "      <td>TRUE</td>\n",
       "      <td>NaN</td>\n",
       "      <td>girl</td>\n",
       "      <td>2025</td>\n",
       "      <td>NaN</td>\n",
       "    </tr>\n",
       "    <tr>\n",
       "      <th>49754</th>\n",
       "      <td>Primetime</td>\n",
       "      <td>NaN</td>\n",
       "      <td>girl</td>\n",
       "      <td>2025</td>\n",
       "      <td>NaN</td>\n",
       "    </tr>\n",
       "    <tr>\n",
       "      <th>49755</th>\n",
       "      <td>DEWLAX</td>\n",
       "      <td>NaN</td>\n",
       "      <td>girl</td>\n",
       "      <td>2025</td>\n",
       "      <td>NaN</td>\n",
       "    </tr>\n",
       "    <tr>\n",
       "      <th>49756</th>\n",
       "      <td>TEAM BC</td>\n",
       "      <td>NaN</td>\n",
       "      <td>girl</td>\n",
       "      <td>2025</td>\n",
       "      <td>NaN</td>\n",
       "    </tr>\n",
       "    <tr>\n",
       "      <th>49757</th>\n",
       "      <td>NEMS</td>\n",
       "      <td>NaN</td>\n",
       "      <td>girl</td>\n",
       "      <td>2025</td>\n",
       "      <td>NaN</td>\n",
       "    </tr>\n",
       "  </tbody>\n",
       "</table>\n",
       "<p>49469 rows × 5 columns</p>\n",
       "</div>"
      ],
      "text/plain": [
       "                club division gender  commitment_year state\n",
       "0         SkyWalkers       D3   girl             2022    MD\n",
       "1                NaN       D2   girl             2022    NY\n",
       "2                NaN       D1   girl             2022    MD\n",
       "3            Looneys       D2   girl             2022    MD\n",
       "4      Haudenosaunee       D2   girl             2022    NY\n",
       "...              ...      ...    ...              ...   ...\n",
       "49753           TRUE      NaN   girl             2025   NaN\n",
       "49754      Primetime      NaN   girl             2025   NaN\n",
       "49755         DEWLAX      NaN   girl             2025   NaN\n",
       "49756        TEAM BC      NaN   girl             2025   NaN\n",
       "49757           NEMS      NaN   girl             2025   NaN\n",
       "\n",
       "[49469 rows x 5 columns]"
      ]
     },
     "execution_count": 28,
     "metadata": {},
     "output_type": "execute_result"
    }
   ],
   "source": [
    "# group_by_columns = ['club','division','gender','commitment_year','state']\n",
    "# summary_df=commitments_df[['club','division','gender','commitment_year','state']].copy()\n",
    "# summary_df"
   ]
  },
  {
   "cell_type": "code",
   "execution_count": 29,
   "metadata": {},
   "outputs": [],
   "source": [
    "# summary_df.insert(0,'id',range(0,len(summary_df)))"
   ]
  },
  {
   "cell_type": "code",
   "execution_count": 32,
   "metadata": {},
   "outputs": [
    {
     "data": {
      "text/html": [
       "<div>\n",
       "<style scoped>\n",
       "    .dataframe tbody tr th:only-of-type {\n",
       "        vertical-align: middle;\n",
       "    }\n",
       "\n",
       "    .dataframe tbody tr th {\n",
       "        vertical-align: top;\n",
       "    }\n",
       "\n",
       "    .dataframe thead th {\n",
       "        text-align: right;\n",
       "    }\n",
       "</style>\n",
       "<table border=\"1\" class=\"dataframe\">\n",
       "  <thead>\n",
       "    <tr style=\"text-align: right;\">\n",
       "      <th></th>\n",
       "      <th>club</th>\n",
       "      <th>division</th>\n",
       "      <th>gender</th>\n",
       "      <th>commitment_year</th>\n",
       "      <th>state</th>\n",
       "      <th>commitments</th>\n",
       "    </tr>\n",
       "  </thead>\n",
       "  <tbody>\n",
       "    <tr>\n",
       "      <th>0</th>\n",
       "      <td>02</td>\n",
       "      <td>D1</td>\n",
       "      <td>boy</td>\n",
       "      <td>2023</td>\n",
       "      <td>NJ</td>\n",
       "      <td>1</td>\n",
       "    </tr>\n",
       "    <tr>\n",
       "      <th>1</th>\n",
       "      <td>02/Nation United</td>\n",
       "      <td>D1</td>\n",
       "      <td>boy</td>\n",
       "      <td>2021</td>\n",
       "      <td>NJ</td>\n",
       "      <td>1</td>\n",
       "    </tr>\n",
       "    <tr>\n",
       "      <th>2</th>\n",
       "      <td>1</td>\n",
       "      <td>Club</td>\n",
       "      <td>boy</td>\n",
       "      <td>2021</td>\n",
       "      <td>UT</td>\n",
       "      <td>1</td>\n",
       "    </tr>\n",
       "    <tr>\n",
       "      <th>3</th>\n",
       "      <td>1</td>\n",
       "      <td>D1</td>\n",
       "      <td>boy</td>\n",
       "      <td>2020</td>\n",
       "      <td>FL</td>\n",
       "      <td>2</td>\n",
       "    </tr>\n",
       "    <tr>\n",
       "      <th>4</th>\n",
       "      <td>1</td>\n",
       "      <td>D1</td>\n",
       "      <td>boy</td>\n",
       "      <td>2021</td>\n",
       "      <td>IL</td>\n",
       "      <td>1</td>\n",
       "    </tr>\n",
       "    <tr>\n",
       "      <th>...</th>\n",
       "      <td>...</td>\n",
       "      <td>...</td>\n",
       "      <td>...</td>\n",
       "      <td>...</td>\n",
       "      <td>...</td>\n",
       "      <td>...</td>\n",
       "    </tr>\n",
       "    <tr>\n",
       "      <th>15515</th>\n",
       "      <td>t3/Dynamite</td>\n",
       "      <td>D2</td>\n",
       "      <td>girl</td>\n",
       "      <td>2021</td>\n",
       "      <td>PA</td>\n",
       "      <td>1</td>\n",
       "    </tr>\n",
       "    <tr>\n",
       "      <th>15516</th>\n",
       "      <td>t3/FCA</td>\n",
       "      <td>D1</td>\n",
       "      <td>girl</td>\n",
       "      <td>2020</td>\n",
       "      <td>PA</td>\n",
       "      <td>1</td>\n",
       "    </tr>\n",
       "    <tr>\n",
       "      <th>15517</th>\n",
       "      <td>t3/Jersey Shore</td>\n",
       "      <td>D3</td>\n",
       "      <td>girl</td>\n",
       "      <td>2021</td>\n",
       "      <td>NJ</td>\n",
       "      <td>2</td>\n",
       "    </tr>\n",
       "    <tr>\n",
       "      <th>15518</th>\n",
       "      <td>t3/SJ Select</td>\n",
       "      <td>D3</td>\n",
       "      <td>girl</td>\n",
       "      <td>2020</td>\n",
       "      <td>NJ</td>\n",
       "      <td>1</td>\n",
       "    </tr>\n",
       "    <tr>\n",
       "      <th>15519</th>\n",
       "      <td>whallen@aol.com</td>\n",
       "      <td>D3</td>\n",
       "      <td>boy</td>\n",
       "      <td>2022</td>\n",
       "      <td>NY</td>\n",
       "      <td>1</td>\n",
       "    </tr>\n",
       "  </tbody>\n",
       "</table>\n",
       "<p>15520 rows × 6 columns</p>\n",
       "</div>"
      ],
      "text/plain": [
       "                   club division gender  commitment_year state  commitments\n",
       "0                    02       D1    boy             2023    NJ            1\n",
       "1      02/Nation United       D1    boy             2021    NJ            1\n",
       "2                     1     Club    boy             2021    UT            1\n",
       "3                     1       D1    boy             2020    FL            2\n",
       "4                     1       D1    boy             2021    IL            1\n",
       "...                 ...      ...    ...              ...   ...          ...\n",
       "15515       t3/Dynamite       D2   girl             2021    PA            1\n",
       "15516            t3/FCA       D1   girl             2020    PA            1\n",
       "15517   t3/Jersey Shore       D3   girl             2021    NJ            2\n",
       "15518      t3/SJ Select       D3   girl             2020    NJ            1\n",
       "15519   whallen@aol.com       D3    boy             2022    NY            1\n",
       "\n",
       "[15520 rows x 6 columns]"
      ]
     },
     "execution_count": 32,
     "metadata": {},
     "output_type": "execute_result"
    }
   ],
   "source": [
    "# summary_table = summary_df.groupby(group_by_columns)['id'].agg('size').reset_index()\n",
    "# summary_table=summary_table.rename(columns={'id':'commitments'})\n",
    "# summary_table"
   ]
  },
  {
   "cell_type": "code",
   "execution_count": null,
   "metadata": {},
   "outputs": [],
   "source": [
    "# summary_df.groupby(['club','division','gender','commitment_year','state']).agg({'id':['count']})"
   ]
  },
  {
   "cell_type": "code",
   "execution_count": null,
   "metadata": {},
   "outputs": [],
   "source": [
    "# grouped_df=summary_df.groupby(['club','division','gender','commitment_year','state'])\n",
    "# group_sizes = grouped_df.size()\n",
    "# print(group_sizes)"
   ]
  },
  {
   "cell_type": "code",
   "execution_count": null,
   "metadata": {},
   "outputs": [],
   "source": [
    "# group_sizes_df=pd.DataFrame(group_sizes)\n",
    "# # group_sizes_df"
   ]
  },
  {
   "cell_type": "code",
   "execution_count": null,
   "metadata": {},
   "outputs": [],
   "source": [
    "# print(grouped_df.groups)"
   ]
  },
  {
   "cell_type": "markdown",
   "metadata": {},
   "source": [
    "#####  Division column processing"
   ]
  },
  {
   "cell_type": "code",
   "execution_count": null,
   "metadata": {},
   "outputs": [
    {
     "data": {
      "text/plain": [
       "False    43649\n",
       "True      5820\n",
       "Name: division, dtype: int64"
      ]
     },
     "execution_count": 13,
     "metadata": {},
     "output_type": "execute_result"
    }
   ],
   "source": [
    "commitments_df['division'].isna().value_counts()"
   ]
  },
  {
   "cell_type": "markdown",
   "metadata": {},
   "source": [
    "##### position processing"
   ]
  },
  {
   "cell_type": "code",
   "execution_count": null,
   "metadata": {},
   "outputs": [
    {
     "data": {
      "text/plain": [
       "False    48626\n",
       "True       843\n",
       "Name: position, dtype: int64"
      ]
     },
     "execution_count": 14,
     "metadata": {},
     "output_type": "execute_result"
    }
   ],
   "source": [
    "commitments_df['position'].isna().value_counts()"
   ]
  },
  {
   "cell_type": "code",
   "execution_count": 35,
   "metadata": {},
   "outputs": [
    {
     "data": {
      "text/plain": [
       "M                                                           12397\n",
       "A                                                            9487\n",
       "D                                                            8963\n",
       "G                                                            3619\n",
       "Attack                                                       3066\n",
       "Defense                                                      2608\n",
       "Midfield                                                     2026\n",
       "Middie                                                       1605\n",
       "LSM                                                          1353\n",
       "Goalie                                                       1183\n",
       "FO                                                            985\n",
       "Midflied                                                      422\n",
       "Long Stick Midfield|Midfield|Defense|Face Off Specialist      178\n",
       "FO/Draw                                                       156\n",
       "Face Off Specialist                                           132\n",
       "Face Off Specialist|Midfield|Right Wing                       131\n",
       "Long Stick Midfield                                           111\n",
       "FOGO                                                           41\n",
       "attack                                                         30\n",
       "midfield                                                       26\n",
       "Face Off Specialist|Midfield                                   25\n",
       "defense                                                        23\n",
       "Long Stick Midfield|Defense                                    17\n",
       "Faceoff                                                        11\n",
       "SSMF                                                           11\n",
       "goalie                                                          7\n",
       "draw                                                            3\n",
       "Draw                                                            3\n",
       "Draw Specialist                                                 2\n",
       "Long Stick Midfield|Defense|Midfield                            1\n",
       "Goalie|Midfield                                                 1\n",
       "Midfiled                                                        1\n",
       "Goalie|Attack                                                   1\n",
       "Long Stick Midfield|Face Off Specialist                         1\n",
       "Name: position, dtype: int64"
      ]
     },
     "execution_count": 35,
     "metadata": {},
     "output_type": "execute_result"
    }
   ],
   "source": [
    "commitments_df['position'].value_counts()"
   ]
  },
  {
   "cell_type": "code",
   "execution_count": 36,
   "metadata": {},
   "outputs": [],
   "source": [
    "df_postion = commitments_df.copy()"
   ]
  },
  {
   "cell_type": "code",
   "execution_count": 37,
   "metadata": {},
   "outputs": [
    {
     "data": {
      "text/plain": [
       "False    48626\n",
       "True       843\n",
       "Name: position, dtype: int64"
      ]
     },
     "execution_count": 37,
     "metadata": {},
     "output_type": "execute_result"
    }
   ],
   "source": [
    "df_postion['position'].isna().value_counts()"
   ]
  },
  {
   "cell_type": "code",
   "execution_count": 42,
   "metadata": {},
   "outputs": [],
   "source": [
    "input_string = 'Midfield'\n",
    "position_map_dict = {\n",
    "    'Midfield':'M',\n",
    "    'Middie':'M',\n",
    "    'Midflied':'M',\n",
    "    'Midfiled':'M',\n",
    "    'Defense':'D',\n",
    "    'Attack':'A',\n",
    "    'Goal':'G',\n",
    "    'SSMF':'M',\n",
    "    'FO/DRAW':'FO',\n",
    "    'Face Off Specialist':'FO',\n",
    "    'FOGO':'FO',\n",
    "    'Faceoff':'FO',\n",
    "    'Draw':'DRAW'\n",
    "    }"
   ]
  },
  {
   "cell_type": "code",
   "execution_count": 43,
   "metadata": {},
   "outputs": [],
   "source": []
  },
  {
   "cell_type": "code",
   "execution_count": 44,
   "metadata": {},
   "outputs": [],
   "source": [
    "df_postion['position']=df_postion['position'].apply(apply_position_map)"
   ]
  },
  {
   "cell_type": "code",
   "execution_count": 45,
   "metadata": {},
   "outputs": [
    {
     "data": {
      "text/plain": [
       "M       16953\n",
       "A       12584\n",
       "D       11594\n",
       "G        4809\n",
       "LSM      1353\n",
       "FO       1325\n",
       "DRAW        8\n",
       "Name: position, dtype: int64"
      ]
     },
     "execution_count": 45,
     "metadata": {},
     "output_type": "execute_result"
    }
   ],
   "source": [
    "df_postion['position'].value_counts()"
   ]
  },
  {
   "cell_type": "code",
   "execution_count": 46,
   "metadata": {},
   "outputs": [
    {
     "data": {
      "text/plain": [
       "False    48626\n",
       "True       843\n",
       "Name: position, dtype: int64"
      ]
     },
     "execution_count": 46,
     "metadata": {},
     "output_type": "execute_result"
    }
   ],
   "source": [
    "df_postion['position'].isna().value_counts()"
   ]
  },
  {
   "cell_type": "code",
   "execution_count": null,
   "metadata": {},
   "outputs": [],
   "source": [
    "# for rest of cases, we either remove those or replace with nearest options\n"
   ]
  },
  {
   "cell_type": "markdown",
   "metadata": {},
   "source": [
    "#### Camps And Clinics"
   ]
  },
  {
   "cell_type": "code",
   "execution_count": null,
   "metadata": {},
   "outputs": [],
   "source": [
    "camps_clinics_file_path = '../data/camps_and_clinics/gold/camps_and_clinics.csv'"
   ]
  },
  {
   "cell_type": "code",
   "execution_count": null,
   "metadata": {},
   "outputs": [],
   "source": [
    "camps_df = pd.read_csv(camps_clinics_file_path)"
   ]
  },
  {
   "cell_type": "code",
   "execution_count": null,
   "metadata": {},
   "outputs": [],
   "source": [
    "camps_df"
   ]
  },
  {
   "cell_type": "markdown",
   "metadata": {},
   "source": [
    "##### fix formating for event_date"
   ]
  },
  {
   "cell_type": "code",
   "execution_count": null,
   "metadata": {},
   "outputs": [],
   "source": [
    "from datetime import datetime\n",
    "import numpy as np"
   ]
  },
  {
   "cell_type": "code",
   "execution_count": null,
   "metadata": {},
   "outputs": [],
   "source": [
    "def process_date_format(input_date:str):\n",
    "    if input_date is None:\n",
    "        return None\n",
    "    if type(input_date) == float:\n",
    "        return input_date\n",
    "    else:\n",
    "        return datetime.date(input_date).strftime('%m/%d/%Y')"
   ]
  },
  {
   "cell_type": "code",
   "execution_count": null,
   "metadata": {},
   "outputs": [],
   "source": [
    "camps_df['event_date']=pd.to_datetime(camps_df['event_date']).map(process_date_format)\n",
    "camps_df"
   ]
  },
  {
   "cell_type": "code",
   "execution_count": null,
   "metadata": {},
   "outputs": [],
   "source": [
    "camps_df['added']=pd.to_datetime(camps_df['added']).map(lambda x : process_date_format(x) if type(x)==pd.Timestamp else None)\n",
    "camps_df"
   ]
  },
  {
   "cell_type": "code",
   "execution_count": null,
   "metadata": {},
   "outputs": [],
   "source": []
  },
  {
   "cell_type": "markdown",
   "metadata": {},
   "source": [
    "#### clubs Ranking data processing"
   ]
  },
  {
   "cell_type": "code",
   "execution_count": null,
   "metadata": {},
   "outputs": [],
   "source": [
    "clubs_ranking_file_path = '../data/club_ranking/gold/club_ranking.csv'\n",
    "clubs_ranking_df = pd.read_csv(clubs_ranking_file_path)"
   ]
  },
  {
   "cell_type": "code",
   "execution_count": null,
   "metadata": {},
   "outputs": [],
   "source": [
    "clubs_ranking_df"
   ]
  },
  {
   "cell_type": "code",
   "execution_count": null,
   "metadata": {},
   "outputs": [],
   "source": [
    "clubs_ranking_df['rank'][0]"
   ]
  },
  {
   "cell_type": "code",
   "execution_count": null,
   "metadata": {},
   "outputs": [],
   "source": [
    "type(clubs_ranking_df['rank'][0])"
   ]
  },
  {
   "cell_type": "code",
   "execution_count": null,
   "metadata": {},
   "outputs": [],
   "source": [
    "clubs_ranking_df['rank'].value_counts()"
   ]
  },
  {
   "cell_type": "code",
   "execution_count": null,
   "metadata": {},
   "outputs": [],
   "source": [
    "clubs_ranking_df['rank'].map(lambda x: None if x=='--' else x).value_counts()"
   ]
  },
  {
   "cell_type": "code",
   "execution_count": null,
   "metadata": {},
   "outputs": [],
   "source": [
    "clubs_ranking_df['rating'].value_counts()"
   ]
  },
  {
   "cell_type": "code",
   "execution_count": null,
   "metadata": {},
   "outputs": [],
   "source": [
    "clubs_ranking_df['rating'].map(lambda x: None if x=='--' else x).value_counts()"
   ]
  },
  {
   "cell_type": "markdown",
   "metadata": {},
   "source": [
    "#### school ranking data"
   ]
  },
  {
   "cell_type": "code",
   "execution_count": null,
   "metadata": {},
   "outputs": [],
   "source": [
    "school_ranking_file_path = '../data/school_ranking/silver/laxmath.csv'\n",
    "school_ranking_df = pd.read_csv(school_ranking_file_path)"
   ]
  },
  {
   "cell_type": "code",
   "execution_count": null,
   "metadata": {},
   "outputs": [],
   "source": [
    "school_ranking_df"
   ]
  },
  {
   "cell_type": "code",
   "execution_count": null,
   "metadata": {},
   "outputs": [],
   "source": [
    "school_ranking_df['team'].map(lambda x: x.split('(')[0] if type(x)==str else x)"
   ]
  },
  {
   "cell_type": "code",
   "execution_count": null,
   "metadata": {},
   "outputs": [],
   "source": [
    "school_ranking_df['winRatio']= school_ranking_df['team'].map(lambda x: x.split('( ')[1].split(' )')[0] if (type(x)==str and '(' in x) else None)\n",
    "school_ranking_df"
   ]
  },
  {
   "cell_type": "code",
   "execution_count": null,
   "metadata": {},
   "outputs": [],
   "source": [
    "school_ranking_df['team']=school_ranking_df['team'].map(lambda x: x.split('( ')[0].split(' )')[0] if (type(x)==str and '(' in x) else None)\n",
    "school_ranking_df"
   ]
  },
  {
   "cell_type": "code",
   "execution_count": null,
   "metadata": {},
   "outputs": [],
   "source": [
    "school_ranking_df['champ_%']=school_ranking_df['champ_%'].map(lambda y: float(y.split('%')[0].replace(' ','')) if type(y)==str else y)\n",
    "school_ranking_df"
   ]
  },
  {
   "cell_type": "code",
   "execution_count": null,
   "metadata": {},
   "outputs": [],
   "source": [
    "school_ranking_df['champ_%'].value_counts()"
   ]
  },
  {
   "cell_type": "markdown",
   "metadata": {},
   "source": [
    "#### College Rankings"
   ]
  },
  {
   "cell_type": "code",
   "execution_count": null,
   "metadata": {},
   "outputs": [],
   "source": [
    "college_ranking_file_path = '../data/college_ranking/silver/laxmath.csv'\n",
    "college_ranking_df = pd.read_csv(college_ranking_file_path)"
   ]
  },
  {
   "cell_type": "code",
   "execution_count": null,
   "metadata": {},
   "outputs": [],
   "source": [
    "college_ranking_df"
   ]
  },
  {
   "cell_type": "code",
   "execution_count": null,
   "metadata": {},
   "outputs": [],
   "source": [
    "college_ranking_df['winRatio']= college_ranking_df['team'].map(lambda x: x.split('( ')[1].split(' )')[0] if (type(x)==str and '(' in x) else None)\n",
    "college_ranking_df\n",
    "# for x,y in college_ranking_df['team'].map(lambda x: x.split('(')[1].split(')')[0] if type(x)==str else x).value_counts().items():\n",
    "#     print(x)\n",
    "#     print(y)\n"
   ]
  },
  {
   "cell_type": "code",
   "execution_count": null,
   "metadata": {},
   "outputs": [],
   "source": [
    "college_ranking_df['winRatio'].value_counts()"
   ]
  },
  {
   "cell_type": "code",
   "execution_count": null,
   "metadata": {},
   "outputs": [],
   "source": [
    "college_ranking_df['team']=college_ranking_df['team'].map(lambda x: x.split('(')[0] if type(x)==str else x)\n",
    "college_ranking_df"
   ]
  },
  {
   "cell_type": "code",
   "execution_count": null,
   "metadata": {},
   "outputs": [],
   "source": [
    "college_ranking_df['champ_%']=college_ranking_df['champ_%'].map(lambda y: float(y.split('%')[0].replace(' ','')) if type(y)==str else y)\n",
    "college_ranking_df"
   ]
  },
  {
   "cell_type": "code",
   "execution_count": null,
   "metadata": {},
   "outputs": [],
   "source": [
    "college_ranking_df.columns"
   ]
  },
  {
   "cell_type": "code",
   "execution_count": null,
   "metadata": {},
   "outputs": [],
   "source": [
    "# update column maps\n",
    "columns_map = {\n",
    "    'champ_%_rank':'championshipPercentageRank',\n",
    "    'pr':'powerRating',\n",
    "    'sos-pr':'strengthOfSchedulePR',\n",
    "    'qwf-pr':'qualityWinFactorPR',\n",
    "    'champ_%':'championshipPercentage',\n",
    "    'rpi':'ratingPercentageIndex',\n",
    "    'sos-rpi':'strengthOfScheduleRPI',\n",
    "    'qwf-rpi':'qualityWinFactorRPI',\n",
    "    'selection':'selection',\n",
    "    'champion_%':'championPercentage',\n",
    "    }"
   ]
  },
  {
   "cell_type": "code",
   "execution_count": null,
   "metadata": {},
   "outputs": [],
   "source": [
    "from data_helper import map_col_names"
   ]
  },
  {
   "cell_type": "code",
   "execution_count": null,
   "metadata": {},
   "outputs": [],
   "source": [
    "college_ranking_df=map_col_names(college_ranking_df,columns_map)\n",
    "college_ranking_df.columns"
   ]
  },
  {
   "cell_type": "code",
   "execution_count": null,
   "metadata": {},
   "outputs": [],
   "source": []
  }
 ],
 "metadata": {
  "kernelspec": {
   "display_name": "Python 3",
   "language": "python",
   "name": "python3"
  },
  "language_info": {
   "codemirror_mode": {
    "name": "ipython",
    "version": 3
   },
   "file_extension": ".py",
   "mimetype": "text/x-python",
   "name": "python",
   "nbconvert_exporter": "python",
   "pygments_lexer": "ipython3",
   "version": "3.8.10"
  }
 },
 "nbformat": 4,
 "nbformat_minor": 2
}
