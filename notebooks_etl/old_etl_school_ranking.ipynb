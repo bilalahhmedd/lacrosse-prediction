{
 "cells": [
  {
   "cell_type": "code",
   "execution_count": null,
   "metadata": {},
   "outputs": [],
   "source": [
    "\"\"\"etl script for school ranking data\"\"\""
   ]
  },
  {
   "cell_type": "code",
   "execution_count": null,
   "metadata": {},
   "outputs": [],
   "source": [
    "import os\n",
    "import sys\n",
    "import pandas as pd\n",
    "from data_helper import get_csv_dataframes_from_folder\n",
    "from data_helper import set_col_names_lower,set_col_names_underscore_separated,drop_unnamed_columns"
   ]
  },
  {
   "cell_type": "markdown",
   "metadata": {},
   "source": [
    "#### Configuration"
   ]
  },
  {
   "cell_type": "code",
   "execution_count": null,
   "metadata": {},
   "outputs": [],
   "source": [
    "WRITE_DATA_FLAG=True"
   ]
  },
  {
   "cell_type": "code",
   "execution_count": null,
   "metadata": {},
   "outputs": [],
   "source": [
    "DATA_FOLDER_PATH = '../data/extra/school_ranking/'\n",
    "INSIDE_LACROSE_RAW_DATA_PATH = os.path.join(DATA_FOLDER_PATH,'insidelacrosse/output/raw/')\n",
    "INSIDE_LACROSE_BRONZE_DATA_PATH = os.path.join(DATA_FOLDER_PATH,'insidelacrosse/output/bronze/')\n",
    "LAXMATH_RAW_DATA_PATH = os.path.join(DATA_FOLDER_PATH,'laxmath/raw/')\n",
    "LAXMATH_BRONZE_DATA_PATH = os.path.join(DATA_FOLDER_PATH,'laxmath/bronze/')\n"
   ]
  },
  {
   "cell_type": "code",
   "execution_count": null,
   "metadata": {},
   "outputs": [],
   "source": [
    "if not os.path.exists(INSIDE_LACROSE_BRONZE_DATA_PATH):\n",
    "    os.makedirs(INSIDE_LACROSE_BRONZE_DATA_PATH)\n",
    "    print(f'{INSIDE_LACROSE_BRONZE_DATA_PATH} created success ... ')\n",
    "\n",
    "if not os.path.exists(LAXMATH_BRONZE_DATA_PATH):\n",
    "    os.makedirs(LAXMATH_BRONZE_DATA_PATH)\n",
    "    print(f'{LAXMATH_BRONZE_DATA_PATH} created success ... ')\n",
    "    "
   ]
  },
  {
   "cell_type": "markdown",
   "metadata": {},
   "source": [
    "#### Extract"
   ]
  },
  {
   "cell_type": "code",
   "execution_count": null,
   "metadata": {},
   "outputs": [],
   "source": [
    "def extract_inisdelacrosse_raw_to_bronze(\n",
    "        raw_folder_path,\n",
    "        bronze_folder_path,\n",
    "        output_file_name='school_rankings.csv'\n",
    "        ):\n",
    "    \"\"\" extract from raw folder dump into bronze folder\"\"\"\n",
    "    dfs_dict = get_csv_dataframes_from_folder(raw_folder_path)\n",
    "    print('Extraction success')\n",
    "    dfs_list = []\n",
    "    for file_name, dataframe in dfs_dict.items():\n",
    "        gender,season = file_name.split('.csv')[0].split('_')\n",
    "        season = '20'+str(season)\n",
    "        dataframe['gender']=gender\n",
    "        dataframe['season']=season\n",
    "        dfs_list.append(dataframe)\n",
    "    final_df=pd.concat(dfs_list)\n",
    "    final_df= drop_unnamed_columns(set_col_names_underscore_separated(set_col_names_lower(final_df)))\n",
    "    print('Processing success')\n",
    "    final_df.to_csv(os.path.join(bronze_folder_path,output_file_name))\n",
    "    print('Saving to bronze success')"
   ]
  },
  {
   "cell_type": "code",
   "execution_count": null,
   "metadata": {},
   "outputs": [],
   "source": [
    "def extract_laxmath_raw_to_bronze(\n",
    "        raw_folder_path,\n",
    "        bronze_folder_path,\n",
    "        output_file_name='school_rankings.csv'\n",
    "        ):\n",
    "    \"\"\" extract from raw folder dump into bronze folder\"\"\"\n",
    "    dfs_dict = get_csv_dataframes_from_folder(raw_folder_path)\n",
    "    print('Extraction success')\n",
    "    dfs_list = []\n",
    "    for file_name, dataframe in dfs_dict.items():\n",
    "        gender= file_name.split('.csv')[0]\n",
    "        dataframe['gender']=gender\n",
    "        dfs_list.append(dataframe)\n",
    "    final_df=pd.concat(dfs_list)\n",
    "    final_df= drop_unnamed_columns(set_col_names_underscore_separated(set_col_names_lower(final_df)))\n",
    "    print('Processing success')\n",
    "    final_df.to_csv(os.path.join(bronze_folder_path,output_file_name))\n",
    "    print('Saving to bronze success')"
   ]
  },
  {
   "cell_type": "markdown",
   "metadata": {},
   "source": [
    "#### Extract , Transform and Save to Bronze Layer"
   ]
  },
  {
   "cell_type": "code",
   "execution_count": null,
   "metadata": {},
   "outputs": [],
   "source": [
    "extract_inisdelacrosse_raw_to_bronze(raw_folder_path=INSIDE_LACROSE_RAW_DATA_PATH,\n",
    "                                     bronze_folder_path=INSIDE_LACROSE_BRONZE_DATA_PATH,\n",
    "                                     output_file_name='school_rankings_insidelacrosse.csv')"
   ]
  },
  {
   "cell_type": "code",
   "execution_count": null,
   "metadata": {},
   "outputs": [],
   "source": [
    "extract_laxmath_raw_to_bronze(raw_folder_path=LAXMATH_RAW_DATA_PATH,\n",
    "                              bronze_folder_path=LAXMATH_BRONZE_DATA_PATH,\n",
    "                              output_file_name='school_rankings_laxmath.csv')"
   ]
  }
 ],
 "metadata": {
  "kernelspec": {
   "display_name": "Python 3",
   "language": "python",
   "name": "python3"
  },
  "language_info": {
   "codemirror_mode": {
    "name": "ipython",
    "version": 3
   },
   "file_extension": ".py",
   "mimetype": "text/x-python",
   "name": "python",
   "nbconvert_exporter": "python",
   "pygments_lexer": "ipython3",
   "version": "3.8.10"
  }
 },
 "nbformat": 4,
 "nbformat_minor": 2
}
