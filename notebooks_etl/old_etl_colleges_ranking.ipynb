{
 "cells": [
  {
   "cell_type": "code",
   "execution_count": null,
   "metadata": {},
   "outputs": [],
   "source": [
    "\"\"\" this is college ranking data etl notebook \"\"\""
   ]
  },
  {
   "cell_type": "code",
   "execution_count": null,
   "metadata": {},
   "outputs": [],
   "source": [
    "import os\n",
    "import sys\n",
    "import pandas as pd\n",
    "\n",
    "from data_helper import get_csv_dataframes_from_folder\n",
    "from data_helper import set_col_names_lower\n",
    "from data_helper import set_col_names_underscore_separated\n",
    "from data_helper import revamp_file_name\n"
   ]
  },
  {
   "cell_type": "code",
   "execution_count": null,
   "metadata": {},
   "outputs": [],
   "source": [
    "DATA_FOLDER = '../data/extra/college_ranking/'\n",
    "RAW_FOLDER_PATH = os.path.join(DATA_FOLDER,'raw')\n",
    "BRONZE_FODLER_PATH = os.path.join(DATA_FOLDER,'bronze')\n",
    "WRITE_FLAG = True"
   ]
  },
  {
   "cell_type": "code",
   "execution_count": null,
   "metadata": {},
   "outputs": [],
   "source": [
    "\n",
    "if not os.path.exists(BRONZE_FODLER_PATH):\n",
    "    os.makedirs(BRONZE_FODLER_PATH)\n",
    "    print(f'{BRONZE_FODLER_PATH} created success ... ')\n",
    "    "
   ]
  },
  {
   "cell_type": "code",
   "execution_count": null,
   "metadata": {},
   "outputs": [],
   "source": [
    "#### now process folder data\n",
    "os.listdir(RAW_FOLDER_PATH)\n"
   ]
  },
  {
   "cell_type": "code",
   "execution_count": null,
   "metadata": {},
   "outputs": [],
   "source": [
    "folder='laxmath'\n",
    "list_dfs = []\n",
    "folder_to_process = os.path.join(RAW_FOLDER_PATH,folder)\n",
    "print(folder_to_process)\n",
    "print(\"extracting data ... \")\n",
    "dfs_dict = get_csv_dataframes_from_folder(folder_to_process)\n",
    "for file_name , data_frame in dfs_dict.items():\n",
    "    print(file_name)\n",
    "    # print(data_frame.columns)\n",
    "    list_dfs.append(data_frame)\n",
    "final_df = pd.concat(list_dfs)\n",
    "final_df.head()"
   ]
  },
  {
   "cell_type": "code",
   "execution_count": null,
   "metadata": {},
   "outputs": [],
   "source": [
    "folder='lacrosse_reference'\n",
    "list_dfs = []\n",
    "folder_to_process = os.path.join(RAW_FOLDER_PATH,folder)\n",
    "print(folder_to_process)\n",
    "print(\"extracting data ... \")\n",
    "dfs_dict = get_csv_dataframes_from_folder(folder_to_process)\n",
    "for file_name , data_frame in dfs_dict.items():\n",
    "    print(file_name)\n",
    "    # print(data_frame.columns)\n",
    "    list_dfs.append(data_frame)\n",
    "final_df = pd.concat(list_dfs)\n",
    "final_df.head()"
   ]
  },
  {
   "cell_type": "code",
   "execution_count": null,
   "metadata": {},
   "outputs": [],
   "source": [
    "folder='ncaa'\n",
    "list_dfs = []\n",
    "folder_to_process = os.path.join(RAW_FOLDER_PATH,folder)\n",
    "print(folder_to_process)\n",
    "print(\"extracting data ... \")\n",
    "dfs_dict = get_csv_dataframes_from_folder(folder_to_process)\n",
    "for file_name , data_frame in dfs_dict.items():\n",
    "    print(file_name)\n",
    "    # print(data_frame.columns)\n",
    "    list_dfs.append(data_frame)\n",
    "final_df = pd.concat(list_dfs)\n",
    "final_df.head()"
   ]
  },
  {
   "cell_type": "code",
   "execution_count": null,
   "metadata": {},
   "outputs": [],
   "source": [
    "for folder in os.listdir(RAW_FOLDER_PATH):\n",
    "    list_dfs = []\n",
    "    folder_to_process = os.path.join(RAW_FOLDER_PATH,folder)\n",
    "    print(folder_to_process)\n",
    "    print(\"extracting data ... \")\n",
    "    dfs_dict = get_csv_dataframes_from_folder(folder_to_process)\n",
    "    for file_name , data_frame in dfs_dict.items():\n",
    "        print(file_name)\n",
    "        # print(data_frame.columns)\n",
    "        list_dfs.append(data_frame)\n",
    "    final_df = pd.concat(list_dfs)\n",
    "    # write final dataframe into bronze layer\n",
    "    if WRITE_FLAG:\n",
    "        final_df.to_csv(os.path.join(BRONZE_FODLER_PATH,folder+'.csv'))\n",
    "    print(final_df.head())\n"
   ]
  },
  {
   "cell_type": "code",
   "execution_count": null,
   "metadata": {},
   "outputs": [],
   "source": []
  }
 ],
 "metadata": {
  "kernelspec": {
   "display_name": "Python 3",
   "language": "python",
   "name": "python3"
  },
  "language_info": {
   "codemirror_mode": {
    "name": "ipython",
    "version": 3
   },
   "file_extension": ".py",
   "mimetype": "text/x-python",
   "name": "python",
   "nbconvert_exporter": "python",
   "pygments_lexer": "ipython3",
   "version": "3.8.10"
  }
 },
 "nbformat": 4,
 "nbformat_minor": 2
}
