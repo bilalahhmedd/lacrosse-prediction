{
 "cells": [
  {
   "cell_type": "code",
   "execution_count": null,
   "metadata": {},
   "outputs": [],
   "source": [
    "\"\"\" this notebook helps to create database schema table for given dataframe \"\"\""
   ]
  },
  {
   "cell_type": "code",
   "execution_count": null,
   "metadata": {},
   "outputs": [],
   "source": [
    "# testing if query works in database table\n",
    "\n",
    "import os\n",
    "import sys\n",
    "sys.path.insert(1,os.path.join(os.path.realpath('__file__').split(\"lacrosse-prediction\")[0],'lacrosse-prediction'))\n",
    "\n",
    "\n",
    "import pandas as pd\n",
    "from etl.db_and_schema_helper import dev_db_cnn,engine\n",
    "\n",
    "cnn = dev_db_cnn\n",
    "cursor = cnn.cursor()\n",
    "engine=engine"
   ]
  },
  {
   "cell_type": "code",
   "execution_count": null,
   "metadata": {},
   "outputs": [],
   "source": [
    "from etl.data_helper import read_df_using_dtype_map"
   ]
  },
  {
   "cell_type": "code",
   "execution_count": null,
   "metadata": {},
   "outputs": [],
   "source": [
    "query_column_types_map = {'INTEGER':'INT DEFAULT NULL','TEXT':'VARCHAR(90) DEFAULT NULL','REAL':'DOUBLE DEFAULT NULL'}"
   ]
  },
  {
   "cell_type": "code",
   "execution_count": null,
   "metadata": {},
   "outputs": [],
   "source": [
    "CSV_FILE_PATH = '../data/final_stage/testing.csv'\n",
    "TARGET_TABLE_NAME = 'testing'\n",
    "unique_index_cols=[]"
   ]
  },
  {
   "cell_type": "code",
   "execution_count": null,
   "metadata": {},
   "outputs": [],
   "source": [
    "# CSV_FILE_PATH = '../data/final_stage/college_ranking.csv'\n",
    "# TARGET_TABLE_NAME = 'testing_College_Rankings'\n",
    "# unique_index_cols=[]"
   ]
  },
  {
   "cell_type": "code",
   "execution_count": null,
   "metadata": {},
   "outputs": [],
   "source": [
    "# CSV_FILE_PATH = '../data/final_stage/club_ranking.csv'\n",
    "# TARGET_TABLE_NAME = 'testing_Club_Rankings'\n",
    "# unique_index_cols=['club', 'rating', 'link', 'gender', 'class', 'season','webSource']"
   ]
  },
  {
   "cell_type": "code",
   "execution_count": null,
   "metadata": {},
   "outputs": [],
   "source": [
    "# CSV_FILE_PATH = '../data/final_stage/camps_and_clinics.csv'\n",
    "# TARGET_TABLE_NAME = 'testing_Camps_and_Clinics'\n",
    "# unique_index_cols=['event','state', 'year', 'gender', 'added', 'division']\n"
   ]
  },
  {
   "cell_type": "code",
   "execution_count": null,
   "metadata": {},
   "outputs": [],
   "source": [
    "input_df=read_df_using_dtype_map(CSV_FILE_PATH,{})\n",
    "input_df.dtypes"
   ]
  },
  {
   "cell_type": "code",
   "execution_count": null,
   "metadata": {},
   "outputs": [],
   "source": [
    "def replace_using_map(\n",
    "        input_string:str,\n",
    "        input_map:dict\n",
    "        ):\n",
    "    \"\"\" change column maps to query\"\"\"\n",
    "    \n",
    "    for key, val in input_map.items():\n",
    "        input_string=input_string.replace(key,val)\n",
    "    return input_string"
   ]
  },
  {
   "cell_type": "code",
   "execution_count": null,
   "metadata": {},
   "outputs": [],
   "source": [
    "def append_to_query(query:str,input_string:str):\n",
    "    part_0,part_1=query.split('\\n)')\n",
    "    return part_0+',\\n'+f\"{input_string}\"+'\\n)'"
   ]
  },
  {
   "cell_type": "code",
   "execution_count": null,
   "metadata": {},
   "outputs": [],
   "source": [
    "def gen_validated_unique_index(input_df,index_cols=[],index_name='unique_index2'):\n",
    "    \"\"\" validates and returns unique index \"\"\"\n",
    "    output_string = f' UNIQUE KEY `{index_name}` ( '\n",
    "    for col in index_cols:\n",
    "        if col not in input_df.columns:\n",
    "            return None\n",
    "        output_string=output_string +f' `{str(col)}`,'\n",
    "    output_string=output_string[:-1]+') '\n",
    "    return output_string\n"
   ]
  },
  {
   "cell_type": "code",
   "execution_count": null,
   "metadata": {},
   "outputs": [],
   "source": [
    "def add_primary_key_to_query(\n",
    "        input_query:str,\n",
    "        key_col:str,\n",
    "        key_col_type='INT',\n",
    "        constraints='NOT NULL AUTO_INCREMENT',\n",
    "        ):\n",
    "    \"\"\"append primary key part into query\"\"\"\n",
    "    part1,part2=input_query.split('(\\n')\n",
    "    input_query=part1+'(\\n'+f'\"{key_col}\" {key_col_type} {constraints},\\n'+part2\n",
    "    # part1= input_query.split('\\n)')[0]\n",
    "    # input_query = part1+',\\n'+f'PRIMARY KEY (\"{key_col}\")'+'\\n)'\n",
    "    input_query=append_to_query(input_query,f'PRIMARY KEY (\"{key_col}\")')\n",
    "    return input_query"
   ]
  },
  {
   "cell_type": "code",
   "execution_count": null,
   "metadata": {},
   "outputs": [],
   "source": [
    "def gen_table_schema_create_query(\n",
    "        input_df:object,\n",
    "        table_name:str,\n",
    "        column_types_map={},\n",
    "        primary_key_col='id',\n",
    "        primary_key_col_type=\"INT\",\n",
    "        primary_key_constraints='NOT NULL AUTO_INCREMENT',\n",
    "        unique_index_columns=[],\n",
    "        unique_index_name='UNIQUE_INDEX2'\n",
    "    ):\n",
    "    \"\"\" method to create table schema query \"\"\"\n",
    "    query = pd.io.sql.get_schema(input_df,table_name)\n",
    "    query=replace_using_map(query,column_types_map)\n",
    "    query=add_primary_key_to_query(\n",
    "        query,\n",
    "        primary_key_col,\n",
    "        primary_key_col_type,\n",
    "        primary_key_constraints\n",
    "        )\n",
    "    if len(unique_index_columns)> 0:\n",
    "        unique_index_constraint = gen_validated_unique_index(input_df,unique_index_columns,unique_index_name)\n",
    "        if unique_index_constraint is not None:\n",
    "            query = append_to_query(query,unique_index_constraint)\n",
    "    query = query.replace('\"','`')\n",
    "    return f\"\"\"{query}\"\"\"\n",
    "    "
   ]
  },
  {
   "cell_type": "code",
   "execution_count": null,
   "metadata": {},
   "outputs": [],
   "source": [
    "query=gen_table_schema_create_query(input_df,TARGET_TABLE_NAME,query_column_types_map,unique_index_columns=unique_index_cols)\n",
    "# query=query.replace(\"`event` VARCHAR(90)\",\"`event` VARCHAR(255)\")\n",
    "# query=query.replace(\"`link` VARCHAR(90)\",\"`link` VARCHAR(255)\")\n",
    "\n",
    "print(query)"
   ]
  },
  {
   "cell_type": "code",
   "execution_count": null,
   "metadata": {},
   "outputs": [],
   "source": [
    "# cursor.execute(query)"
   ]
  },
  {
   "cell_type": "markdown",
   "metadata": {},
   "source": [
    "#### Workshop"
   ]
  },
  {
   "cell_type": "code",
   "execution_count": null,
   "metadata": {},
   "outputs": [],
   "source": []
  }
 ],
 "metadata": {
  "kernelspec": {
   "display_name": "Python 3",
   "language": "python",
   "name": "python3"
  },
  "language_info": {
   "codemirror_mode": {
    "name": "ipython",
    "version": 3
   },
   "file_extension": ".py",
   "mimetype": "text/x-python",
   "name": "python",
   "nbconvert_exporter": "python",
   "pygments_lexer": "ipython3",
   "version": "3.8.10"
  }
 },
 "nbformat": 4,
 "nbformat_minor": 2
}
