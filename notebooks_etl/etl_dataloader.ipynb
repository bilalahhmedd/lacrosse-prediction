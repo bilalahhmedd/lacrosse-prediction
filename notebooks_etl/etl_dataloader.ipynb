{
 "cells": [
  {
   "cell_type": "code",
   "execution_count": 1,
   "metadata": {},
   "outputs": [
    {
     "data": {
      "text/plain": [
       "' this notebook is for data loading from datafolder into target database '"
      ]
     },
     "execution_count": 1,
     "metadata": {},
     "output_type": "execute_result"
    }
   ],
   "source": [
    "\"\"\" this notebook is for data loading from datafolder into target database \"\"\""
   ]
  },
  {
   "cell_type": "code",
   "execution_count": 2,
   "metadata": {},
   "outputs": [],
   "source": [
    "import os\n",
    "import sys\n",
    "sys.path.insert(1,os.path.join(os.path.realpath('__file__').split(\"lacrosse-prediction\")[0],'lacrosse-prediction'))\n"
   ]
  },
  {
   "cell_type": "code",
   "execution_count": 3,
   "metadata": {},
   "outputs": [],
   "source": [
    "import pandas as pd\n",
    "import mysql.connector\n",
    "from sqlalchemy import create_engine\n",
    "from urllib.parse import quote_plus\n",
    "from etl.db_and_schema_helper import load_df_to_db_table_fast, table_exist\n",
    "from etl.db_and_schema_helper import load_df_to_db_table_row_by_row, get_df_with_records_not_in_db_table\n",
    "from etl.data_helper import read_df_using_dtype_map\n",
    "\n",
    "from etl.db_and_schema_helper import dev_db_cnn,engine"
   ]
  },
  {
   "cell_type": "code",
   "execution_count": 4,
   "metadata": {},
   "outputs": [],
   "source": [
    "CSV_FILE_PATH = '../data/final_stage/testing.csv'\n",
    "TARGET_TABLE_NAME = 'testing'\n",
    "unique_index_cols=[]"
   ]
  },
  {
   "cell_type": "code",
   "execution_count": 5,
   "metadata": {},
   "outputs": [],
   "source": [
    "# CSV_FILE_PATH = '../data/final_stage/school_ranking.csv'\n",
    "# TARGET_TABLE_NAME = 'testing_School_Rankings'\n",
    "# unique_index_cols=[]"
   ]
  },
  {
   "cell_type": "code",
   "execution_count": 6,
   "metadata": {},
   "outputs": [],
   "source": [
    "# CSV_FILE_PATH = '../data/final_stage/college_ranking.csv'\n",
    "# TARGET_TABLE_NAME = 'testing_College_Rankings'\n",
    "# unique_index_cols=[]"
   ]
  },
  {
   "cell_type": "code",
   "execution_count": 7,
   "metadata": {},
   "outputs": [],
   "source": [
    "# CSV_FILE_PATH = '../data/final_stage/camps_and_clinics.csv'\n",
    "# TARGET_TABLE_NAME = 'testing_Camps_and_Clinics'\n",
    "# unique_index_cols=['event','state', 'year', 'gender', 'added', 'division']\n"
   ]
  },
  {
   "cell_type": "code",
   "execution_count": 8,
   "metadata": {},
   "outputs": [],
   "source": [
    "# CSV_FILE_PATH = '../data/final_stage/club_ranking.csv'\n",
    "# TARGET_TABLE_NAME = 'testing_Club_Rankings'\n",
    "# unique_index_cols=['club', 'rating', 'link', 'gender', 'class', 'season','webSource']"
   ]
  },
  {
   "cell_type": "code",
   "execution_count": 9,
   "metadata": {},
   "outputs": [],
   "source": [
    "\n",
    "cnn = dev_db_cnn\n",
    "cursor = cnn.cursor()\n",
    "engine=engine"
   ]
  },
  {
   "cell_type": "markdown",
   "metadata": {},
   "source": [
    "#### Load csv into DataBase"
   ]
  },
  {
   "cell_type": "code",
   "execution_count": 10,
   "metadata": {},
   "outputs": [
    {
     "data": {
      "text/plain": [
       "(89, 9)"
      ]
     },
     "execution_count": 10,
     "metadata": {},
     "output_type": "execute_result"
    }
   ],
   "source": [
    "# read dataframe\n",
    "input_df = read_df_using_dtype_map(CSV_FILE_PATH,{})\n",
    "input_df.shape"
   ]
  },
  {
   "cell_type": "code",
   "execution_count": 11,
   "metadata": {},
   "outputs": [
    {
     "name": "stdout",
     "output_type": "stream",
     "text": [
      "unique records to load: 8\n",
      "loading data into table testing \n",
      "(pymysql.err.DataError) (1406, \"Data too long for column 'link' at row 1\")\n",
      "[SQL: INSERT INTO testing (event_date, gender, added, division, event, link, state, web_source, year) VALUES (%(event_date)s, %(gender)s, %(added)s, %(division)s, %(event)s, %(link)s, %(state)s, %(web_source)s, %(year)s)]\n",
      "[parameters: ({'event_date': '1/5/2024', 'gender': 'Women', 'added': '9/10/2023', 'division': 'D2', 'event': 'Prospect Weekend 3-Day', 'link': 'https://www.eventbrite.com/e/rollins-womens-lacrosse-2023-24-prospect-clinics-registration-698423963877?aff=oddtdtcreator', 'state': 'Florida', 'web_source': 'websrource1', 'year': None}, {'event_date': 'June 13, 2024', 'gender': None, 'added': None, 'division': None, 'event': 'First Exposure Showcase', 'link': 'https://docs.google.com/forms/d/e/1FAIpQLSe8_FDei1S57CCmTKpdN4RF_kqShO5SPJYwTqhYpm86vkh3Hg/viewform', 'state': 'Frederick, MD', 'web_source': 'websource2', 'year': '2025-2028'}, {'event_date': 'June 20, 2024', 'gender': None, 'added': None, 'division': None, 'event': '2024 Villanova College ID Camp I  (Villanova, Loyola, Penn State, Navy, Florida, Louisville, Navy, Hopkins, SJU)', 'link': 'http://www.villanovawomenslacrossecamps.com/shop/product/283860', 'state': 'Conshohocken, PA', 'web_source': 'websource2', 'year': '2025-2027'}, {'event_date': 'June 24, 2024', 'gender': None, 'added': None, 'division': None, 'event': '2024 Villanova College ID Camp II (Villanova, Dartmouth, Penn, Delaware, Drexel, Arizona State, Clemson, Temple, Stanford)', 'link': 'http://www.villanovawomenslacrossecamps.com/shop/product/283860', 'state': 'Conshohocken, PA', 'web_source': 'websource2', 'year': '2025-2027'}, {'event_date': 'June 26-27, 2024', 'gender': None, 'added': None, 'division': None, 'event': 'Elite 180 Lacrosse (Middlebury, Williams, Bowdoin, Babson, Conn. College, Tufts, Trinity, MIT, Vassar, Amherst, Skidmore, Haverford, U Chicago, Wesleyan, Hamilton, Bates)', 'link': 'https://www.elite180lax.com/', 'state': 'Northfield Mount Hermon School', 'web_source': 'websource2', 'year': '2025-2027'}, {'event_date': 'July 8-9, 2024', 'gender': None, 'added': None, 'division': None, 'event': 'Notre Dame Lacrosse Elite Day Camp', 'link': 'https://campscui.active.com/orgs/UniversityofNotreDame#/selectSessions/3431740/filter/session=61557040', 'state': 'South Bend, IN', 'web_source': 'websource2', 'year': '2025-2028'}, {'event_date': 'July 22, 2024', 'gender': None, 'added': None, 'division': None, 'event': '2024 Villanova College ID Camp III (Villanova, Towson, Albany, Harvard, Michigan, Princeton, Maryland, Brown, Rutgers, Lehigh)', 'link': 'http://www.villanovawomenslacrossecamps.com/shop/product/283860', 'state': 'Conshohocken, PA', 'web_source': 'websource2', 'year': '2025-2027'}, {'event_date': 'July 23-24, 2024', 'gender': None, 'added': None, 'division': None, 'event': 'Top Prospect Collegiate Showcase (Harvard, Notre Dame, Navy, Louisville, Georgetown, UMASS Amherst, Albany, Villanova, Pitt, Coastal Carolina, Temple, Vermont)', 'link': 'https://www.willslax.com/page/show/7712393-top-prospect-collegiate-showcase', 'state': 'Baltimore, MD', 'web_source': 'websource2', 'year': '2025-2028'})]\n",
      "(Background on this error at: https://sqlalche.me/e/14/9h9h)\n",
      "records skipped: 5\n",
      "0 records added success\n",
      "records skipped: 8\n"
     ]
    }
   ],
   "source": [
    "if not table_exist(TARGET_TABLE_NAME,engine):\n",
    "    print(f'{TARGET_TABLE_NAME} table not exist in database')\n",
    "else:\n",
    "    df_to_load = get_df_with_records_not_in_db_table(input_df,TARGET_TABLE_NAME,engine,unique_index_cols)\n",
    "    if load_df_to_db_table_fast(\n",
    "        df_to_load,\n",
    "        TARGET_TABLE_NAME,\n",
    "        engine\n",
    "        ):\n",
    "        print(f\"data pushed to database table {TARGET_TABLE_NAME} using fast method\")\n",
    "    else:\n",
    "        load_df_to_db_table_row_by_row(\n",
    "            df_to_load,\n",
    "            TARGET_TABLE_NAME,\n",
    "            engine,\n",
    "        )\n"
   ]
  },
  {
   "cell_type": "markdown",
   "metadata": {},
   "source": [
    "#### Workshoop"
   ]
  },
  {
   "cell_type": "code",
   "execution_count": null,
   "metadata": {},
   "outputs": [],
   "source": []
  }
 ],
 "metadata": {
  "kernelspec": {
   "display_name": "Python 3.8.10 64-bit",
   "language": "python",
   "name": "python3"
  },
  "language_info": {
   "codemirror_mode": {
    "name": "ipython",
    "version": 3
   },
   "file_extension": ".py",
   "mimetype": "text/x-python",
   "name": "python",
   "nbconvert_exporter": "python",
   "pygments_lexer": "ipython3",
   "version": "3.8.10"
  },
  "orig_nbformat": 4,
  "vscode": {
   "interpreter": {
    "hash": "31f2aee4e71d21fbe5cf8b01ff0e069b9275f58929596ceb00d14d90e3e16cd6"
   }
  }
 },
 "nbformat": 4,
 "nbformat_minor": 2
}
