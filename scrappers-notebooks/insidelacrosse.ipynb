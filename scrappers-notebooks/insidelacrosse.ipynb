{
 "cells": [
  {
   "cell_type": "code",
   "execution_count": 9,
   "metadata": {},
   "outputs": [
    {
     "data": {
      "text/plain": [
       "'/home/bilal/.local/lib/python3.8/site-packages/chromedriver_autoinstaller/106/chromedriver'"
      ]
     },
     "execution_count": 9,
     "metadata": {},
     "output_type": "execute_result"
    }
   ],
   "source": [
    "import pandas as pd\n",
    "from time import sleep\n",
    "from selenium.webdriver.common.keys import Keys\n",
    "from selenium import webdriver\n",
    "import os\n",
    "import chromedriver_autoinstaller\n",
    "from selenium.webdriver.common.action_chains import ActionChains\n",
    "\n",
    "from selenium.webdriver.common.by import By\n",
    "from selenium.webdriver.support import expected_conditions as EC\n",
    "from selenium.webdriver.support.wait import WebDriverWait\n",
    "from selenium.webdriver.support.ui import Select\n",
    "opt = webdriver.ChromeOptions()\n",
    "opt.add_argument(\"--start-maximized\")\n",
    "opt.add_experimental_option(\"excludeSwitches\", [\"disable-popup-blocking\"])\n",
    "# opt.add_argument(\"--lang=en\")\n",
    "chromedriver_autoinstaller.install()"
   ]
  },
  {
   "cell_type": "code",
   "execution_count": 10,
   "metadata": {},
   "outputs": [
    {
     "name": "stdout",
     "output_type": "stream",
     "text": [
      "Requirement already satisfied: selenium in /home/bilal/.local/lib/python3.8/site-packages (4.17.2)\n",
      "Requirement already satisfied: typing_extensions>=4.9.0 in /home/bilal/.local/lib/python3.8/site-packages (from selenium) (4.9.0)\n",
      "Requirement already satisfied: trio~=0.17 in /home/bilal/.local/lib/python3.8/site-packages (from selenium) (0.24.0)\n",
      "Requirement already satisfied: urllib3[socks]<3,>=1.26 in /home/bilal/.local/lib/python3.8/site-packages (from selenium) (2.2.0)\n",
      "Requirement already satisfied: certifi>=2021.10.8 in /home/bilal/.local/lib/python3.8/site-packages (from selenium) (2024.2.2)\n",
      "Requirement already satisfied: trio-websocket~=0.9 in /home/bilal/.local/lib/python3.8/site-packages (from selenium) (0.11.1)\n",
      "Requirement already satisfied: sniffio>=1.3.0 in /home/bilal/.local/lib/python3.8/site-packages (from trio~=0.17->selenium) (1.3.0)\n",
      "Requirement already satisfied: outcome in /home/bilal/.local/lib/python3.8/site-packages (from trio~=0.17->selenium) (1.3.0.post0)\n",
      "Requirement already satisfied: sortedcontainers in /home/bilal/.local/lib/python3.8/site-packages (from trio~=0.17->selenium) (2.4.0)\n",
      "Requirement already satisfied: exceptiongroup in /home/bilal/.local/lib/python3.8/site-packages (from trio~=0.17->selenium) (1.2.0)\n",
      "Requirement already satisfied: idna in /home/bilal/anaconda3/lib/python3.8/site-packages (from trio~=0.17->selenium) (2.10)\n",
      "Requirement already satisfied: attrs>=20.1.0 in /home/bilal/.local/lib/python3.8/site-packages (from trio~=0.17->selenium) (23.2.0)\n",
      "Requirement already satisfied: wsproto>=0.14 in /home/bilal/.local/lib/python3.8/site-packages (from trio-websocket~=0.9->selenium) (1.2.0)\n",
      "Requirement already satisfied: pysocks!=1.5.7,<2.0,>=1.5.6 in /home/bilal/.local/lib/python3.8/site-packages (from urllib3[socks]<3,>=1.26->selenium) (1.7.1)\n",
      "Requirement already satisfied: h11<1,>=0.9.0 in /home/bilal/.local/lib/python3.8/site-packages (from wsproto>=0.14->trio-websocket~=0.9->selenium) (0.14.0)\n"
     ]
    }
   ],
   "source": [
    "# !pip install selenium\n",
    "# !pip install chromedriver\n",
    "# !pip install chromedriver_autoinstaller"
   ]
  },
  {
   "cell_type": "code",
   "execution_count": 11,
   "metadata": {},
   "outputs": [],
   "source": [
    "\n",
    "scrape_links={\"INSIDE LACROSSE (GIRLS)\": \"https://www.insidelacrosse.com/recruiting/allcommitments/girls\",               \n",
    "\n",
    "\"INSIDE LACROSSE (BOYS)\": \"https://www.insidelacrosse.com/recruiting/allcommitments\"}\n"
   ]
  },
  {
   "cell_type": "code",
   "execution_count": 12,
   "metadata": {},
   "outputs": [],
   "source": [
    "output_folder_name=\"../testing/insidelacrosse\"\n",
    "if (not os.path.exists(output_folder_name)):\n",
    "    os.mkdir(output_folder_name)"
   ]
  },
  {
   "cell_type": "code",
   "execution_count": 13,
   "metadata": {},
   "outputs": [],
   "source": [
    "driver = webdriver.Chrome(options=opt)"
   ]
  },
  {
   "cell_type": "code",
   "execution_count": 18,
   "metadata": {},
   "outputs": [
    {
     "name": "stdout",
     "output_type": "stream",
     "text": [
      "scrapping for INSIDE LACROSSE (GIRLS)\n",
      "\n",
      "https://www.insidelacrosse.com/recruiting/allcommitments/girls\n",
      "scrolling to load all the tables....\n",
      "\n"
     ]
    },
    {
     "ename": "KeyboardInterrupt",
     "evalue": "",
     "output_type": "error",
     "traceback": [
      "\u001b[0;31m---------------------------------------------------------------------------\u001b[0m",
      "\u001b[0;31mKeyboardInterrupt\u001b[0m                         Traceback (most recent call last)",
      "\u001b[0;32m<ipython-input-18-528288602d92>\u001b[0m in \u001b[0;36m<module>\u001b[0;34m\u001b[0m\n\u001b[1;32m      8\u001b[0m     \u001b[0;32mfor\u001b[0m \u001b[0mx\u001b[0m \u001b[0;32min\u001b[0m \u001b[0mrange\u001b[0m \u001b[0;34m(\u001b[0m\u001b[0;36m0\u001b[0m\u001b[0;34m,\u001b[0m\u001b[0;36m1000\u001b[0m\u001b[0;34m)\u001b[0m\u001b[0;34m:\u001b[0m\u001b[0;34m\u001b[0m\u001b[0;34m\u001b[0m\u001b[0m\n\u001b[1;32m      9\u001b[0m         \u001b[0mdriver\u001b[0m\u001b[0;34m.\u001b[0m\u001b[0mexecute_script\u001b[0m\u001b[0;34m(\u001b[0m\u001b[0;34m\"window.scrollTo(0, document.body.scrollHeight);\"\u001b[0m\u001b[0;34m)\u001b[0m\u001b[0;34m\u001b[0m\u001b[0;34m\u001b[0m\u001b[0m\n\u001b[0;32m---> 10\u001b[0;31m         \u001b[0msleep\u001b[0m\u001b[0;34m(\u001b[0m\u001b[0;36m1\u001b[0m\u001b[0;34m)\u001b[0m  \u001b[0;31m# Adding a delay to wait for the new content to load\u001b[0m\u001b[0;34m\u001b[0m\u001b[0;34m\u001b[0m\u001b[0m\n\u001b[0m\u001b[1;32m     11\u001b[0m         \u001b[0;31m# results=driver.find_elements_by_xpath('.//table[@class=\"table box table-striped\"]')\u001b[0m\u001b[0;34m\u001b[0m\u001b[0;34m\u001b[0m\u001b[0;34m\u001b[0m\u001b[0m\n\u001b[1;32m     12\u001b[0m         \u001b[0mresults\u001b[0m\u001b[0;34m=\u001b[0m\u001b[0mdriver\u001b[0m\u001b[0;34m.\u001b[0m\u001b[0mfind_element\u001b[0m\u001b[0;34m(\u001b[0m\u001b[0mBy\u001b[0m\u001b[0;34m.\u001b[0m\u001b[0mXPATH\u001b[0m\u001b[0;34m,\u001b[0m \u001b[0;34m'.//table[@class=\"table box table-striped\"]'\u001b[0m\u001b[0;34m)\u001b[0m\u001b[0;34m\u001b[0m\u001b[0;34m\u001b[0m\u001b[0m\n",
      "\u001b[0;31mKeyboardInterrupt\u001b[0m: "
     ]
    }
   ],
   "source": [
    "for key in scrape_links.keys():\n",
    "    print(f\"scrapping for {key}\\n\")\n",
    "    print(scrape_links[key])\n",
    "    driver.get(scrape_links[key])\n",
    "    sleep(5)\n",
    "    \n",
    "    print(\"scrolling to load all the tables....\\n\")\n",
    "    for x in range (0,1000):\n",
    "        driver.execute_script(\"window.scrollTo(0, document.body.scrollHeight);\")\n",
    "        sleep(1)  # Adding a delay to wait for the new content to load\n",
    "        # results=driver.find_elements_by_xpath('.//table[@class=\"table box table-striped\"]')\n",
    "        results=driver.find_element(By.XPATH, './/table[@class=\"table box table-striped\"]')\n",
    "\n",
    "        # table_html = results[-1].get_attribute(\"outerHTML\")\n",
    "        table_html = results.get_attribute(\"outerHTML\")\n",
    "        \n",
    "        # Use Pandas to read HTML and convert it to a DataFrame\n",
    "        df = pd.read_html(table_html)[0]\n",
    "        if df.shape[0] == 0:\n",
    "            break\n",
    "    final_dfs=[]\n",
    "    print(\"retrieving all data.... \\n\")\n",
    "    \n",
    "    results=driver.find_elements(By.XPATH,'.//table[@class=\"table box table-striped\"]')\n",
    "    for each_table in results:\n",
    "\n",
    "        # Use Pandas to read HTML and convert it to a DataFrame\n",
    "        df = pd.read_html(each_table.get_attribute(\"outerHTML\"))[0]\n",
    "        final_dfs.append(df)\n",
    "    result_df=pd.concat(final_dfs, axis=0, ignore_index=True)\n",
    "    \n",
    "    print(f\"{result_df.shape} records found\")\n",
    "    \n",
    "    result_df.to_csv(f\"{output_folder_name}/{key.replace(' ','_').lower()}.csv\", index =False)\n",
    "    \n",
    "    print(\"csv SAVED\")\n",
    "    \n",
    "print(\"Completed \")\n",
    "\n",
    "    \n",
    "        \n",
    "    \n",
    "\n",
    "    "
   ]
  },
  {
   "cell_type": "code",
   "execution_count": 16,
   "metadata": {},
   "outputs": [
    {
     "data": {
      "text/plain": [
       "0"
      ]
     },
     "execution_count": 16,
     "metadata": {},
     "output_type": "execute_result"
    }
   ],
   "source": [
    "len(results)"
   ]
  },
  {
   "cell_type": "code",
   "execution_count": 5,
   "metadata": {},
   "outputs": [],
   "source": [
    "driver.close()"
   ]
  },
  {
   "cell_type": "markdown",
   "metadata": {},
   "source": [
    "#### workshop area"
   ]
  },
  {
   "cell_type": "code",
   "execution_count": 41,
   "metadata": {},
   "outputs": [],
   "source": [
    "link = 'https://www.insidelacrosse.com/recruiting/allcommitments/girls'"
   ]
  },
  {
   "cell_type": "code",
   "execution_count": 56,
   "metadata": {},
   "outputs": [],
   "source": [
    "final_dfs = []"
   ]
  },
  {
   "cell_type": "code",
   "execution_count": 61,
   "metadata": {},
   "outputs": [],
   "source": [
    "driver.get(link)"
   ]
  },
  {
   "cell_type": "code",
   "execution_count": 108,
   "metadata": {},
   "outputs": [],
   "source": [
    "driver.execute_script(\"window.scrollTo(0, document.body.scrollHeight);\")\n",
    "sleep(1)"
   ]
  },
  {
   "cell_type": "code",
   "execution_count": 109,
   "metadata": {},
   "outputs": [],
   "source": [
    "results=driver.find_elements(By.XPATH, './/table[@class=\"table box table-striped\"]')"
   ]
  },
  {
   "cell_type": "code",
   "execution_count": 110,
   "metadata": {},
   "outputs": [
    {
     "data": {
      "text/plain": [
       "[<selenium.webdriver.remote.webelement.WebElement (session=\"1883100d90c42687a00cb89be6d71e10\", element=\"6b9b7548-9ddc-4ce2-ad06-ad1f717f5d4d\")>,\n",
       " <selenium.webdriver.remote.webelement.WebElement (session=\"1883100d90c42687a00cb89be6d71e10\", element=\"1f52822b-234d-4f67-aa22-dbf43c4333ea\")>,\n",
       " <selenium.webdriver.remote.webelement.WebElement (session=\"1883100d90c42687a00cb89be6d71e10\", element=\"7cb475b3-b7e3-40fa-ad62-11ce52ac8fda\")>]"
      ]
     },
     "execution_count": 110,
     "metadata": {},
     "output_type": "execute_result"
    }
   ],
   "source": [
    "results"
   ]
  },
  {
   "cell_type": "code",
   "execution_count": 111,
   "metadata": {},
   "outputs": [
    {
     "data": {
      "text/plain": [
       "3"
      ]
     },
     "execution_count": 111,
     "metadata": {},
     "output_type": "execute_result"
    }
   ],
   "source": [
    "len(results)"
   ]
  },
  {
   "cell_type": "code",
   "execution_count": 112,
   "metadata": {},
   "outputs": [],
   "source": [
    "table_html = results[-1].get_attribute(\"outerHTML\")"
   ]
  },
  {
   "cell_type": "code",
   "execution_count": 113,
   "metadata": {},
   "outputs": [],
   "source": [
    "df = pd.read_html(table_html)[0]"
   ]
  },
  {
   "cell_type": "code",
   "execution_count": 114,
   "metadata": {},
   "outputs": [
    {
     "data": {
      "text/html": [
       "<div>\n",
       "<style scoped>\n",
       "    .dataframe tbody tr th:only-of-type {\n",
       "        vertical-align: middle;\n",
       "    }\n",
       "\n",
       "    .dataframe tbody tr th {\n",
       "        vertical-align: top;\n",
       "    }\n",
       "\n",
       "    .dataframe thead th {\n",
       "        text-align: right;\n",
       "    }\n",
       "</style>\n",
       "<table border=\"1\" class=\"dataframe\">\n",
       "  <thead>\n",
       "    <tr style=\"text-align: right;\">\n",
       "      <th></th>\n",
       "      <th>Name</th>\n",
       "      <th>Pos</th>\n",
       "      <th>Class</th>\n",
       "      <th>High School</th>\n",
       "      <th>Date</th>\n",
       "      <th>Commitment</th>\n",
       "      <th>Rating</th>\n",
       "    </tr>\n",
       "  </thead>\n",
       "  <tbody>\n",
       "    <tr>\n",
       "      <th>0</th>\n",
       "      <td>Reilly Cereghino</td>\n",
       "      <td>M</td>\n",
       "      <td>2025</td>\n",
       "      <td>Massapequa High School (NY)</td>\n",
       "      <td>12/7/2023</td>\n",
       "      <td>Sacred Heart</td>\n",
       "      <td>--</td>\n",
       "    </tr>\n",
       "    <tr>\n",
       "      <th>1</th>\n",
       "      <td>Sienna Connolly</td>\n",
       "      <td>D</td>\n",
       "      <td>2025</td>\n",
       "      <td>South Side High School (NY)</td>\n",
       "      <td>12/6/2023</td>\n",
       "      <td>Northwestern</td>\n",
       "      <td>--</td>\n",
       "    </tr>\n",
       "    <tr>\n",
       "      <th>2</th>\n",
       "      <td>Lauren Polk</td>\n",
       "      <td>A</td>\n",
       "      <td>2025</td>\n",
       "      <td>Gerstell Academy (MD)</td>\n",
       "      <td>12/6/2023</td>\n",
       "      <td>Queens</td>\n",
       "      <td>--</td>\n",
       "    </tr>\n",
       "    <tr>\n",
       "      <th>3</th>\n",
       "      <td>Lena Rockhill</td>\n",
       "      <td>A</td>\n",
       "      <td>2025</td>\n",
       "      <td>C. Milton Wright High School (MD)</td>\n",
       "      <td>12/5/2023</td>\n",
       "      <td>Radford</td>\n",
       "      <td>--</td>\n",
       "    </tr>\n",
       "    <tr>\n",
       "      <th>4</th>\n",
       "      <td>Taylor Bergey</td>\n",
       "      <td>A</td>\n",
       "      <td>2025</td>\n",
       "      <td>Downingtown West High School (PA)</td>\n",
       "      <td>12/5/2023</td>\n",
       "      <td>Tampa</td>\n",
       "      <td>--</td>\n",
       "    </tr>\n",
       "    <tr>\n",
       "      <th>5</th>\n",
       "      <td>Aubrey Roth</td>\n",
       "      <td>A</td>\n",
       "      <td>2025</td>\n",
       "      <td>Greenwich High School (CT)</td>\n",
       "      <td>12/5/2023</td>\n",
       "      <td>William &amp; Mary</td>\n",
       "      <td>--</td>\n",
       "    </tr>\n",
       "    <tr>\n",
       "      <th>6</th>\n",
       "      <td>Mackenzie DelaRaba</td>\n",
       "      <td>A</td>\n",
       "      <td>2025</td>\n",
       "      <td>Sachem High School North (NY)</td>\n",
       "      <td>12/4/2023</td>\n",
       "      <td>Kutztown</td>\n",
       "      <td>--</td>\n",
       "    </tr>\n",
       "    <tr>\n",
       "      <th>7</th>\n",
       "      <td>Jordan DiPietro</td>\n",
       "      <td>A</td>\n",
       "      <td>2025</td>\n",
       "      <td>Falmouth High School (MA)</td>\n",
       "      <td>12/4/2023</td>\n",
       "      <td>Mercer</td>\n",
       "      <td>--</td>\n",
       "    </tr>\n",
       "    <tr>\n",
       "      <th>8</th>\n",
       "      <td>Natalie Wirth</td>\n",
       "      <td>D</td>\n",
       "      <td>2025</td>\n",
       "      <td>Fallston High School (MD)</td>\n",
       "      <td>12/4/2023</td>\n",
       "      <td>VCU</td>\n",
       "      <td>--</td>\n",
       "    </tr>\n",
       "    <tr>\n",
       "      <th>9</th>\n",
       "      <td>Maura Brownlee</td>\n",
       "      <td>D</td>\n",
       "      <td>2025</td>\n",
       "      <td>Mercy High School (MD)</td>\n",
       "      <td>12/4/2023</td>\n",
       "      <td>St. Mary's (MD)</td>\n",
       "      <td>--</td>\n",
       "    </tr>\n",
       "    <tr>\n",
       "      <th>10</th>\n",
       "      <td>Eden Ocampo</td>\n",
       "      <td>A</td>\n",
       "      <td>2025</td>\n",
       "      <td>Tabor Academy (MA)</td>\n",
       "      <td>12/3/2023</td>\n",
       "      <td>Vermont</td>\n",
       "      <td>--</td>\n",
       "    </tr>\n",
       "    <tr>\n",
       "      <th>11</th>\n",
       "      <td>Brooke Picca</td>\n",
       "      <td>D</td>\n",
       "      <td>2025</td>\n",
       "      <td>Toms River High South (NJ)</td>\n",
       "      <td>12/3/2023</td>\n",
       "      <td>Kutztown</td>\n",
       "      <td>--</td>\n",
       "    </tr>\n",
       "    <tr>\n",
       "      <th>12</th>\n",
       "      <td>Charley Drouin</td>\n",
       "      <td>A</td>\n",
       "      <td>2025</td>\n",
       "      <td>Phillips Academy Andover (MA)</td>\n",
       "      <td>12/2/2023</td>\n",
       "      <td>Colgate</td>\n",
       "      <td>--</td>\n",
       "    </tr>\n",
       "    <tr>\n",
       "      <th>13</th>\n",
       "      <td>Catherine Marshall</td>\n",
       "      <td>M</td>\n",
       "      <td>2025</td>\n",
       "      <td>Catholic Central High School (MI)</td>\n",
       "      <td>12/2/2023</td>\n",
       "      <td>UMass</td>\n",
       "      <td>--</td>\n",
       "    </tr>\n",
       "    <tr>\n",
       "      <th>14</th>\n",
       "      <td>Savannah Libby</td>\n",
       "      <td>M</td>\n",
       "      <td>2025</td>\n",
       "      <td>Broadneck High School (MD)</td>\n",
       "      <td>12/2/2023</td>\n",
       "      <td>Salisbury</td>\n",
       "      <td>--</td>\n",
       "    </tr>\n",
       "    <tr>\n",
       "      <th>15</th>\n",
       "      <td>Andrea Hartman</td>\n",
       "      <td>D</td>\n",
       "      <td>2025</td>\n",
       "      <td>Murrieta Mesa High School (CA)</td>\n",
       "      <td>12/2/2023</td>\n",
       "      <td>Gardner-Webb</td>\n",
       "      <td>--</td>\n",
       "    </tr>\n",
       "    <tr>\n",
       "      <th>16</th>\n",
       "      <td>Kendall Bennett</td>\n",
       "      <td>D</td>\n",
       "      <td>2025</td>\n",
       "      <td>Shore Regional High School (NJ)</td>\n",
       "      <td>12/1/2023</td>\n",
       "      <td>Quinnipiac</td>\n",
       "      <td>--</td>\n",
       "    </tr>\n",
       "    <tr>\n",
       "      <th>17</th>\n",
       "      <td>Micaela Gillis</td>\n",
       "      <td>A</td>\n",
       "      <td>2025</td>\n",
       "      <td>Massapequa High School (NY)</td>\n",
       "      <td>12/1/2023</td>\n",
       "      <td>Jacksonville</td>\n",
       "      <td>--</td>\n",
       "    </tr>\n",
       "    <tr>\n",
       "      <th>18</th>\n",
       "      <td>Mackenzie Feiner</td>\n",
       "      <td>D</td>\n",
       "      <td>2025</td>\n",
       "      <td>The Benjamin School (FL)</td>\n",
       "      <td>11/30/2023</td>\n",
       "      <td>William &amp; Mary</td>\n",
       "      <td>--</td>\n",
       "    </tr>\n",
       "    <tr>\n",
       "      <th>19</th>\n",
       "      <td>Ava Harrington</td>\n",
       "      <td>D</td>\n",
       "      <td>2025</td>\n",
       "      <td>Olentangy High School (OH)</td>\n",
       "      <td>11/30/2023</td>\n",
       "      <td>Niagara</td>\n",
       "      <td>--</td>\n",
       "    </tr>\n",
       "    <tr>\n",
       "      <th>20</th>\n",
       "      <td>Emily Parisi</td>\n",
       "      <td>M</td>\n",
       "      <td>2025</td>\n",
       "      <td>Commack High School (NY)</td>\n",
       "      <td>11/30/2023</td>\n",
       "      <td>Sacred Heart</td>\n",
       "      <td>--</td>\n",
       "    </tr>\n",
       "    <tr>\n",
       "      <th>21</th>\n",
       "      <td>Maddy Eder-Linell</td>\n",
       "      <td>G</td>\n",
       "      <td>2025</td>\n",
       "      <td>Bishop Guertin High School (NH)</td>\n",
       "      <td>11/30/2023</td>\n",
       "      <td>Sacred Heart</td>\n",
       "      <td>--</td>\n",
       "    </tr>\n",
       "    <tr>\n",
       "      <th>22</th>\n",
       "      <td>Angie efstathiou</td>\n",
       "      <td>M</td>\n",
       "      <td>2025</td>\n",
       "      <td>Miller Place High School (NY)</td>\n",
       "      <td>11/29/2023</td>\n",
       "      <td>Siena</td>\n",
       "      <td>--</td>\n",
       "    </tr>\n",
       "    <tr>\n",
       "      <th>23</th>\n",
       "      <td>Isabella Acevedo-Feldman</td>\n",
       "      <td>M</td>\n",
       "      <td>2025</td>\n",
       "      <td>Howell High School (NJ)</td>\n",
       "      <td>11/29/2023</td>\n",
       "      <td>Sacred Heart</td>\n",
       "      <td>--</td>\n",
       "    </tr>\n",
       "    <tr>\n",
       "      <th>24</th>\n",
       "      <td>Molly Mitchell</td>\n",
       "      <td>A</td>\n",
       "      <td>2025</td>\n",
       "      <td>Suffern Senior High School (NY)</td>\n",
       "      <td>11/29/2023</td>\n",
       "      <td>Manhattan</td>\n",
       "      <td>--</td>\n",
       "    </tr>\n",
       "    <tr>\n",
       "      <th>25</th>\n",
       "      <td>Ashlyn Carpenter</td>\n",
       "      <td>A</td>\n",
       "      <td>2025</td>\n",
       "      <td>Chatham High School (NJ)</td>\n",
       "      <td>11/29/2023</td>\n",
       "      <td>Rhode Island</td>\n",
       "      <td>--</td>\n",
       "    </tr>\n",
       "    <tr>\n",
       "      <th>26</th>\n",
       "      <td>Gabby Jondle</td>\n",
       "      <td>M</td>\n",
       "      <td>2025</td>\n",
       "      <td>Liverpool High School (NY)</td>\n",
       "      <td>11/29/2023</td>\n",
       "      <td>Longwood</td>\n",
       "      <td>--</td>\n",
       "    </tr>\n",
       "    <tr>\n",
       "      <th>27</th>\n",
       "      <td>Ally Melton</td>\n",
       "      <td>G</td>\n",
       "      <td>2025</td>\n",
       "      <td>Langley High School (VA)</td>\n",
       "      <td>11/28/2023</td>\n",
       "      <td>Monmouth</td>\n",
       "      <td>--</td>\n",
       "    </tr>\n",
       "    <tr>\n",
       "      <th>28</th>\n",
       "      <td>Charlize Vang</td>\n",
       "      <td>A</td>\n",
       "      <td>2025</td>\n",
       "      <td>Benilde-St Margaret'S School (MN)</td>\n",
       "      <td>11/27/2023</td>\n",
       "      <td>Lindenwood</td>\n",
       "      <td>--</td>\n",
       "    </tr>\n",
       "    <tr>\n",
       "      <th>29</th>\n",
       "      <td>Madi Zahn</td>\n",
       "      <td>A</td>\n",
       "      <td>2025</td>\n",
       "      <td>Proctor Academy (NH)</td>\n",
       "      <td>11/27/2023</td>\n",
       "      <td>Vermont</td>\n",
       "      <td>--</td>\n",
       "    </tr>\n",
       "  </tbody>\n",
       "</table>\n",
       "</div>"
      ],
      "text/plain": [
       "                        Name Pos  Class                        High School  \\\n",
       "0           Reilly Cereghino   M   2025        Massapequa High School (NY)   \n",
       "1            Sienna Connolly   D   2025        South Side High School (NY)   \n",
       "2                Lauren Polk   A   2025              Gerstell Academy (MD)   \n",
       "3              Lena Rockhill   A   2025  C. Milton Wright High School (MD)   \n",
       "4              Taylor Bergey   A   2025  Downingtown West High School (PA)   \n",
       "5                Aubrey Roth   A   2025         Greenwich High School (CT)   \n",
       "6         Mackenzie DelaRaba   A   2025      Sachem High School North (NY)   \n",
       "7            Jordan DiPietro   A   2025          Falmouth High School (MA)   \n",
       "8              Natalie Wirth   D   2025          Fallston High School (MD)   \n",
       "9             Maura Brownlee   D   2025             Mercy High School (MD)   \n",
       "10               Eden Ocampo   A   2025                 Tabor Academy (MA)   \n",
       "11              Brooke Picca   D   2025         Toms River High South (NJ)   \n",
       "12            Charley Drouin   A   2025      Phillips Academy Andover (MA)   \n",
       "13        Catherine Marshall   M   2025  Catholic Central High School (MI)   \n",
       "14            Savannah Libby   M   2025         Broadneck High School (MD)   \n",
       "15            Andrea Hartman   D   2025     Murrieta Mesa High School (CA)   \n",
       "16           Kendall Bennett   D   2025    Shore Regional High School (NJ)   \n",
       "17            Micaela Gillis   A   2025        Massapequa High School (NY)   \n",
       "18          Mackenzie Feiner   D   2025           The Benjamin School (FL)   \n",
       "19            Ava Harrington   D   2025         Olentangy High School (OH)   \n",
       "20              Emily Parisi   M   2025           Commack High School (NY)   \n",
       "21         Maddy Eder-Linell   G   2025    Bishop Guertin High School (NH)   \n",
       "22          Angie efstathiou   M   2025      Miller Place High School (NY)   \n",
       "23  Isabella Acevedo-Feldman   M   2025            Howell High School (NJ)   \n",
       "24            Molly Mitchell   A   2025    Suffern Senior High School (NY)   \n",
       "25          Ashlyn Carpenter   A   2025           Chatham High School (NJ)   \n",
       "26              Gabby Jondle   M   2025         Liverpool High School (NY)   \n",
       "27               Ally Melton   G   2025           Langley High School (VA)   \n",
       "28             Charlize Vang   A   2025  Benilde-St Margaret'S School (MN)   \n",
       "29                 Madi Zahn   A   2025               Proctor Academy (NH)   \n",
       "\n",
       "          Date       Commitment Rating  \n",
       "0    12/7/2023     Sacred Heart     --  \n",
       "1    12/6/2023     Northwestern     --  \n",
       "2    12/6/2023           Queens     --  \n",
       "3    12/5/2023          Radford     --  \n",
       "4    12/5/2023            Tampa     --  \n",
       "5    12/5/2023   William & Mary     --  \n",
       "6    12/4/2023         Kutztown     --  \n",
       "7    12/4/2023           Mercer     --  \n",
       "8    12/4/2023              VCU     --  \n",
       "9    12/4/2023  St. Mary's (MD)     --  \n",
       "10   12/3/2023          Vermont     --  \n",
       "11   12/3/2023         Kutztown     --  \n",
       "12   12/2/2023          Colgate     --  \n",
       "13   12/2/2023            UMass     --  \n",
       "14   12/2/2023        Salisbury     --  \n",
       "15   12/2/2023     Gardner-Webb     --  \n",
       "16   12/1/2023       Quinnipiac     --  \n",
       "17   12/1/2023     Jacksonville     --  \n",
       "18  11/30/2023   William & Mary     --  \n",
       "19  11/30/2023          Niagara     --  \n",
       "20  11/30/2023     Sacred Heart     --  \n",
       "21  11/30/2023     Sacred Heart     --  \n",
       "22  11/29/2023            Siena     --  \n",
       "23  11/29/2023     Sacred Heart     --  \n",
       "24  11/29/2023        Manhattan     --  \n",
       "25  11/29/2023     Rhode Island     --  \n",
       "26  11/29/2023         Longwood     --  \n",
       "27  11/28/2023         Monmouth     --  \n",
       "28  11/27/2023       Lindenwood     --  \n",
       "29  11/27/2023          Vermont     --  "
      ]
     },
     "execution_count": 114,
     "metadata": {},
     "output_type": "execute_result"
    }
   ],
   "source": [
    "df"
   ]
  },
  {
   "cell_type": "code",
   "execution_count": 115,
   "metadata": {},
   "outputs": [],
   "source": [
    "final_dfs.append(df)"
   ]
  },
  {
   "cell_type": "code",
   "execution_count": 116,
   "metadata": {},
   "outputs": [
    {
     "data": {
      "text/plain": [
       "8"
      ]
     },
     "execution_count": 116,
     "metadata": {},
     "output_type": "execute_result"
    }
   ],
   "source": [
    "len(final_dfs)"
   ]
  },
  {
   "cell_type": "markdown",
   "metadata": {},
   "source": [
    "### load complete table page "
   ]
  },
  {
   "cell_type": "code",
   "execution_count": 123,
   "metadata": {},
   "outputs": [],
   "source": [
    "link = 'https://www.insidelacrosse.com/recruiting/allcommitments/girls'"
   ]
  },
  {
   "cell_type": "code",
   "execution_count": 141,
   "metadata": {},
   "outputs": [
    {
     "name": "stdout",
     "output_type": "stream",
     "text": [
      "sleeping ... \n",
      "scrolling started\n"
     ]
    }
   ],
   "source": [
    "driver.get(link)\n",
    "print('sleeping ... ')\n",
    "\n",
    "sleep(5)\n",
    "print('scrolling started')\n",
    "for x in range (0,100):\n",
    "    driver.execute_script(\"window.scrollTo(0, document.body.scrollHeight);\")\n",
    "    sleep(5)  # Adding a delay to wait for the new content to load\n",
    "    # results=driver.find_elements_by_xpath('.//table[@class=\"table box table-striped\"]')\n",
    "    results=driver.find_element(By.XPATH, './/table[@class=\"table box table-striped\"]')\n",
    "\n",
    "    # table_html = results[-1].get_attribute(\"outerHTML\")\n",
    "    table_html = results.get_attribute(\"outerHTML\")\n",
    "    \n",
    "    # Use Pandas to read HTML and convert it to a DataFrame\n",
    "    df = pd.read_html(table_html)[0]\n",
    "    if df.shape[0] == 0:\n",
    "        break"
   ]
  },
  {
   "cell_type": "markdown",
   "metadata": {},
   "source": [
    "### downloading datatable"
   ]
  },
  {
   "cell_type": "code",
   "execution_count": 138,
   "metadata": {},
   "outputs": [
    {
     "name": "stdout",
     "output_type": "stream",
     "text": [
      "retrieving all data.... \n",
      "\n"
     ]
    }
   ],
   "source": [
    "final_dfs=[]\n",
    "print(\"retrieving all data.... \\n\")\n",
    "results=driver.find_elements(By.XPATH,'.//table[@class=\"table box table-striped\"]')\n"
   ]
  },
  {
   "cell_type": "code",
   "execution_count": 139,
   "metadata": {},
   "outputs": [
    {
     "data": {
      "text/plain": [
       "1"
      ]
     },
     "execution_count": 139,
     "metadata": {},
     "output_type": "execute_result"
    }
   ],
   "source": [
    "len(results)"
   ]
  },
  {
   "cell_type": "code",
   "execution_count": 140,
   "metadata": {},
   "outputs": [
    {
     "name": "stdout",
     "output_type": "stream",
     "text": [
      "(30, 7) records found\n"
     ]
    }
   ],
   "source": [
    "for each_table in results:\n",
    "\n",
    "    # Use Pandas to read HTML and convert it to a DataFrame\n",
    "    df = pd.read_html(each_table.get_attribute(\"outerHTML\"))[0]\n",
    "    final_dfs.append(df)\n",
    "result_df=pd.concat(final_dfs, axis=0, ignore_index=True)\n",
    "\n",
    "print(f\"{result_df.shape} records found\")"
   ]
  },
  {
   "cell_type": "code",
   "execution_count": null,
   "metadata": {},
   "outputs": [],
   "source": []
  }
 ],
 "metadata": {
  "kernelspec": {
   "display_name": "Python 3.8.8 ('base')",
   "language": "python",
   "name": "python3"
  },
  "language_info": {
   "codemirror_mode": {
    "name": "ipython",
    "version": 3
   },
   "file_extension": ".py",
   "mimetype": "text/x-python",
   "name": "python",
   "nbconvert_exporter": "python",
   "pygments_lexer": "ipython3",
   "version": "3.8.8"
  },
  "vscode": {
   "interpreter": {
    "hash": "dee183c1ab44ac1d4c1e637787782bfafcb5ea2442cd0a4291b50d441210934d"
   }
  }
 },
 "nbformat": 4,
 "nbformat_minor": 4
}
