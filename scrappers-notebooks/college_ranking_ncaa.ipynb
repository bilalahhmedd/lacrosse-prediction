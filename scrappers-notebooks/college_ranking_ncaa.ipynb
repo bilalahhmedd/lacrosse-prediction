{
 "cells": [
  {
   "cell_type": "code",
   "execution_count": 1,
   "metadata": {},
   "outputs": [],
   "source": [
    "import os\n",
    "from time import sleep\n",
    "import pandas as pd\n",
    "from selenium import webdriver\n",
    "from selenium.webdriver.common.by import By\n",
    "from selenium.webdriver.support import expected_conditions as EC\n",
    "from selenium.webdriver.support.wait import WebDriverWait\n",
    "from selenium.common.exceptions import TimeoutException\n",
    "\n",
    "opt = webdriver.ChromeOptions()\n",
    "opt.add_argument(\"--start-maximized\")\n",
    "opt.add_experimental_option(\"excludeSwitches\", [\"disable-popup-blocking\"])"
   ]
  },
  {
   "cell_type": "code",
   "execution_count": 2,
   "metadata": {},
   "outputs": [],
   "source": [
    "base_links={\"NCAA COLLEGE DIVISION 1 (WOMEN)\" : \"https://www.ncaa.com/rankings/lacrosse-women/d1/ncaa-womens-lacrosse-rpi\"}\n",
    "output_folder_name=\"../data/extra/college_ranking/raw/ncaa\"\n",
    "if (not os.path.exists(output_folder_name)):\n",
    "    os.mkdir(output_folder_name)\n",
    "driver = webdriver.Chrome(options=opt)"
   ]
  },
  {
   "cell_type": "code",
   "execution_count": 3,
   "metadata": {},
   "outputs": [],
   "source": [
    "\n",
    "def get_page_table():\n",
    "    \"this method will get all the entries on the page and return table as dataframe\"\n",
    "    print(\"scraping table from the page \")\n",
    "    try:\n",
    "        table_element = WebDriverWait(driver, 5).until(\n",
    "                    EC.presence_of_element_located((By.XPATH, './/article[@class=\"rankings-content overflowable-table-region layout--content-left\"]/table'))\n",
    "                )\n",
    "        \n",
    "        table_html = table_element.get_attribute(\"outerHTML\")\n",
    "        # Use Pandas to read HTML and convert it to a DataFrame\n",
    "        df = pd.read_html(table_html)[0]\n",
    "        return df \n",
    "    except TimeoutException as ex:\n",
    "        print (\"oppss!\\ntable wasnt found\\n exiting...\")\n",
    "        return False\n",
    "    except Exception as e:\n",
    "        print(\"error found ! \\n \")\n",
    "        print(e)\n",
    "        return False\n",
    "        "
   ]
  },
  {
   "cell_type": "code",
   "execution_count": 4,
   "metadata": {},
   "outputs": [],
   "source": [
    "def write_df(df, output_folder, page_category):\n",
    "    'this method will write df into csv'\n",
    "    df.to_csv(f'{output_folder}/{page_category.replace(\" \",\"-\")}.csv', index=False)\n",
    "    print(\"file saved successfully\\n\")"
   ]
  },
  {
   "cell_type": "code",
   "execution_count": 5,
   "metadata": {},
   "outputs": [
    {
     "name": "stdout",
     "output_type": "stream",
     "text": [
      "scrapping for NCAA COLLEGE DIVISION 1 (WOMEN)\n",
      "\n",
      "scraping table from the page \n",
      "file saved successfully\n",
      "\n"
     ]
    }
   ],
   "source": [
    "for key_catgory in base_links.keys():\n",
    "    print(f\"scrapping for {key_catgory}\\n\")\n",
    "    driver.get(base_links[key_catgory])\n",
    "    df=get_page_table()\n",
    "    write_df(df,output_folder_name, key_catgory)"
   ]
  },
  {
   "cell_type": "code",
   "execution_count": 6,
   "metadata": {},
   "outputs": [
    {
     "name": "stdout",
     "output_type": "stream",
     "text": [
      "file saved successfully (127, 8)\n",
      "completed successfully\n"
     ]
    }
   ],
   "source": [
    "print(f\"file saved successfully {df.shape}\")\n",
    "print(\"completed successfully\")\n",
    "driver.close()"
   ]
  },
  {
   "cell_type": "code",
   "execution_count": null,
   "metadata": {},
   "outputs": [],
   "source": [
    "\n"
   ]
  },
  {
   "cell_type": "code",
   "execution_count": null,
   "metadata": {},
   "outputs": [],
   "source": []
  },
  {
   "cell_type": "code",
   "execution_count": null,
   "metadata": {},
   "outputs": [],
   "source": []
  }
 ],
 "metadata": {
  "kernelspec": {
   "display_name": "Python 3",
   "language": "python",
   "name": "python3"
  },
  "language_info": {
   "codemirror_mode": {
    "name": "ipython",
    "version": 3
   },
   "file_extension": ".py",
   "mimetype": "text/x-python",
   "name": "python",
   "nbconvert_exporter": "python",
   "pygments_lexer": "ipython3",
   "version": "3.8.10"
  }
 },
 "nbformat": 4,
 "nbformat_minor": 4
}
