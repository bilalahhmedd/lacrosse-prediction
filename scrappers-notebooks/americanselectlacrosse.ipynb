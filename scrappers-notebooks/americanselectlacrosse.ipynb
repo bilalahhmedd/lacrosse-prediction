{
 "cells": [
  {
   "cell_type": "code",
   "execution_count": null,
   "metadata": {},
   "outputs": [],
   "source": [
    "import requests\n",
    "import os \n",
    "import pandas as pd\n",
    "from bs4 import BeautifulSoup\n",
    "header = {\"User-Agent\":\"Mozilla/5.0 Gecko/20100101 Firefox/33.0 GoogleChrome/10.0\"}"
   ]
  },
  {
   "cell_type": "code",
   "execution_count": null,
   "metadata": {},
   "outputs": [],
   "source": [
    "# !pip install bs4\n",
    "# !pip install lxml"
   ]
  },
  {
   "cell_type": "code",
   "execution_count": null,
   "metadata": {},
   "outputs": [],
   "source": [
    "# output_folder_name=\"americanselectlacrosse\"\n",
    "output_folder_name=\"../testing/americanselectlacrosse/\"\n",
    "if (not os.path.exists(output_folder_name)):\n",
    "    os.mkdir(output_folder_name)"
   ]
  },
  {
   "cell_type": "code",
   "execution_count": null,
   "metadata": {},
   "outputs": [],
   "source": [
    "links_to_scrape={\"2025-collegiate-commitments\":\"https://americanselectlacrosse.com/2025-collegiate-commitments\",\n",
    "\"2024-collegiate-commitments\":\"https://americanselectlacrosse.com/2024-collegiate-commitments\",\n",
    "\"commitments\":\"https://americanselectlacrosse.com/commitments\"}"
   ]
  },
  {
   "cell_type": "code",
   "execution_count": null,
   "metadata": {},
   "outputs": [],
   "source": [
    "for key in links_to_scrape.keys():\n",
    "    print(f\"scrapping for {key}\")\n",
    "    page = requests.get(links_to_scrape[key],headers = header)\n",
    "    soup = BeautifulSoup(page.content, 'html.parser')\n",
    "    # soup = BeautifulSoup(page.content, 'lxml')\n",
    "    main_page_table=soup.find_all(\"table\")\n",
    "    df = pd.read_html(str(main_page_table))\n",
    "    df=df[0]\n",
    "    print(f\"{df.shape} records found\")\n",
    "    df.to_csv(f\"{output_folder_name}/{key.replace(' ','_').lower()}.csv\", index =False)\n",
    "    print(\"csv SAVED\")\n",
    "    \n",
    "print(\"completed\")\n",
    "\n"
   ]
  },
  {
   "cell_type": "code",
   "execution_count": null,
   "metadata": {},
   "outputs": [],
   "source": []
  }
 ],
 "metadata": {
  "kernelspec": {
   "display_name": "Python 3.8.8 ('base')",
   "language": "python",
   "name": "python3"
  },
  "language_info": {
   "codemirror_mode": {
    "name": "ipython",
    "version": 3
   },
   "file_extension": ".py",
   "mimetype": "text/x-python",
   "name": "python",
   "nbconvert_exporter": "python",
   "pygments_lexer": "ipython3",
   "version": "3.8.8"
  },
  "vscode": {
   "interpreter": {
    "hash": "dee183c1ab44ac1d4c1e637787782bfafcb5ea2442cd0a4291b50d441210934d"
   }
  }
 },
 "nbformat": 4,
 "nbformat_minor": 4
}
