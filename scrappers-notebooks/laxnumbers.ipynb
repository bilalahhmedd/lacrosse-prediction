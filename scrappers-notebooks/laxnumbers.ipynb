{
 "cells": [
  {
   "cell_type": "code",
   "execution_count": 1,
   "metadata": {},
   "outputs": [],
   "source": [
    "import requests\n",
    "import os \n",
    "import pandas as pd\n",
    "from bs4 import BeautifulSoup\n",
    "header = {\"User-Agent\":\"Mozilla/5.0 Gecko/20100101 Firefox/33.0 GoogleChrome/10.0\"}"
   ]
  },
  {
   "cell_type": "code",
   "execution_count": 2,
   "metadata": {},
   "outputs": [],
   "source": [
    "base_link=\"https://www.laxnumbers.com/recruits.php\"\n",
    "output_folder_name=\"../testing/laxnumbers\"\n",
    "if (not os.path.exists(output_folder_name)):\n",
    "    os.mkdir(output_folder_name)"
   ]
  },
  {
   "cell_type": "code",
   "execution_count": 3,
   "metadata": {},
   "outputs": [],
   "source": [
    "page = requests.get(base_link,headers = header)\n",
    "soup = BeautifulSoup(page.content, 'html.parser')"
   ]
  },
  {
   "cell_type": "code",
   "execution_count": 4,
   "metadata": {},
   "outputs": [],
   "source": [
    "main_page_table=soup.find(\"table\")"
   ]
  },
  {
   "cell_type": "code",
   "execution_count": 5,
   "metadata": {
    "scrolled": true
   },
   "outputs": [
    {
     "name": "stdout",
     "output_type": "stream",
     "text": [
      "Getting records from Men's 2025 \n",
      "\n",
      "(710, 8) records found\n",
      "csv SAVED\n",
      "\n",
      "\n",
      "\n",
      "Getting records from Women's 2025 \n",
      "\n",
      "(1487, 8) records found\n",
      "csv SAVED\n",
      "\n",
      "\n",
      "\n",
      "Getting records from Men's 2024 \n",
      "\n",
      "(3052, 8) records found\n",
      "csv SAVED\n",
      "\n",
      "\n",
      "\n",
      "Getting records from Women's 2024 \n",
      "\n",
      "(2822, 8) records found\n",
      "csv SAVED\n",
      "\n",
      "\n",
      "\n",
      "Getting records from Men's 2023 \n",
      "\n",
      "(4122, 8) records found\n",
      "csv SAVED\n",
      "\n",
      "\n",
      "\n",
      "Getting records from Women's 2023 \n",
      "\n",
      "(3297, 8) records found\n",
      "csv SAVED\n",
      "\n",
      "\n",
      "\n",
      "Getting records from Men's 2022 \n",
      "\n",
      "(3783, 8) records found\n",
      "csv SAVED\n",
      "\n",
      "\n",
      "\n",
      "Getting records from Women's 2022 \n",
      "\n",
      "(2957, 8) records found\n",
      "csv SAVED\n",
      "\n",
      "\n",
      "\n",
      "Getting records from Men's 2021 \n",
      "\n",
      "(3828, 8) records found\n",
      "csv SAVED\n",
      "\n",
      "\n",
      "\n",
      "Getting records from Women's 2021 \n",
      "\n",
      "(2790, 8) records found\n",
      "csv SAVED\n",
      "\n",
      "\n",
      "\n",
      "Getting records from Men's 2020 \n",
      "\n",
      "(4076, 8) records found\n",
      "csv SAVED\n",
      "\n",
      "\n",
      "\n",
      "Getting records from Women's 2020 \n",
      "\n",
      "(3401, 8) records found\n",
      "csv SAVED\n",
      "\n",
      "\n",
      "\n"
     ]
    }
   ],
   "source": [
    "for link in main_page_table.find_all(\"a\"):\n",
    "    \n",
    "    final_link=(f\"https://www.laxnumbers.com/{link['href']}\")\n",
    "    table_name=link.text\n",
    "    print(f\"Getting records from {table_name}\\n\")\n",
    "    page = requests.get(final_link,headers = header)\n",
    "    soup = BeautifulSoup(page.content, 'lxml')\n",
    "    tab = soup.find(\"table\",{\"class\":\"show-recruits-table\"})\n",
    "    df = pd.read_html(str(tab))\n",
    "    df=df[0]\n",
    "    df.drop(['Fix'], axis = 1, inplace = True)\n",
    "    print(f\"{df.shape} records found\")\n",
    "    \n",
    "    df.to_csv(f\"{output_folder_name}/{table_name.replace(' ','_').lower()}.csv\", index =False)\n",
    "    \n",
    "    print(\"csv SAVED\")\n",
    "    print(\"\\n\\n\")"
   ]
  },
  {
   "cell_type": "code",
   "execution_count": null,
   "metadata": {},
   "outputs": [],
   "source": []
  },
  {
   "cell_type": "code",
   "execution_count": null,
   "metadata": {},
   "outputs": [],
   "source": [
    "# \n",
    "\n"
   ]
  },
  {
   "cell_type": "code",
   "execution_count": null,
   "metadata": {},
   "outputs": [],
   "source": []
  },
  {
   "cell_type": "code",
   "execution_count": null,
   "metadata": {},
   "outputs": [],
   "source": []
  },
  {
   "cell_type": "code",
   "execution_count": null,
   "metadata": {},
   "outputs": [],
   "source": []
  }
 ],
 "metadata": {
  "kernelspec": {
   "display_name": "Python 3.8.8 ('base')",
   "language": "python",
   "name": "python3"
  },
  "language_info": {
   "codemirror_mode": {
    "name": "ipython",
    "version": 3
   },
   "file_extension": ".py",
   "mimetype": "text/x-python",
   "name": "python",
   "nbconvert_exporter": "python",
   "pygments_lexer": "ipython3",
   "version": "3.8.8"
  },
  "vscode": {
   "interpreter": {
    "hash": "dee183c1ab44ac1d4c1e637787782bfafcb5ea2442cd0a4291b50d441210934d"
   }
  }
 },
 "nbformat": 4,
 "nbformat_minor": 4
}
