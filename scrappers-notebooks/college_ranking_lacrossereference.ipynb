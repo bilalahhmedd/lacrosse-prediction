{
 "cells": [
  {
   "cell_type": "code",
   "execution_count": null,
   "metadata": {},
   "outputs": [],
   "source": [
    "import os\n",
    "from time import sleep\n",
    "import pandas as pd\n",
    "from selenium import webdriver\n",
    "from selenium.webdriver.common.by import By\n",
    "from selenium.webdriver.support import expected_conditions as EC\n",
    "from selenium.webdriver.support.wait import WebDriverWait\n",
    "from selenium.common.exceptions import TimeoutException\n",
    "opt = webdriver.ChromeOptions()\n",
    "opt.add_argument(\"--start-maximized\")\n",
    "opt.add_experimental_option(\"excludeSwitches\", [\"disable-popup-blocking\"])"
   ]
  },
  {
   "cell_type": "code",
   "execution_count": null,
   "metadata": {},
   "outputs": [],
   "source": [
    "base_links={'LAX REFERENCE COLLEGE DIVISION 1 (WOMEN)' : 'https://lacrossereference.com/stats/rpi-d1-women/',\n",
    "            'LAX REFERENCE COLLEGE DIVISION 2 (WOMEN)': 'https://lacrossereference.com/stats/rpi-d2-women/',\n",
    "            'LAX REFERENCE COLLEGE DIVISION 3 (WOMEN)': 'https://lacrossereference.com/stats/rpi-d3-women/',\n",
    "            'LAX REFERENCE COLLEGE DIVISION 1 (MEN)': 'https://lacrossereference.com/stats/rpi-d1-men/',\n",
    "            'LAX REFERENCE COLLEGE DIVISION 2 (MEN)': 'https://lacrossereference.com/stats/rpi-d2-men/',\n",
    "            'LAX REFERENCE COLLEGE DIVISION 3 (MEN)': 'https://lacrossereference.com/stats/rpi-d3-men/'\n",
    "}\n",
    "output_folder_name=\"../data/extra/college_ranking/raw/lacrosse_reference\"\n",
    "if (not os.path.exists(output_folder_name)):\n",
    "    os.mkdir(output_folder_name)\n",
    "    print(f'{output_folder_name} created success')\n"
   ]
  },
  {
   "cell_type": "code",
   "execution_count": null,
   "metadata": {},
   "outputs": [],
   "source": [
    "def get_page_table(driver):\n",
    "    \"this method will get all the entries on the page \"\n",
    "    print(\"scrolling and getting all the rows\")\n",
    "    driver.execute_script(\"window.scrollTo(0, document.body.scrollHeight);\")\n",
    "    sleep(2)\n",
    "    try:\n",
    "        table_div = WebDriverWait(driver, 60).until(\n",
    "                    EC.presence_of_element_located((By.XPATH, './/div[@id=\"js_div\"]'))\n",
    "                )\n",
    "        sleep(3)\n",
    "        header_div=table_div.find_element(by=By.XPATH, value=f'.//div[@class=\"bbottom col-12 no-padding flex\"]')\n",
    "        # get col names\n",
    "        col_names=header_div.text.strip().split(\"\\n\")\n",
    "        col_names.insert(0, \"index\")\n",
    "        # get all the rows\n",
    "        rows_divs=table_div.find_elements(by=By.XPATH, value=f'.//div[@class=\"table-row col-12 no-padding flex\"]')\n",
    "\n",
    "        all_rows_entries_list=[]\n",
    "\n",
    "        for each_row in rows_divs:\n",
    "        #     get all cols of each row \n",
    "            each_row_entries=[]\n",
    "            index_team=each_row.find_element(by=By.XPATH, value=f'.//div[@class=\"col-2-4 left no-padding flex\"]').text\n",
    "            each_row_entries=index_team.split(\"\\n\")\n",
    "            right_cols=each_row.find_elements(by=By.XPATH, value=f'.//div[@class=\"col-10-8 no-padding\"]/ul/li')\n",
    "            for each_col in right_cols:\n",
    "                each_row_entries.append(each_col.text)\n",
    "            all_rows_entries_list.append(each_row_entries)\n",
    "        \n",
    "        \n",
    "        return col_names, all_rows_entries_list\n",
    "    except TimeoutException as ex:\n",
    "        print (\"oppss!\\ntable wasnt found\\n exiting...\")\n",
    "        return False\n",
    "    except Exception as e:\n",
    "        print(\"error found ! \\n \")\n",
    "        return False"
   ]
  },
  {
   "cell_type": "code",
   "execution_count": null,
   "metadata": {},
   "outputs": [],
   "source": [
    "def concate_n_write_df(col_names, rows_list, output_folder, page_category):\n",
    "    'this method will concatnate all the rows and write df  them into csv'\n",
    "    df = pd.DataFrame(rows_list, columns=col_names)\n",
    "    df.to_csv(f'{output_folder}/{page_category.replace(\" \",\"-\")}.csv', index=False)\n",
    "    print(\"file saved successfully\\n\")"
   ]
  },
  {
   "cell_type": "code",
   "execution_count": null,
   "metadata": {},
   "outputs": [],
   "source": [
    "driver = webdriver.Chrome(options=opt)"
   ]
  },
  {
   "cell_type": "code",
   "execution_count": null,
   "metadata": {},
   "outputs": [],
   "source": [
    "for key_catgory in base_links.keys():\n",
    "    print(f\"scrapping for {key_catgory}\\n\")\n",
    "    driver.get(base_links[key_catgory])\n",
    "    col_names, rows_list = get_page_table(driver)\n",
    "    concate_n_write_df(col_names, rows_list, output_folder_name, key_catgory)"
   ]
  },
  {
   "cell_type": "code",
   "execution_count": null,
   "metadata": {},
   "outputs": [],
   "source": [
    "print(\"completed successfully\")\n",
    "driver.close()"
   ]
  }
 ],
 "metadata": {
  "kernelspec": {
   "display_name": "Python 3",
   "language": "python",
   "name": "python3"
  },
  "language_info": {
   "codemirror_mode": {
    "name": "ipython",
    "version": 3
   },
   "file_extension": ".py",
   "mimetype": "text/x-python",
   "name": "python",
   "nbconvert_exporter": "python",
   "pygments_lexer": "ipython3",
   "version": "3.8.10"
  }
 },
 "nbformat": 4,
 "nbformat_minor": 4
}
