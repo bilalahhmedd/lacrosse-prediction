{
 "cells": [
  {
   "cell_type": "code",
   "execution_count": 88,
   "metadata": {},
   "outputs": [],
   "source": [
    "import os\n",
    "from time import sleep\n",
    "import pandas as pd\n",
    "from selenium import webdriver\n",
    "from selenium.webdriver.common.by import By\n",
    "from selenium.webdriver.support import expected_conditions as EC\n",
    "from selenium.webdriver.support.wait import WebDriverWait\n",
    "\n",
    "# import chromedriver_autoinstaller\n",
    "# chromedriver_autoinstaller.install()"
   ]
  },
  {
   "cell_type": "code",
   "execution_count": 89,
   "metadata": {},
   "outputs": [],
   "source": [
    "opt = webdriver.ChromeOptions()\n",
    "opt.add_argument(\"--start-maximized\")\n",
    "opt.add_experimental_option(\"excludeSwitches\", [\"disable-popup-blocking\"])\n",
    "opt.add_argument(\"--headless\")\n",
    "# opt.add_argument(\"--lang=en\")"
   ]
  },
  {
   "cell_type": "code",
   "execution_count": 90,
   "metadata": {},
   "outputs": [],
   "source": [
    "WRITE_FLAG=True"
   ]
  },
  {
   "cell_type": "code",
   "execution_count": 91,
   "metadata": {},
   "outputs": [
    {
     "name": "stderr",
     "output_type": "stream",
     "text": [
      "<ipython-input-91-f0dfd2c40d5b>:3: FutureWarning: The pandas.datetime class is deprecated and will be removed from pandas in a future version. Import from datetime module instead.\n",
      "  output_file_name=pd.datetime.now().strftime(\"%Y-%m-%d %H:%M:%S\")\n"
     ]
    }
   ],
   "source": [
    "root_data_folder=\"../data/raw/campsandclinincs/\"\n",
    "output_folder_name=\"mass_elite\"\n",
    "output_file_name=pd.datetime.now().strftime(\"%Y-%m-%d %H:%M:%S\")\n",
    "output_file_path = os.path.join(root_data_folder,output_folder_name)\n",
    "if (not os.path.exists(output_file_path)):\n",
    "    os.makedirs(output_file_path)\n"
   ]
  },
  {
   "cell_type": "code",
   "execution_count": 92,
   "metadata": {},
   "outputs": [],
   "source": [
    "base_link=\"https://www.masselite.com/team/college-camps-and-clinics/\""
   ]
  },
  {
   "cell_type": "code",
   "execution_count": 93,
   "metadata": {},
   "outputs": [],
   "source": [
    "def load_webpage_dynamically(\n",
    "        weblink:str,\n",
    "        driver_obj:object,\n",
    "        sleep_time=2,\n",
    "        increment=1,\n",
    "        limit=10\n",
    "    ):\n",
    "    \"\"\"to load webpage recursively\"\"\"\n",
    "    print(f'sleep time: {sleep_time} increment: {increment}')\n",
    "    print(f\"getting {weblink}\")\n",
    "    driver_obj.get(weblink)\n",
    "    if limit < sleep_time+increment:\n",
    "        return False\n",
    "    sleep(sleep_time)\n",
    "    # check if page is loaded\n",
    "    if not EC.presence_of_element_located('.//table[@class=\"tablepress tablepress-id-47 dataTable no-footer\"]'):\n",
    "        return load_webpage_dynamically(weblink=weblink,driver_obj=driver_obj,sleep_time=sleep_time+increment,increment=increment+1,limit=limit)\n",
    "    return True"
   ]
  },
  {
   "cell_type": "code",
   "execution_count": 94,
   "metadata": {},
   "outputs": [],
   "source": [
    "def fetch_table_data():\n",
    "    \"\"\" fetchs table data from loaded page \"\"\"\n",
    "    table_element = WebDriverWait(driver, 20).until(\n",
    "                EC.presence_of_element_located((By.XPATH, './/table[@class=\"tablepress tablepress-id-47 dataTable no-footer\"]'))\n",
    "            )\n",
    "    df_main =  pd.read_html(table_element.get_attribute(\"outerHTML\"))[0]\n",
    "    all_links=[]\n",
    "    rows = table_element.find_elements(by=By.XPATH, value=\".//tr\")\n",
    "    # Iterate through each row\n",
    "    for row in rows:\n",
    "        # Extract the cells of the current row\n",
    "        cells = row.find_elements(by=By.XPATH, value=\".//td\")\n",
    "        # Check if the row has cells\n",
    "        if cells:\n",
    "            # Get the last cell of the row\n",
    "            last_cell = cells[-1]\n",
    "            # Check if the last cell contains a link\n",
    "            link = last_cell.find_element(by=By.XPATH, value=\".//a[@href]\").get_attribute(\"href\")\n",
    "            all_links.append(link)\n",
    "    df_main['CAMP LINK']=all_links\n",
    "    return df_main"
   ]
  },
  {
   "cell_type": "code",
   "execution_count": 95,
   "metadata": {},
   "outputs": [],
   "source": [
    "def main():\n",
    "    \"\"\" main execution of scraping bot \"\"\"\n",
    "    driver = webdriver.Chrome(options=opt)\n",
    "    try:\n",
    "        if load_webpage_dynamically(base_link,driver):\n",
    "            print(\"featching table data now ... \")\n",
    "            output_df=fetch_table_data()\n",
    "            if WRITE_FLAG:\n",
    "                output_df.to_csv(f\"{output_file_path}/{output_file_name}.csv\")\n",
    "                print(f'completed,\\n{output_df.shape} record found, \\n {output_file_name} File saved successfully...')\n",
    "\n",
    "    except Exception as e:\n",
    "        print(f\"could fetch data, exception accured\")\n",
    "        print(e)\n",
    "    driver.close()"
   ]
  },
  {
   "cell_type": "code",
   "execution_count": 96,
   "metadata": {},
   "outputs": [
    {
     "name": "stdout",
     "output_type": "stream",
     "text": [
      "sleep time: 2 increment: 1\n",
      "getting https://www.masselite.com/team/college-camps-and-clinics/\n",
      "featching table data now ... \n",
      "completed,\n",
      "(62, 5) record found, \n",
      " 2024-04-03 17:19:38 File saved successfully...\n"
     ]
    }
   ],
   "source": [
    "main()"
   ]
  },
  {
   "cell_type": "code",
   "execution_count": null,
   "metadata": {},
   "outputs": [],
   "source": []
  }
 ],
 "metadata": {
  "kernelspec": {
   "display_name": "Python 3",
   "language": "python",
   "name": "python3"
  },
  "language_info": {
   "codemirror_mode": {
    "name": "ipython",
    "version": 3
   },
   "file_extension": ".py",
   "mimetype": "text/x-python",
   "name": "python",
   "nbconvert_exporter": "python",
   "pygments_lexer": "ipython3",
   "version": "3.8.10"
  }
 },
 "nbformat": 4,
 "nbformat_minor": 4
}
