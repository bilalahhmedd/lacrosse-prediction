{
 "cells": [
  {
   "cell_type": "code",
   "execution_count": null,
   "metadata": {},
   "outputs": [],
   "source": [
    "\n",
    "import pandas as pd\n",
    "from time import sleep\n",
    "from selenium.webdriver.common.keys import Keys\n",
    "from selenium import webdriver\n",
    "import os\n",
    "import chromedriver_autoinstaller\n",
    "from selenium.webdriver.common.action_chains import ActionChains\n",
    "\n",
    "from selenium.webdriver.common.by import By\n",
    "from selenium.webdriver.support import expected_conditions as EC\n",
    "from selenium.webdriver.support.wait import WebDriverWait\n",
    "from selenium.webdriver.support.ui import Select\n",
    "from concurrent.futures import ThreadPoolExecutor\n",
    "\n",
    "opt = webdriver.ChromeOptions()\n",
    "opt.add_argument(\"--start-maximized\")\n",
    "opt.add_experimental_option(\"excludeSwitches\", [\"disable-popup-blocking\"])\n",
    "\n",
    "# opt.add_argument(\"--lang=en\")\n",
    "\n",
    "# chromedriver_autoinstaller.install()\n",
    "\n"
   ]
  },
  {
   "cell_type": "code",
   "execution_count": null,
   "metadata": {},
   "outputs": [],
   "source": [
    "WRITE_FLAG=True"
   ]
  },
  {
   "cell_type": "code",
   "execution_count": null,
   "metadata": {},
   "outputs": [],
   "source": [
    "\n",
    "base_link=\"https://airtable.com/app4Y6v4bZxmLOcek/shrLGPI1xHHYhLflR/tblkRKZ9XVnWNQjI3?backgroundColor=green&layout=card&viewControls=on\"             \n",
    "\n",
    "# this websites only load few rows at a time in the DOM\n",
    "\n",
    "root_data_folder=\"../data/raw/campsandclinincs/\"\n",
    "output_folder_name=\"airtable\"\n",
    "output_file_name=\"airtable\"\n",
    "output_file_path = os.path.join(root_data_folder,output_folder_name)\n",
    "\n",
    "if (not os.path.exists(output_file_path)):\n",
    "    os.makedirs(output_file_path)\n",
    "\n"
   ]
  },
  {
   "cell_type": "code",
   "execution_count": null,
   "metadata": {},
   "outputs": [],
   "source": [
    "driver = webdriver.Chrome(options=opt)"
   ]
  },
  {
   "cell_type": "code",
   "execution_count": null,
   "metadata": {},
   "outputs": [],
   "source": [
    "print(f\"getting {base_link}\")\n",
    "driver.get(base_link)"
   ]
  },
  {
   "cell_type": "code",
   "execution_count": null,
   "metadata": {},
   "outputs": [],
   "source": [
    "all_ids=[]\n",
    "\n",
    "all_rows_dict=[]"
   ]
  },
  {
   "cell_type": "code",
   "execution_count": null,
   "metadata": {},
   "outputs": [],
   "source": [
    "\n",
    "continue_scrolling=True\n",
    "\n",
    "\n",
    "while continue_scrolling:\n",
    "    try:\n",
    "        \n",
    "        print(\"scrapping all rows please wait....\")\n",
    "        init_length=len(all_ids)\n",
    "\n",
    "        results=driver.find_elements(by=By.XPATH, value='.//div[@class=\"draggableRecord animate\"]')    \n",
    "    #     get all the results present in DOM\n",
    "        for rzlt in results:\n",
    "    #         check if row id is already scrapped or not \n",
    "            if rzlt.get_attribute(\"data-rowid\") not in all_ids:\n",
    "                each_row_dict={}\n",
    "\n",
    "                rzlt.find_element(by=By.XPATH, value='.//div[@class=\"col-12 mb1 truncate strong text-size-large line-height-3\"]').text\n",
    "                all_details=rzlt.find_elements(by=By.XPATH, value='.//div[@class=\"flex-none overflow-hidden pr1\"]')\n",
    "\n",
    "    #  get all the entries in each row \n",
    "                for entry in all_details:\n",
    "                    each_feild=(entry.text.split(\"\\n\"))\n",
    "                    if len(each_feild)==2:\n",
    "                        each_row_dict[each_feild[0]]=each_feild[-1]\n",
    "    # if row is empty then\n",
    "                    if len(each_feild)==1:\n",
    "\n",
    "                        each_row_dict[each_feild[0]]=\"\"\n",
    "\n",
    "\n",
    "                all_ids.append(rzlt.get_attribute(\"data-rowid\"))\n",
    "                all_rows_dict.append(each_row_dict)\n",
    "\n",
    "    #     scroll to load more results into DOM\n",
    "        driver.execute_script(\"arguments[0].scrollIntoView(true);\", results[-1])\n",
    "\n",
    "        sleep(2)\n",
    "    # check if new rows are loaded into dom or its end of page \n",
    "        if init_length == len(all_ids):\n",
    "            continue_scrolling=False\n",
    "    except Exception as e:\n",
    "        print(\"exception caught while scraping data...\")\n",
    "        print(e)\n",
    "        continue_scrolling=False\n",
    "\n",
    "# driver.close()"
   ]
  },
  {
   "cell_type": "code",
   "execution_count": null,
   "metadata": {},
   "outputs": [],
   "source": [
    "driver.close()"
   ]
  },
  {
   "cell_type": "code",
   "execution_count": null,
   "metadata": {},
   "outputs": [],
   "source": [
    "# convert list of dicts to data frame\n",
    "if WRITE_FLAG:\n",
    "\n",
    "    df_main = pd.DataFrame(all_rows_dict)\n",
    "    if df_main.shape != (0,0):\n",
    "        df_main.to_csv(f\"{output_file_path}/{output_file_name}.csv\", index=False)\n",
    "        print(f'completed,\\n{df_main.shape} record found, \\nFile saved successfully...')\n",
    "    else:\n",
    "        print('data frame is empty')\n"
   ]
  },
  {
   "cell_type": "code",
   "execution_count": null,
   "metadata": {},
   "outputs": [],
   "source": []
  },
  {
   "cell_type": "code",
   "execution_count": null,
   "metadata": {},
   "outputs": [],
   "source": [
    "\n",
    "\n",
    "    \n",
    "        "
   ]
  },
  {
   "cell_type": "code",
   "execution_count": null,
   "metadata": {},
   "outputs": [],
   "source": []
  },
  {
   "cell_type": "code",
   "execution_count": null,
   "metadata": {},
   "outputs": [],
   "source": []
  },
  {
   "cell_type": "code",
   "execution_count": null,
   "metadata": {},
   "outputs": [],
   "source": []
  }
 ],
 "metadata": {
  "kernelspec": {
   "display_name": "Python 3",
   "language": "python",
   "name": "python3"
  },
  "language_info": {
   "codemirror_mode": {
    "name": "ipython",
    "version": 3
   },
   "file_extension": ".py",
   "mimetype": "text/x-python",
   "name": "python",
   "nbconvert_exporter": "python",
   "pygments_lexer": "ipython3",
   "version": "3.8.10"
  }
 },
 "nbformat": 4,
 "nbformat_minor": 4
}
