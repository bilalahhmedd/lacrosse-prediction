{
 "cells": [
  {
   "cell_type": "code",
   "execution_count": null,
   "metadata": {},
   "outputs": [],
   "source": [
    "import os\n",
    "from time import sleep\n",
    "import pandas as pd\n",
    "from selenium import webdriver\n",
    "from selenium.webdriver.common.by import By\n",
    "from selenium.webdriver.support import expected_conditions as EC\n",
    "from selenium.webdriver.support.wait import WebDriverWait\n",
    "\n",
    "# import chromedriver_autoinstaller\n",
    "# chromedriver_autoinstaller.install()"
   ]
  },
  {
   "cell_type": "code",
   "execution_count": null,
   "metadata": {},
   "outputs": [],
   "source": [
    "opt = webdriver.ChromeOptions()\n",
    "opt.add_argument(\"--start-maximized\")\n",
    "opt.add_experimental_option(\"excludeSwitches\", [\"disable-popup-blocking\"])\n",
    "# opt.add_argument(\"--headless\")\n",
    "# opt.add_argument(\"--lang=en\")"
   ]
  },
  {
   "cell_type": "code",
   "execution_count": null,
   "metadata": {},
   "outputs": [],
   "source": [
    "WRITE_FLAG=True"
   ]
  },
  {
   "cell_type": "code",
   "execution_count": null,
   "metadata": {},
   "outputs": [],
   "source": [
    "root_data_folder=\"../data/raw/campsandclinincs/\"\n",
    "output_folder_name=\"airtable\"\n",
    "output_file_name=pd.datetime.now().strftime(\"%Y-%m-%d %H:%M:%S\")\n",
    "output_file_path = os.path.join(root_data_folder,output_folder_name)\n",
    "if (not os.path.exists(output_file_path)):\n",
    "    os.makedirs(output_file_path)\n",
    "    print(f\"{output_file_path} folder created success\")\n"
   ]
  },
  {
   "cell_type": "code",
   "execution_count": null,
   "metadata": {},
   "outputs": [],
   "source": [
    "\n",
    "base_link=\"https://airtable.com/app4Y6v4bZxmLOcek/shrLGPI1xHHYhLflR/tblkRKZ9XVnWNQjI3?backgroundColor=green&layout=card&viewControls=on\"             \n",
    "\n"
   ]
  },
  {
   "cell_type": "code",
   "execution_count": null,
   "metadata": {},
   "outputs": [],
   "source": [
    "def load_webpage_dynamically(\n",
    "        weblink:str,\n",
    "        driver_obj:object,\n",
    "        sleep_time=2,\n",
    "        increment=1,\n",
    "        limit=10\n",
    "    ):\n",
    "    \"\"\"to load webpage recursively\"\"\"\n",
    "    print(f\"getting {weblink}\")\n",
    "    print(f'sleep time: {sleep_time} increment: {increment}')\n",
    "    driver_obj.get(weblink)\n",
    "    if limit < sleep_time+increment:\n",
    "        return False\n",
    "    sleep(sleep_time)\n",
    "    # check if page is loaded\n",
    "    results = driver_obj.find_elements(by=By.XPATH,value='.//div[@class=\"draggableRecord animate\"]')\n",
    "    if len(results)==0:\n",
    "        return load_webpage_dynamically(weblink=weblink,driver_obj=driver_obj,sleep_time=sleep_time+increment,increment=increment+1,limit=limit)\n",
    "    return True"
   ]
  },
  {
   "cell_type": "code",
   "execution_count": null,
   "metadata": {},
   "outputs": [],
   "source": [
    "def fetch_webpage_table_data(\n",
    "        driver_obj:object\n",
    "):\n",
    "    \"\"\" fetch table data from weblink\"\"\"\n",
    "    all_ids=[]\n",
    "    all_rows_dict=[]\n",
    "    continue_scrolling=True\n",
    "    while continue_scrolling:\n",
    "        try:\n",
    "            print(\"scrapping all rows please wait....\")\n",
    "            init_length=len(all_ids)\n",
    "            results=driver_obj.find_elements(by=By.XPATH, value='.//div[@class=\"draggableRecord animate\"]')    \n",
    "            #     get all the results present in DOM\n",
    "            for rzlt in results:\n",
    "            #         check if row id is already scrapped or not \n",
    "                if rzlt.get_attribute(\"data-rowid\") not in all_ids:\n",
    "                    each_row_dict={}\n",
    "\n",
    "                    rzlt.find_element(by=By.XPATH, value='.//div[@class=\"col-12 mb1 truncate strong text-size-large line-height-3\"]').text\n",
    "                    all_details=rzlt.find_elements(by=By.XPATH, value='.//div[@class=\"flex-none overflow-hidden pr1\"]')\n",
    "\n",
    "            #  get all the entries in each row \n",
    "                    for entry in all_details:\n",
    "                        each_feild=(entry.text.split(\"\\n\"))\n",
    "                        if len(each_feild)==2:\n",
    "                            each_row_dict[each_feild[0]]=each_feild[-1]\n",
    "            # if row is empty then\n",
    "                        if len(each_feild)==1:\n",
    "\n",
    "                            each_row_dict[each_feild[0]]=\"\"\n",
    "\n",
    "\n",
    "                    all_ids.append(rzlt.get_attribute(\"data-rowid\"))\n",
    "                    all_rows_dict.append(each_row_dict)\n",
    "\n",
    "            #     scroll to load more results into DOM\n",
    "            driver_obj.execute_script(\"arguments[0].scrollIntoView(true);\", results[-1])\n",
    "\n",
    "            sleep(2)\n",
    "            # check if new rows are loaded into dom or its end of page \n",
    "            if init_length == len(all_ids):\n",
    "                continue_scrolling=False\n",
    "        except Exception as e:\n",
    "            print(\"exception caught while scraping data...\")\n",
    "            print(e)\n",
    "            continue_scrolling=False\n",
    "\n",
    "    return all_rows_dict"
   ]
  },
  {
   "cell_type": "code",
   "execution_count": null,
   "metadata": {},
   "outputs": [],
   "source": [
    "def main():\n",
    "    driver = webdriver.Chrome(options=opt)\n",
    "    if load_webpage_dynamically(base_link,driver):\n",
    "        all_rows_dict = fetch_webpage_table_data(driver)\n",
    "        if WRITE_FLAG:\n",
    "            df_main = pd.DataFrame(all_rows_dict)\n",
    "            if df_main.shape != (0,0):\n",
    "                df_main.to_csv(f\"{output_file_path}/{output_file_name}.csv\", index=False)\n",
    "                print(f'completed,\\n{df_main.shape} record found, \\n {output_file_name} File saved successfully...')\n",
    "            else:\n",
    "                print('data frame is empty')"
   ]
  },
  {
   "cell_type": "code",
   "execution_count": null,
   "metadata": {},
   "outputs": [],
   "source": [
    "if __name__ ==\"__main__\":\n",
    "    main()"
   ]
  }
 ],
 "metadata": {
  "kernelspec": {
   "display_name": "Python 3",
   "language": "python",
   "name": "python3"
  },
  "language_info": {
   "codemirror_mode": {
    "name": "ipython",
    "version": 3
   },
   "file_extension": ".py",
   "mimetype": "text/x-python",
   "name": "python",
   "nbconvert_exporter": "python",
   "pygments_lexer": "ipython3",
   "version": "3.8.10"
  }
 },
 "nbformat": 4,
 "nbformat_minor": 4
}
