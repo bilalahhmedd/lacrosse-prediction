{
 "cells": [
  {
   "cell_type": "code",
   "execution_count": 1,
   "metadata": {},
   "outputs": [
    {
     "ename": "NameError",
     "evalue": "name 'download_dir' is not defined",
     "output_type": "error",
     "traceback": [
      "\u001b[0;31m---------------------------------------------------------------------------\u001b[0m",
      "\u001b[0;31mNameError\u001b[0m                                 Traceback (most recent call last)",
      "\u001b[0;32m<ipython-input-1-a71d4b827556>\u001b[0m in \u001b[0;36m<module>\u001b[0;34m\u001b[0m\n\u001b[1;32m     16\u001b[0m \u001b[0mchrome_options\u001b[0m\u001b[0;34m.\u001b[0m\u001b[0madd_argument\u001b[0m\u001b[0;34m(\u001b[0m\u001b[0;34m\"--headless\"\u001b[0m\u001b[0;34m)\u001b[0m\u001b[0;34m\u001b[0m\u001b[0;34m\u001b[0m\u001b[0m\n\u001b[1;32m     17\u001b[0m chrome_options.add_experimental_option(\"prefs\", {\n\u001b[0;32m---> 18\u001b[0;31m     \u001b[0;34m\"download.default_directory\"\u001b[0m\u001b[0;34m:\u001b[0m \u001b[0;34mf\"{download_dir}\"\u001b[0m\u001b[0;34m,\u001b[0m\u001b[0;34m\u001b[0m\u001b[0;34m\u001b[0m\u001b[0m\n\u001b[0m\u001b[1;32m     19\u001b[0m     \u001b[0;34m\"download.prompt_for_download\"\u001b[0m\u001b[0;34m:\u001b[0m \u001b[0;32mFalse\u001b[0m\u001b[0;34m,\u001b[0m\u001b[0;34m\u001b[0m\u001b[0;34m\u001b[0m\u001b[0m\n\u001b[1;32m     20\u001b[0m     \u001b[0;34m\"download.directory_upgrade\"\u001b[0m\u001b[0;34m:\u001b[0m \u001b[0;32mTrue\u001b[0m\u001b[0;34m,\u001b[0m\u001b[0;34m\u001b[0m\u001b[0;34m\u001b[0m\u001b[0m\n",
      "\u001b[0;31mNameError\u001b[0m: name 'download_dir' is not defined"
     ]
    }
   ],
   "source": [
    "import pandas as pd\n",
    "from time import sleep\n",
    "from selenium.webdriver.common.keys import Keys\n",
    "from selenium import webdriver\n",
    "import os\n",
    "import chromedriver_autoinstaller\n",
    "from selenium.webdriver.common.action_chains import ActionChains\n",
    "from selenium.webdriver.chrome.options import Options\n",
    "\n",
    "from selenium.webdriver.common.by import By\n",
    "from selenium.webdriver.support import expected_conditions as EC\n",
    "from selenium.webdriver.support.wait import WebDriverWait\n",
    "from selenium.webdriver.support.ui import Select\n",
    "\n",
    "\n",
    "# chromedriver_autoinstaller.install()"
   ]
  },
  {
   "cell_type": "code",
   "execution_count": 3,
   "metadata": {},
   "outputs": [],
   "source": [
    "download_dir = f'{os.path.abspath(os.getcwd())}/temporary_clublarcose'\n",
    "chrome_options = Options()\n",
    "chrome_options.add_argument(\"--headless\")\n",
    "chrome_options.add_experimental_option(\"prefs\", {\n",
    "    \"download.default_directory\": f\"{download_dir}\",\n",
    "    \"download.prompt_for_download\": False,\n",
    "    \"download.directory_upgrade\": True,\n",
    "    \"safebrowsing.enabled\": True\n",
    "})\n",
    "chrome_options.add_argument(\"--start-maximized\")"
   ]
  },
  {
   "cell_type": "code",
   "execution_count": 4,
   "metadata": {},
   "outputs": [],
   "source": [
    "\n",
    "scrape_link=\"https://public.clublacrosse.org/commitments\"\n",
    "output_folder_name=\"../testing/clublacrosse\"\n",
    "if (not os.path.exists(output_folder_name)):\n",
    "    os.mkdir(output_folder_name)"
   ]
  },
  {
   "cell_type": "code",
   "execution_count": 5,
   "metadata": {},
   "outputs": [],
   "source": [
    "def get_csv_files(directory):\n",
    "    csv_files = [f for f in os.listdir(directory) if f.endswith('.csv')]\n",
    "    return csv_files\n"
   ]
  },
  {
   "cell_type": "code",
   "execution_count": null,
   "metadata": {},
   "outputs": [],
   "source": [
    "def load_table_recursively(weblink:str,driver,sleep_time=1,thresh_hold=1000):\n",
    "    print('sleep time: '+str(sleep_time))\n",
    "    driver.get(weblink)\n",
    "    sleep(sleep_time)\n",
    "    try:\n",
    "        driver.find_element(By.XPATH,'.//div[@row-id=\"row-group-1\"]')\n",
    "        driver.find_element(By.XPATH,'.//div[@row-id=\"row-group-0\"]')\n",
    "        print('row elements found')\n",
    "        return True\n",
    "    except:\n",
    "        if sleep_time > thresh_hold:\n",
    "            print('load_table_recursively failed with thresholdvalue: '+str(thresh_hold))\n",
    "            return False\n",
    "        return load_table_recursively(weblink=weblink,driver=driver,sleep_time=sleep_time+10,thresh_hold=thresh_hold)\n"
   ]
  },
  {
   "cell_type": "code",
   "execution_count": null,
   "metadata": {},
   "outputs": [],
   "source": []
  },
  {
   "cell_type": "code",
   "execution_count": 6,
   "metadata": {},
   "outputs": [],
   "source": [
    "driver = webdriver.Chrome(options=chrome_options)"
   ]
  },
  {
   "cell_type": "code",
   "execution_count": 20,
   "metadata": {},
   "outputs": [],
   "source": [
    "load_table_recursively(weblink=scrape_link,driver=driver,sleep_time=15,thresh_hold=100)"
   ]
  },
  {
   "cell_type": "code",
   "execution_count": 48,
   "metadata": {},
   "outputs": [],
   "source": [
    "categories={\n",
    "    \"clublacrosse_boys\": driver.find_element(By.XPATH,'.//div[@row-id=\"row-group-1\"]'),\n",
    "    \"clublacrosse_girls\": driver.find_element(By.XPATH,'.//div[@row-id=\"row-group-0\"]'),      \n",
    "}"
   ]
  },
  {
   "cell_type": "code",
   "execution_count": 47,
   "metadata": {},
   "outputs": [
    {
     "name": "stdout",
     "output_type": "stream",
     "text": [
      "geting infomation about clublacrosse_boys \n",
      "\n",
      "getting Details of the Players for Boys in the 12M Column\n",
      "\n",
      "(2435, 6) records found\n",
      "csv SAVED\n",
      "geting infomation about clublacrosse_girls \n",
      "\n",
      "getting Details of the Players for Girls in the 12M Column\n",
      "\n",
      "(2180, 6) records found\n",
      "csv SAVED\n",
      "completed...\n"
     ]
    }
   ],
   "source": [
    "for name in categories.keys():\n",
    "# name=\"clublacrosse_boys\"\n",
    "    print(f\"geting infomation about {name} \") \n",
    "\n",
    "\n",
    "    row=categories[name]\n",
    "    row.find_element(By.XPATH,'.//div[@col-id=\"12M\"]').click()\n",
    "    \n",
    "    print(f\"\"\"\\ngetting {driver.find_element(By.XPATH,'.//h2[@id=\"customized-dialog-title\"]').text}\\n\"\"\")\n",
    "    sleep(2)\n",
    "    \n",
    "    cel=driver.find_elements(By.XPATH,'.//div[@col-id=\"player_name\"]')\n",
    "    cel=cel[1]\n",
    "    actions = ActionChains(driver)\n",
    "\n",
    "    # Right-click on the div element\n",
    "    actions.context_click(cel).perform()\n",
    "    sleep(1)\n",
    "    actions.send_keys(Keys.ARROW_UP).send_keys(Keys.ARROW_RIGHT).send_keys(Keys.RETURN).perform()\n",
    "    sleep(1)\n",
    "\n",
    "    driver.find_element(By.XPATH,'.//button[@class=\"MuiButtonBase-root MuiIconButton-root MuiIconButton-sizeMedium css-bte7tm\"]').click()\n",
    "\n",
    "    while True:\n",
    "        try:\n",
    "\n",
    "            csv_files_list = get_csv_files(download_dir)\n",
    "\n",
    "            if csv_files_list:\n",
    "                break\n",
    "        except:\n",
    "            pass\n",
    "    file_name=f\"{download_dir}/export.csv\"\n",
    "    df=pd.read_csv(file_name)\n",
    "\n",
    "    try:\n",
    "        os.remove(file_name)\n",
    "    except Exception as e:\n",
    "        print(f\"An error occurred: {e}\")\n",
    "\n",
    "\n",
    "    print(f\"{df.shape} records found\")\n",
    "\n",
    "    df.to_csv(f\"{output_folder_name}/{name.replace(' ','_').lower()}.csv\", index =False)\n",
    "\n",
    "    sleep(5)\n",
    "\n",
    "    print(\"csv SAVED\")\n",
    "\n",
    "\n",
    "driver.close()\n",
    "\n",
    "print(\"completed...\")\n",
    "\n"
   ]
  },
  {
   "cell_type": "markdown",
   "metadata": {},
   "source": [
    "#### workshop area"
   ]
  },
  {
   "cell_type": "code",
   "execution_count": null,
   "metadata": {},
   "outputs": [],
   "source": [
    "# define a recursive function to load and wait website automatically"
   ]
  },
  {
   "cell_type": "code",
   "execution_count": 38,
   "metadata": {},
   "outputs": [],
   "source": [
    "def load_table_recursively(weblink:str,driver,sleep_time=1,thresh_hold=1000):\n",
    "    print('sleep time: '+str(sleep_time))\n",
    "    driver.get(weblink)\n",
    "    sleep(sleep_time)\n",
    "    try:\n",
    "        driver.find_element(By.XPATH,'.//div[@row-id=\"row-group-1\"]')\n",
    "        driver.find_element(By.XPATH,'.//div[@row-id=\"row-group-0\"]')\n",
    "        print('row elements found')\n",
    "        return True\n",
    "    except:\n",
    "        if sleep_time > thresh_hold:\n",
    "            print('load_table_recursively failed with thresholdvalue: '+str(thresh_hold))\n",
    "            return False\n",
    "        return load_table_recursively(weblink=weblink,driver=driver,sleep_time=sleep_time+10,thresh_hold=thresh_hold)\n"
   ]
  },
  {
   "cell_type": "code",
   "execution_count": null,
   "metadata": {},
   "outputs": [],
   "source": [
    "# sleep(5)\n",
    "# print(\"\\nwaiting for page to load..... \\n\")\n",
    "# while True:\n",
    "#     try:\n",
    "#         if driver.find_element(By.XPATH,'.//div[@class=\"ag-root-wrapper ag-ltr ag-layout-normal\"]'):\n",
    "#             print(\"page loaded...\")\n",
    "#             sleep(2)\n",
    "#             break\n",
    "#     except:\n",
    "#         print('exception')\n",
    "#         # sleep(10)\n",
    "#         pass"
   ]
  },
  {
   "cell_type": "code",
   "execution_count": 44,
   "metadata": {},
   "outputs": [
    {
     "name": "stdout",
     "output_type": "stream",
     "text": [
      "sleep time: 5\n",
      "sleep time: 15\n",
      "sleep time: 25\n",
      "sleep time: 35\n",
      "row elements found\n"
     ]
    },
    {
     "data": {
      "text/plain": [
       "True"
      ]
     },
     "execution_count": 44,
     "metadata": {},
     "output_type": "execute_result"
    }
   ],
   "source": [
    "driver = webdriver.Chrome(options=chrome_options)\n"
   ]
  },
  {
   "cell_type": "code",
   "execution_count": 45,
   "metadata": {},
   "outputs": [],
   "source": [
    "categories={\n",
    "    \"clublacrosse_boys\": driver.find_element(By.XPATH,'.//div[@row-id=\"row-group-1\"]'),\n",
    "    \"clublacrosse_girls\": driver.find_element(By.XPATH,'.//div[@row-id=\"row-group-0\"]'),      \n",
    "}"
   ]
  },
  {
   "cell_type": "code",
   "execution_count": 46,
   "metadata": {},
   "outputs": [
    {
     "data": {
      "text/plain": [
       "{'clublacrosse_boys': <selenium.webdriver.remote.webelement.WebElement (session=\"36d59a8f0efd064d27b3d86414c64c00\", element=\"ed8a6117-f6e5-4d8a-8a5d-c52789e62b53\")>,\n",
       " 'clublacrosse_girls': <selenium.webdriver.remote.webelement.WebElement (session=\"36d59a8f0efd064d27b3d86414c64c00\", element=\"a194caf7-9001-4033-909f-19b6ae2fb5af\")>}"
      ]
     },
     "execution_count": 46,
     "metadata": {},
     "output_type": "execute_result"
    }
   ],
   "source": [
    "categories"
   ]
  },
  {
   "cell_type": "code",
   "execution_count": null,
   "metadata": {},
   "outputs": [],
   "source": []
  }
 ],
 "metadata": {
  "kernelspec": {
   "display_name": "Python 3.8.10 64-bit",
   "language": "python",
   "name": "python3"
  },
  "language_info": {
   "codemirror_mode": {
    "name": "ipython",
    "version": 3
   },
   "file_extension": ".py",
   "mimetype": "text/x-python",
   "name": "python",
   "nbconvert_exporter": "python",
   "pygments_lexer": "ipython3",
   "version": "3.8.10"
  },
  "vscode": {
   "interpreter": {
    "hash": "31f2aee4e71d21fbe5cf8b01ff0e069b9275f58929596ceb00d14d90e3e16cd6"
   }
  }
 },
 "nbformat": 4,
 "nbformat_minor": 4
}
