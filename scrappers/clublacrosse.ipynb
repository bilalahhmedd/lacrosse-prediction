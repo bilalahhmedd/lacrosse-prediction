{
 "cells": [
  {
   "cell_type": "code",
   "execution_count": null,
   "metadata": {},
   "outputs": [],
   "source": [
    "import pandas as pd\n",
    "from time import sleep\n",
    "from selenium.webdriver.common.keys import Keys\n",
    "from selenium import webdriver\n",
    "import os\n",
    "import chromedriver_autoinstaller\n",
    "from selenium.webdriver.common.action_chains import ActionChains\n",
    "from selenium.webdriver.chrome.options import Options\n",
    "\n",
    "from selenium.webdriver.common.by import By\n",
    "from selenium.webdriver.support import expected_conditions as EC\n",
    "from selenium.webdriver.support.wait import WebDriverWait\n",
    "from selenium.webdriver.support.ui import Select\n",
    "\n",
    "\n",
    "# chromedriver_autoinstaller.install()"
   ]
  },
  {
   "cell_type": "code",
   "execution_count": null,
   "metadata": {},
   "outputs": [],
   "source": [
    "download_dir = f'{os.path.abspath(os.getcwd())}/temporary_clublarcose'\n",
    "chrome_options = Options()\n",
    "chrome_options.add_argument(\"--headless\")\n",
    "chrome_options.add_experimental_option(\"prefs\", {\n",
    "    \"download.default_directory\": f\"{download_dir}\",\n",
    "    \"download.prompt_for_download\": False,\n",
    "    \"download.directory_upgrade\": True,\n",
    "    \"safebrowsing.enabled\": True\n",
    "})\n",
    "chrome_options.add_argument(\"--start-maximized\")"
   ]
  },
  {
   "cell_type": "code",
   "execution_count": null,
   "metadata": {},
   "outputs": [],
   "source": [
    "\n",
    "scrape_link=\"https://public.clublacrosse.org/commitments\"\n",
    "output_folder_name=\"../testing/clublacrosse\"\n",
    "if (not os.path.exists(output_folder_name)):\n",
    "    os.mkdir(output_folder_name)"
   ]
  },
  {
   "cell_type": "code",
   "execution_count": null,
   "metadata": {},
   "outputs": [],
   "source": [
    "def get_csv_files(directory):\n",
    "    csv_files = [f for f in os.listdir(directory) if f.endswith('.csv')]\n",
    "    return csv_files\n"
   ]
  },
  {
   "cell_type": "code",
   "execution_count": null,
   "metadata": {},
   "outputs": [],
   "source": [
    "def load_table_recursively(weblink:str,driver,sleep_time=1,thresh_hold=1000):\n",
    "    print('sleep time: '+str(sleep_time))\n",
    "    driver.get(weblink)\n",
    "    sleep(sleep_time)\n",
    "    try:\n",
    "        driver.find_element(By.XPATH,'.//div[@row-id=\"row-group-1\"]')\n",
    "        driver.find_element(By.XPATH,'.//div[@row-id=\"row-group-0\"]')\n",
    "        print('row elements found')\n",
    "        return True\n",
    "    except:\n",
    "        if sleep_time > thresh_hold:\n",
    "            print('load_table_recursively failed with thresholdvalue: '+str(thresh_hold))\n",
    "            return False\n",
    "        return load_table_recursively(weblink=weblink,driver=driver,sleep_time=sleep_time+10,thresh_hold=thresh_hold)\n"
   ]
  },
  {
   "cell_type": "code",
   "execution_count": null,
   "metadata": {},
   "outputs": [],
   "source": [
    "driver = webdriver.Chrome(options=chrome_options)"
   ]
  },
  {
   "cell_type": "code",
   "execution_count": null,
   "metadata": {},
   "outputs": [],
   "source": [
    "load_table_recursively(weblink=scrape_link,driver=driver,sleep_time=15,thresh_hold=100)"
   ]
  },
  {
   "cell_type": "code",
   "execution_count": null,
   "metadata": {},
   "outputs": [],
   "source": [
    "categories={\n",
    "    \"clublacrosse_boys\": driver.find_element(By.XPATH,'.//div[@row-id=\"row-group-1\"]'),\n",
    "    \"clublacrosse_girls\": driver.find_element(By.XPATH,'.//div[@row-id=\"row-group-0\"]'),      \n",
    "}"
   ]
  },
  {
   "cell_type": "code",
   "execution_count": null,
   "metadata": {},
   "outputs": [],
   "source": [
    "for name in categories.keys():\n",
    "    print(f\"geting infomation about {name} \") \n",
    "\n",
    "\n",
    "    row=categories[name]\n",
    "    row.find_element(By.XPATH,'.//div[@col-id=\"12M\"]').click()\n",
    "    \n",
    "    print(f\"\"\"\\ngetting {driver.find_element(By.XPATH,'.//h2[@id=\"customized-dialog-title\"]').text}\\n\"\"\")\n",
    "    sleep(2)\n",
    "    \n",
    "    cel=driver.find_elements(By.XPATH,'.//div[@col-id=\"player_name\"]')\n",
    "    cel=cel[1]\n",
    "    actions = ActionChains(driver)\n",
    "\n",
    "    # Right-click on the div element\n",
    "    actions.context_click(cel).perform()\n",
    "    sleep(1)\n",
    "    actions.send_keys(Keys.ARROW_UP).send_keys(Keys.ARROW_RIGHT).send_keys(Keys.RETURN).perform()\n",
    "    sleep(1)\n",
    "\n",
    "    driver.find_element(By.XPATH,'.//button[@class=\"MuiButtonBase-root MuiIconButton-root MuiIconButton-sizeMedium css-bte7tm\"]').click()\n",
    "\n",
    "    while True:\n",
    "        try:\n",
    "\n",
    "            csv_files_list = get_csv_files(download_dir)\n",
    "\n",
    "            if csv_files_list:\n",
    "                break\n",
    "        except:\n",
    "            pass\n",
    "    file_name=f\"{download_dir}/export.csv\"\n",
    "    df=pd.read_csv(file_name)\n",
    "\n",
    "    try:\n",
    "        os.remove(file_name)\n",
    "    except Exception as e:\n",
    "        print(f\"An error occurred: {e}\")\n",
    "\n",
    "\n",
    "    print(f\"{df.shape} records found\")\n",
    "\n",
    "    df.to_csv(f\"{output_folder_name}/{name.replace(' ','_').lower()}.csv\", index =False)\n",
    "\n",
    "    sleep(5)\n",
    "\n",
    "    print(\"csv SAVED\")\n",
    "\n",
    "\n",
    "driver.close()\n",
    "\n",
    "print(\"completed...\")\n",
    "\n"
   ]
  }
 ],
 "metadata": {
  "kernelspec": {
   "display_name": "Python 3.8.10 64-bit",
   "language": "python",
   "name": "python3"
  },
  "language_info": {
   "codemirror_mode": {
    "name": "ipython",
    "version": 3
   },
   "file_extension": ".py",
   "mimetype": "text/x-python",
   "name": "python",
   "nbconvert_exporter": "python",
   "pygments_lexer": "ipython3",
   "version": "3.8.10"
  },
  "vscode": {
   "interpreter": {
    "hash": "31f2aee4e71d21fbe5cf8b01ff0e069b9275f58929596ceb00d14d90e3e16cd6"
   }
  }
 },
 "nbformat": 4,
 "nbformat_minor": 4
}
