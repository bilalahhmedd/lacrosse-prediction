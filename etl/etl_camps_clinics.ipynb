{
 "cells": [
  {
   "cell_type": "code",
   "execution_count": null,
   "metadata": {},
   "outputs": [],
   "source": [
    "\"\"\" this notebook provides etl to extract and transform camps and clinics data\"\"\""
   ]
  },
  {
   "cell_type": "code",
   "execution_count": null,
   "metadata": {},
   "outputs": [],
   "source": [
    "import os\n",
    "import pandas as pd"
   ]
  },
  {
   "cell_type": "code",
   "execution_count": null,
   "metadata": {},
   "outputs": [],
   "source": [
    "from data_helper import get_csv_dataframes_from_folder\n",
    "from data_helper import set_col_names_lower,set_col_names_underscore_separated\n",
    "from data_helper import drop_unnamed_columns"
   ]
  },
  {
   "cell_type": "code",
   "execution_count": null,
   "metadata": {},
   "outputs": [],
   "source": [
    "WRITE_FLAG=True"
   ]
  },
  {
   "cell_type": "markdown",
   "metadata": {},
   "source": [
    "### Airtable data processing"
   ]
  },
  {
   "cell_type": "code",
   "execution_count": null,
   "metadata": {},
   "outputs": [],
   "source": [
    "csv_dfs = get_csv_dataframes_from_folder('../data/raw/campsandclinincs/airtable')"
   ]
  },
  {
   "cell_type": "code",
   "execution_count": null,
   "metadata": {},
   "outputs": [],
   "source": [
    "list_of_dfs = [df for file_name, df in csv_dfs.items()]\n"
   ]
  },
  {
   "cell_type": "code",
   "execution_count": null,
   "metadata": {},
   "outputs": [],
   "source": [
    "airtable_df=pd.concat(list_of_dfs).drop_duplicates()\n",
    "airtable_df.shape"
   ]
  },
  {
   "cell_type": "code",
   "execution_count": null,
   "metadata": {},
   "outputs": [],
   "source": [
    "airtable_df_final=drop_unnamed_columns(set_col_names_underscore_separated(set_col_names_lower(airtable_df)))\n",
    "airtable_df_final['websource']='airtable'\n",
    "airtable_df_final"
   ]
  },
  {
   "cell_type": "code",
   "execution_count": null,
   "metadata": {},
   "outputs": [],
   "source": [
    "airtable_df_final.to_csv('../data/campsandclinics/bronze/airtable.csv',index=False)"
   ]
  },
  {
   "cell_type": "markdown",
   "metadata": {},
   "source": [
    "#### Mass Elite"
   ]
  },
  {
   "cell_type": "code",
   "execution_count": null,
   "metadata": {},
   "outputs": [],
   "source": [
    "csv_dfs = get_csv_dataframes_from_folder('../data/raw/campsandclinincs/mass_elite/')\n",
    "list(csv_dfs)"
   ]
  },
  {
   "cell_type": "code",
   "execution_count": null,
   "metadata": {},
   "outputs": [],
   "source": [
    "list_dfs = [df.drop(df.columns[[0]],axis=1) for file_name, df in csv_dfs.items()]\n",
    "mass_elite_df = pd.concat(list_dfs).drop_duplicates()\n",
    "mass_elite_df"
   ]
  },
  {
   "cell_type": "code",
   "execution_count": null,
   "metadata": {},
   "outputs": [],
   "source": [
    "mass_elite_df_final=drop_unnamed_columns(set_col_names_underscore_separated(set_col_names_lower(mass_elite_df)))\n",
    "mass_elite_df_final=mass_elite_df_final.rename(columns={'camp_link':'link'})\n",
    "mass_elite_df_final['websource']='masselite'\n",
    "mass_elite_df_final"
   ]
  },
  {
   "cell_type": "code",
   "execution_count": null,
   "metadata": {},
   "outputs": [],
   "source": [
    "mass_elite_df_final.to_csv('../data/campsandclinics/bronze/mass_elite.csv',index=False)"
   ]
  },
  {
   "cell_type": "markdown",
   "metadata": {},
   "source": [
    "#### combine into one dataframe"
   ]
  },
  {
   "cell_type": "code",
   "execution_count": null,
   "metadata": {},
   "outputs": [],
   "source": [
    "camps_clinics_df = pd.concat([airtable_df_final,mass_elite_df_final])\n",
    "camps_clinics_df"
   ]
  },
  {
   "cell_type": "markdown",
   "metadata": {},
   "source": [
    "#### Load into database"
   ]
  },
  {
   "cell_type": "code",
   "execution_count": null,
   "metadata": {},
   "outputs": [],
   "source": [
    "#   open connection to database\n",
    "#   load data into target database"
   ]
  },
  {
   "cell_type": "code",
   "execution_count": null,
   "metadata": {},
   "outputs": [],
   "source": [
    "import mysql.connector"
   ]
  },
  {
   "cell_type": "code",
   "execution_count": null,
   "metadata": {},
   "outputs": [],
   "source": [
    "# creds\n",
    "host = '182.75.105.186'\n",
    "dev_port = '33096'\n",
    "dev_database = 'lacrosse-pre-dev'\n",
    "password='L@crosse753'\n",
    "user='lacrosse'"
   ]
  },
  {
   "cell_type": "code",
   "execution_count": null,
   "metadata": {},
   "outputs": [],
   "source": [
    "# cnn = mysql.connector.connect(host =host, user = user, password = password, db = dev_database,port=dev_port)"
   ]
  },
  {
   "cell_type": "code",
   "execution_count": null,
   "metadata": {},
   "outputs": [],
   "source": [
    "# cursor = cnn.cursor()"
   ]
  },
  {
   "cell_type": "code",
   "execution_count": null,
   "metadata": {},
   "outputs": [],
   "source": [
    "# cursor = cnn.cursor()\n",
    "# cursor.execute(\"SHOW DATABASES\")\n",
    "# for (databases) in cursor:\n",
    "#     print(databases[0])"
   ]
  },
  {
   "cell_type": "code",
   "execution_count": null,
   "metadata": {},
   "outputs": [],
   "source": [
    "from urllib.parse import quote\n",
    "from sqlalchemy.engine import create_engine\n",
    "engine = create_engine('mysql+mysqlconnector://lacrosse:%s@182.75.105.186:33096/lacrosse-pre-dev' % quote(password))"
   ]
  },
  {
   "cell_type": "code",
   "execution_count": null,
   "metadata": {},
   "outputs": [],
   "source": [
    "# write data into table\n",
    "camps_clinics_df.to_sql('camps_and_clinics',engine,if_exists='append',index=False)"
   ]
  },
  {
   "cell_type": "code",
   "execution_count": null,
   "metadata": {},
   "outputs": [],
   "source": []
  }
 ],
 "metadata": {
  "kernelspec": {
   "display_name": "Python 3",
   "language": "python",
   "name": "python3"
  },
  "language_info": {
   "codemirror_mode": {
    "name": "ipython",
    "version": 3
   },
   "file_extension": ".py",
   "mimetype": "text/x-python",
   "name": "python",
   "nbconvert_exporter": "python",
   "pygments_lexer": "ipython3",
   "version": "3.8.10"
  }
 },
 "nbformat": 4,
 "nbformat_minor": 2
}
