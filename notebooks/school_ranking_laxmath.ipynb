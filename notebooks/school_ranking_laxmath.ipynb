{
 "cells": [
  {
   "cell_type": "code",
   "execution_count": null,
   "metadata": {},
   "outputs": [],
   "source": [
    "import os\n",
    "from time import sleep\n",
    "import pandas as pd\n",
    "from selenium import webdriver\n",
    "from selenium.webdriver.common.by import By\n",
    "from selenium.webdriver.support import expected_conditions as EC\n",
    "from selenium.webdriver.support.wait import WebDriverWait\n",
    "from selenium.common.exceptions import TimeoutException\n",
    "\n",
    "opt = webdriver.ChromeOptions()\n",
    "opt.add_argument(\"--start-maximized\")\n",
    "opt.add_experimental_option(\"excludeSwitches\", [\"disable-popup-blocking\"])"
   ]
  },
  {
   "cell_type": "code",
   "execution_count": null,
   "metadata": {},
   "outputs": [],
   "source": [
    "output_folder_name=\"../data/extra/school_ranking/raw/laxmath/\"\n",
    "if (not os.path.exists(output_folder_name)):\n",
    "    os.makedirs(output_folder_name)\n",
    "    print(f'{output_folder_name} created success')"
   ]
  },
  {
   "cell_type": "code",
   "execution_count": null,
   "metadata": {},
   "outputs": [],
   "source": [
    "\n",
    "def get_page_table(driver,last_df):\n",
    "    \"this method will get all the entries on the page and return table as dataframe\"\n",
    "    driver.execute_script(\"window.scrollTo(0, document.body.scrollHeight);\")\n",
    "    sleep(2)\n",
    "    while True:\n",
    "        try:\n",
    "            table_element = WebDriverWait(driver, 60).until(\n",
    "                        EC.presence_of_element_located((By.XPATH, './/table[@id=\"dtBasicExample\"]'))\n",
    "                    )\n",
    "            table_html = table_element.get_attribute(\"outerHTML\")\n",
    "            # Use Pandas to read HTML and convert it to a DataFrame\n",
    "            df = pd.read_html(table_html)[0]\n",
    "        except TimeoutException as ex:\n",
    "            print (\"oppss!\\ntable wasnt found\\n exiting...\")\n",
    "            return False\n",
    "        except Exception as e:\n",
    "            print(\"error found ! \\n \")\n",
    "            return False\n",
    "#         to check after clicking next page button the table values are changer or not\n",
    "        if df.equals(last_df):\n",
    "            sleep(2)\n",
    "        else:\n",
    "            return df"
   ]
  },
  {
   "cell_type": "code",
   "execution_count": null,
   "metadata": {},
   "outputs": [],
   "source": [
    "def next_page(driver):\n",
    "    \"this method will check the avilability of next page and move to it \"\n",
    "    print (\"moving onto the next page\")\n",
    "    try:\n",
    "        next_page_button = WebDriverWait(driver, 5).until(\n",
    "        EC.presence_of_element_located((By.XPATH, './/a[@class=\"paginate_button next\"]')))\n",
    "        sleep(1)\n",
    "        next_page_button.click()\n",
    "        return True\n",
    "    except TimeoutException as ex:\n",
    "         try:\n",
    "            WebDriverWait(driver, 5).until(\n",
    "            EC.presence_of_element_located((By.XPATH, './/a[@class=\"paginate_button next disabled\"]')))\n",
    "            sleep(1)\n",
    "            print (\"reached on last page \")\n",
    "         except TimeoutException as ex:\n",
    "            print (\"oppss! \\ next page button wasnt found\\n exiting...\")\n",
    "         return False\n",
    "    except Exception as e:\n",
    "        print(\"error found ! \\n \")\n",
    "        print(e)\n",
    "        return False"
   ]
  },
  {
   "cell_type": "code",
   "execution_count": null,
   "metadata": {},
   "outputs": [],
   "source": [
    "def concate_n_write_dfs(list_of_dfs, output_folder, page_category):\n",
    "    'this method will concatnate all the dfs and write them into csv'\n",
    "    appended_df = pd.concat(list_of_dfs, ignore_index=True)\n",
    "    appended_df.to_csv(f'{output_folder}/{page_category.replace(\" \",\"-\")}.csv', index=False)\n",
    "    print(\"file saved successfully\\n\")"
   ]
  },
  {
   "cell_type": "code",
   "execution_count": null,
   "metadata": {},
   "outputs": [],
   "source": [
    "base_links={\n",
    "    'boys' : 'https://laxmath.com/boys/rating001x.php',\n",
    "    'girls': 'https://laxmath.com/girls/rating001x.php#'\n",
    "    }"
   ]
  },
  {
   "cell_type": "code",
   "execution_count": null,
   "metadata": {},
   "outputs": [],
   "source": [
    "driver = webdriver.Chrome(options=opt)"
   ]
  },
  {
   "cell_type": "code",
   "execution_count": null,
   "metadata": {},
   "outputs": [],
   "source": [
    "for key_catgory in base_links.keys():\n",
    "    print(f\"scrapping for {key_catgory}\\n\")\n",
    "    driver.get(base_links[key_catgory])\n",
    "    sleep(5)\n",
    "    last_df = pd.DataFrame()\n",
    "    all_dfs_list = []\n",
    "    while True:\n",
    "        each_page_df = get_page_table(driver,last_df)\n",
    "        # Check if the result is a DataFrame or False\n",
    "        if isinstance(each_page_df, pd.DataFrame):\n",
    "            all_dfs_list.append(each_page_df)\n",
    "            last_df = each_page_df\n",
    "        else:\n",
    "            break\n",
    "        if not next_page(driver):\n",
    "            break\n",
    "    concate_n_write_dfs(all_dfs_list, output_folder_name, key_catgory)"
   ]
  },
  {
   "cell_type": "code",
   "execution_count": null,
   "metadata": {},
   "outputs": [],
   "source": [
    "print(\"completed successfully\")\n",
    "# driver.close()"
   ]
  }
 ],
 "metadata": {
  "kernelspec": {
   "display_name": "Python 3",
   "language": "python",
   "name": "python3"
  },
  "language_info": {
   "codemirror_mode": {
    "name": "ipython",
    "version": 3
   },
   "file_extension": ".py",
   "mimetype": "text/x-python",
   "name": "python",
   "nbconvert_exporter": "python",
   "pygments_lexer": "ipython3",
   "version": "3.8.10"
  }
 },
 "nbformat": 4,
 "nbformat_minor": 4
}
