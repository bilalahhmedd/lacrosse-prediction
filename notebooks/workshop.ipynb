{
 "cells": [
  {
   "cell_type": "code",
   "execution_count": null,
   "metadata": {},
   "outputs": [],
   "source": [
    "import os\n",
    "import sys\n",
    "sys.path.insert(1,os.path.join(os.path.realpath('__file__').split(\"lacrosse-prediction\")[0],'lacrosse-prediction'))\n"
   ]
  },
  {
   "cell_type": "markdown",
   "metadata": {},
   "source": [
    "#### Generate Data Folder for given Category"
   ]
  },
  {
   "cell_type": "code",
   "execution_count": null,
   "metadata": {},
   "outputs": [],
   "source": [
    "from etl.etl_helper import create_data_folders"
   ]
  },
  {
   "cell_type": "code",
   "execution_count": null,
   "metadata": {},
   "outputs": [],
   "source": [
    "from config.config import category_config_dict\n",
    "from config.config import DATA_FOLDER_PATH"
   ]
  },
  {
   "cell_type": "code",
   "execution_count": null,
   "metadata": {},
   "outputs": [],
   "source": [
    "testing_category_dict = category_config_dict['testing']"
   ]
  },
  {
   "cell_type": "code",
   "execution_count": null,
   "metadata": {},
   "outputs": [],
   "source": [
    "create_data_folders(\n",
    "    testing_category_dict['category_name'],\n",
    "    DATA_FOLDER_PATH,\n",
    "    testing_category_dict['websources_list']\n",
    "    )"
   ]
  },
  {
   "cell_type": "code",
   "execution_count": null,
   "metadata": {},
   "outputs": [],
   "source": [
    "def gen_data_folder_paths(\n",
    "        category_name:str,\n",
    "        path:str,\n",
    "        data_layers=['raw','bronze','silver','gold']\n",
    "        ):\n",
    "    return os.path.join(path,category_name,data_layers[0]),os.path.join(path,category_name,data_layers[1]),os.path.join(path,category_name,data_layers[2]),os.path.join(path,category_name,data_layers[3])"
   ]
  },
  {
   "cell_type": "markdown",
   "metadata": {},
   "source": [
    "#### Put data in raw folder using scraper"
   ]
  },
  {
   "cell_type": "code",
   "execution_count": null,
   "metadata": {},
   "outputs": [],
   "source": [
    "gen_data_folder_paths('testing',DATA_FOLDER_PATH)"
   ]
  },
  {
   "cell_type": "code",
   "execution_count": null,
   "metadata": {},
   "outputs": [],
   "source": [
    "# we do it mannual here"
   ]
  },
  {
   "cell_type": "markdown",
   "metadata": {},
   "source": [
    "#### Run ETL to process data"
   ]
  },
  {
   "cell_type": "code",
   "execution_count": null,
   "metadata": {},
   "outputs": [],
   "source": [
    "import pandas as pd"
   ]
  },
  {
   "cell_type": "code",
   "execution_count": null,
   "metadata": {},
   "outputs": [],
   "source": [
    "from etl.etl_helper import process_raw_to_bronze, process_bronze_to_silver, process_silver_to_gold"
   ]
  },
  {
   "cell_type": "code",
   "execution_count": null,
   "metadata": {},
   "outputs": [],
   "source": [
    "CATEGORY_NAME = testing_category_dict['category_name']\n",
    "print(CATEGORY_NAME)\n",
    "SOURCE_FOLDERS = testing_category_dict['websources_list']\n",
    "SOURCE_FOLDERS"
   ]
  },
  {
   "cell_type": "code",
   "execution_count": null,
   "metadata": {},
   "outputs": [],
   "source": [
    "process_raw_to_bronze(os.path.join(DATA_FOLDER_PATH,CATEGORY_NAME,'raw'),os.path.join(DATA_FOLDER_PATH,CATEGORY_NAME,'bronze'))"
   ]
  },
  {
   "cell_type": "code",
   "execution_count": null,
   "metadata": {},
   "outputs": [],
   "source": [
    "# add some functionality there\n"
   ]
  },
  {
   "cell_type": "code",
   "execution_count": null,
   "metadata": {},
   "outputs": [],
   "source": [
    "# now process from bronze to silver layer\n",
    "process_bronze_to_silver(os.path.join(DATA_FOLDER_PATH,CATEGORY_NAME,'bronze'),os.path.join(DATA_FOLDER_PATH,CATEGORY_NAME,'silver'))"
   ]
  },
  {
   "cell_type": "code",
   "execution_count": null,
   "metadata": {},
   "outputs": [],
   "source": [
    "# now process from bronze to silver layer\n",
    "process_silver_to_gold(os.path.join(DATA_FOLDER_PATH,CATEGORY_NAME,'silver'),os.path.join(DATA_FOLDER_PATH,CATEGORY_NAME,'gold'),CATEGORY_NAME+'.csv')"
   ]
  },
  {
   "cell_type": "code",
   "execution_count": null,
   "metadata": {},
   "outputs": [],
   "source": [
    "# move file from gold stage to final stage folder"
   ]
  },
  {
   "cell_type": "markdown",
   "metadata": {},
   "source": [
    "#### Create DB tables "
   ]
  },
  {
   "cell_type": "markdown",
   "metadata": {},
   "source": []
  },
  {
   "cell_type": "code",
   "execution_count": null,
   "metadata": {},
   "outputs": [],
   "source": [
    "# get connction from db connector\n",
    "# get schema for table\n",
    "# execute query to create schema in database\n"
   ]
  },
  {
   "cell_type": "code",
   "execution_count": null,
   "metadata": {},
   "outputs": [],
   "source": [
    "CSV_FILE_PATH = '../data/final_stage/testing.csv'\n",
    "TARGET_TABLE_NAME = 'testingTable'\n",
    "unique_index_cols=[]"
   ]
  },
  {
   "cell_type": "code",
   "execution_count": null,
   "metadata": {},
   "outputs": [],
   "source": [
    "from etl.db_and_schema_helper import gen_table_schema_create_query\n",
    "from etl.db_and_schema_helper import query_column_types_map\n",
    "from etl.db_and_schema_helper import dev_db_cnn\n",
    "from etl.db_and_schema_helper import engine\n",
    "from etl.db_and_schema_helper import table_exist\n",
    "from etl.db_and_schema_helper import load_df_to_database"
   ]
  },
  {
   "cell_type": "code",
   "execution_count": null,
   "metadata": {},
   "outputs": [],
   "source": [
    "schema_query=gen_table_schema_create_query(\n",
    "    pd.read_csv(CSV_FILE_PATH),\n",
    "    TARGET_TABLE_NAME,\n",
    "    query_column_types_map,\n",
    "    unique_index_columns=['event','event_date','gender','state','web_source']\n",
    ")\n",
    "\n",
    "print(schema_query)"
   ]
  },
  {
   "cell_type": "code",
   "execution_count": null,
   "metadata": {},
   "outputs": [],
   "source": [
    "if not table_exist(TARGET_TABLE_NAME,engine):\n",
    "    dev_db_cnn._execute_query(schema_query)\n",
    "    print(\"table create success\")\n"
   ]
  },
  {
   "cell_type": "code",
   "execution_count": null,
   "metadata": {},
   "outputs": [],
   "source": [
    "load_df_to_database(pd.read_csv(CSV_FILE_PATH),TARGET_TABLE_NAME,engine,unique_index_cols)"
   ]
  },
  {
   "cell_type": "code",
   "execution_count": null,
   "metadata": {},
   "outputs": [],
   "source": []
  }
 ],
 "metadata": {
  "kernelspec": {
   "display_name": "Python 3.8.10 64-bit",
   "language": "python",
   "name": "python3"
  },
  "language_info": {
   "codemirror_mode": {
    "name": "ipython",
    "version": 3
   },
   "file_extension": ".py",
   "mimetype": "text/x-python",
   "name": "python",
   "nbconvert_exporter": "python",
   "pygments_lexer": "ipython3",
   "version": "3.8.10"
  },
  "orig_nbformat": 4,
  "vscode": {
   "interpreter": {
    "hash": "31f2aee4e71d21fbe5cf8b01ff0e069b9275f58929596ceb00d14d90e3e16cd6"
   }
  }
 },
 "nbformat": 4,
 "nbformat_minor": 2
}
